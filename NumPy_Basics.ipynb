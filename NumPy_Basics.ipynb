{
 "cells": [
  {
   "cell_type": "markdown",
   "id": "c7f6c4e5-be1f-4e75-ac24-2cfa84d5360d",
   "metadata": {},
   "source": [
    "# NumPy : numerical Python\n",
    "<pre><b>Numpy is a Python library which is use to perform different mathamatical operations on arrays.\n",
    "Array is denoted with '[ ]'.It is ordered(index position is fixed),mutable(items can be modified) and homogeneous(items of similar datatypes) collection of items.</pre>"
   ]
  },
  {
   "cell_type": "code",
   "execution_count": 1,
   "id": "6c41bd54-f472-4c33-89de-cab9850a70a9",
   "metadata": {},
   "outputs": [],
   "source": [
    "import numpy as np"
   ]
  },
  {
   "cell_type": "code",
   "execution_count": 3,
   "id": "eaa70aa5-68fa-4a29-a8ec-f036e9e4ab61",
   "metadata": {},
   "outputs": [
    {
     "data": {
      "text/plain": [
       "array([1, 2, 3, 4, 5])"
      ]
     },
     "execution_count": 3,
     "metadata": {},
     "output_type": "execute_result"
    }
   ],
   "source": [
    "#Creating 1-D Array\n",
    "a = np.array([1,2,3,4,5])\n",
    "a"
   ]
  },
  {
   "cell_type": "code",
   "execution_count": 4,
   "id": "62a2e22c-a753-42e5-832f-cf0a682aa128",
   "metadata": {},
   "outputs": [
    {
     "data": {
      "text/plain": [
       "numpy.ndarray"
      ]
     },
     "execution_count": 4,
     "metadata": {},
     "output_type": "execute_result"
    }
   ],
   "source": [
    "type(a)  #ndarray : n-dimensional array"
   ]
  },
  {
   "cell_type": "code",
   "execution_count": 5,
   "id": "c28534d0-741b-49f7-a9cf-e09d5453c323",
   "metadata": {},
   "outputs": [
    {
     "data": {
      "text/plain": [
       "array(['20', '2.5', 'cat', '50', 'True'], dtype='<U32')"
      ]
     },
     "execution_count": 5,
     "metadata": {},
     "output_type": "execute_result"
    }
   ],
   "source": [
    "#list to array\n",
    "a = np.array([20,2.5,'cat',50,True])\n",
    "a"
   ]
  },
  {
   "cell_type": "code",
   "execution_count": 6,
   "id": "ab18dd51-6da0-46a5-b87c-d1015cdcaf5f",
   "metadata": {},
   "outputs": [
    {
     "data": {
      "text/plain": [
       "array([10, 20, 30, 40])"
      ]
     },
     "execution_count": 6,
     "metadata": {},
     "output_type": "execute_result"
    }
   ],
   "source": [
    "#tuple to array\n",
    "t = np.array((10,20,30,40))\n",
    "t"
   ]
  },
  {
   "cell_type": "code",
   "execution_count": 7,
   "id": "735013a9-7943-4f04-9459-ef9643212abf",
   "metadata": {},
   "outputs": [
    {
     "data": {
      "text/plain": [
       "array({89, 67, 20, 45}, dtype=object)"
      ]
     },
     "execution_count": 7,
     "metadata": {},
     "output_type": "execute_result"
    }
   ],
   "source": [
    "#set to array\n",
    "s = np.array({20,20,20,45,45,67,89,89})\n",
    "s"
   ]
  },
  {
   "cell_type": "code",
   "execution_count": 8,
   "id": "3715ba78-cc76-455a-a7cf-8a7da7838f81",
   "metadata": {},
   "outputs": [
    {
     "data": {
      "text/plain": [
       "array({'a': 1, 'b': 2, 'c': 3}, dtype=object)"
      ]
     },
     "execution_count": 8,
     "metadata": {},
     "output_type": "execute_result"
    }
   ],
   "source": [
    "#dictionary to array\n",
    "d = np.array({'a':1,'b':2,'c':3})\n",
    "d"
   ]
  },
  {
   "cell_type": "code",
   "execution_count": 9,
   "id": "ea3b7a6d-1e62-44c3-9680-433e427a7979",
   "metadata": {},
   "outputs": [
    {
     "data": {
      "text/plain": [
       "array([[1, 2, 3],\n",
       "       [4, 5, 6]])"
      ]
     },
     "execution_count": 9,
     "metadata": {},
     "output_type": "execute_result"
    }
   ],
   "source": [
    "#Create 2-D array\n",
    "a = np.array([[1,2,3],[4,5,6]])\n",
    "a"
   ]
  },
  {
   "cell_type": "code",
   "execution_count": 17,
   "id": "2f61b05c-0b8c-4e09-988c-c06766f46a6e",
   "metadata": {},
   "outputs": [
    {
     "data": {
      "text/plain": [
       "array([[1, 2, 3],\n",
       "       [4, 5, 6]])"
      ]
     },
     "execution_count": 17,
     "metadata": {},
     "output_type": "execute_result"
    }
   ],
   "source": [
    "a = np.array([(1,2,3),(4,5,6)])\n",
    "a"
   ]
  },
  {
   "cell_type": "code",
   "execution_count": 19,
   "id": "fd7b20a3-2059-47a8-8e03-57886ad6c3f7",
   "metadata": {},
   "outputs": [
    {
     "data": {
      "text/plain": [
       "array([[1, 2, 3, 4],\n",
       "       [5, 6, 7, 8],\n",
       "       [4, 0, 9, 4]])"
      ]
     },
     "execution_count": 19,
     "metadata": {},
     "output_type": "execute_result"
    }
   ],
   "source": [
    "b = np.array([[1,2,3,4],[5,6,7,8],[4,0,9,4]])\n",
    "b"
   ]
  },
  {
   "cell_type": "code",
   "execution_count": 21,
   "id": "8d0e0adb-3a70-474f-beb4-62579031fefd",
   "metadata": {},
   "outputs": [
    {
     "data": {
      "text/plain": [
       "(3, 4)"
      ]
     },
     "execution_count": 21,
     "metadata": {},
     "output_type": "execute_result"
    }
   ],
   "source": [
    "#Array Attributes\n",
    "b.shape #to check the shape of array"
   ]
  },
  {
   "cell_type": "code",
   "execution_count": 23,
   "id": "39ae5f3b-dcf2-43f4-9584-c7221955b809",
   "metadata": {},
   "outputs": [
    {
     "data": {
      "text/plain": [
       "12"
      ]
     },
     "execution_count": 23,
     "metadata": {},
     "output_type": "execute_result"
    }
   ],
   "source": [
    "b.size #to check total number of elements"
   ]
  },
  {
   "cell_type": "code",
   "execution_count": 25,
   "id": "49f99d12-b4c4-4252-bec9-14d0ed329025",
   "metadata": {},
   "outputs": [
    {
     "data": {
      "text/plain": [
       "2"
      ]
     },
     "execution_count": 25,
     "metadata": {},
     "output_type": "execute_result"
    }
   ],
   "source": [
    "b.ndim #to check number of dimension of a matrix"
   ]
  },
  {
   "cell_type": "code",
   "execution_count": 27,
   "id": "d003ae81-82ef-4756-97d9-412558aacd33",
   "metadata": {},
   "outputs": [
    {
     "data": {
      "text/plain": [
       "array([ 1,  2,  3,  4,  5,  6,  7,  8,  9, 10])"
      ]
     },
     "execution_count": 27,
     "metadata": {},
     "output_type": "execute_result"
    }
   ],
   "source": [
    "#arange : it returns a 1-D array of given sequence\n",
    "np.arange(1,11,1)"
   ]
  },
  {
   "cell_type": "code",
   "execution_count": 29,
   "id": "a9013a55-0055-4726-a1c4-b5805eb5034d",
   "metadata": {},
   "outputs": [
    {
     "data": {
      "text/plain": [
       "array([1, 3, 5, 7, 9])"
      ]
     },
     "execution_count": 29,
     "metadata": {},
     "output_type": "execute_result"
    }
   ],
   "source": [
    "np.arange(1,11,2)"
   ]
  },
  {
   "cell_type": "code",
   "execution_count": 33,
   "id": "776679e6-a542-4e7b-a009-20a12a8a9642",
   "metadata": {},
   "outputs": [
    {
     "data": {
      "text/plain": [
       "array([[0., 0., 0., 0.],\n",
       "       [0., 0., 0., 0.],\n",
       "       [0., 0., 0., 0.],\n",
       "       [0., 0., 0., 0.]])"
      ]
     },
     "execution_count": 33,
     "metadata": {},
     "output_type": "execute_result"
    }
   ],
   "source": [
    "np.zeros((4,4))"
   ]
  },
  {
   "cell_type": "code",
   "execution_count": 35,
   "id": "78bd34c0-1bc6-4bec-8b43-9444c17a15cd",
   "metadata": {},
   "outputs": [
    {
     "data": {
      "text/plain": [
       "array([[0, 0, 0, 0],\n",
       "       [0, 0, 0, 0],\n",
       "       [0, 0, 0, 0],\n",
       "       [0, 0, 0, 0]])"
      ]
     },
     "execution_count": 35,
     "metadata": {},
     "output_type": "execute_result"
    }
   ],
   "source": [
    "np.zeros((4,4),dtype='int')"
   ]
  },
  {
   "cell_type": "code",
   "execution_count": 37,
   "id": "ffe56359-bcd4-406f-babd-fc95dbed8ad3",
   "metadata": {},
   "outputs": [
    {
     "data": {
      "text/plain": [
       "array([[0, 0, 0, 0],\n",
       "       [0, 0, 0, 0],\n",
       "       [0, 0, 0, 0],\n",
       "       [0, 0, 0, 0]])"
      ]
     },
     "execution_count": 37,
     "metadata": {},
     "output_type": "execute_result"
    }
   ],
   "source": [
    "np.zeros((4,4),dtype=int)"
   ]
  },
  {
   "cell_type": "code",
   "execution_count": 41,
   "id": "1ef29d46-631f-4bb0-a82e-a69628cbb5dd",
   "metadata": {},
   "outputs": [
    {
     "data": {
      "text/plain": [
       "array([[0, 0, 0, 0],\n",
       "       [0, 0, 0, 0],\n",
       "       [0, 0, 0, 0],\n",
       "       [0, 0, 0, 0]])"
      ]
     },
     "execution_count": 41,
     "metadata": {},
     "output_type": "execute_result"
    }
   ],
   "source": [
    "np.zeros((4,4)).astype(int)"
   ]
  },
  {
   "cell_type": "code",
   "execution_count": 43,
   "id": "1f42d537-727a-4a1a-a4fa-71bd9a88c776",
   "metadata": {},
   "outputs": [
    {
     "data": {
      "text/plain": [
       "array([1., 1., 1., 1.])"
      ]
     },
     "execution_count": 43,
     "metadata": {},
     "output_type": "execute_result"
    }
   ],
   "source": [
    "np.ones(4)"
   ]
  },
  {
   "cell_type": "code",
   "execution_count": 45,
   "id": "810a99b7-d4ea-4c9a-9a40-7f6cabf7b64c",
   "metadata": {},
   "outputs": [
    {
     "data": {
      "text/plain": [
       "array([[1., 1., 1., 1., 1., 1., 1., 1., 1., 1.],\n",
       "       [1., 1., 1., 1., 1., 1., 1., 1., 1., 1.],\n",
       "       [1., 1., 1., 1., 1., 1., 1., 1., 1., 1.],\n",
       "       [1., 1., 1., 1., 1., 1., 1., 1., 1., 1.],\n",
       "       [1., 1., 1., 1., 1., 1., 1., 1., 1., 1.],\n",
       "       [1., 1., 1., 1., 1., 1., 1., 1., 1., 1.],\n",
       "       [1., 1., 1., 1., 1., 1., 1., 1., 1., 1.],\n",
       "       [1., 1., 1., 1., 1., 1., 1., 1., 1., 1.],\n",
       "       [1., 1., 1., 1., 1., 1., 1., 1., 1., 1.],\n",
       "       [1., 1., 1., 1., 1., 1., 1., 1., 1., 1.]])"
      ]
     },
     "execution_count": 45,
     "metadata": {},
     "output_type": "execute_result"
    }
   ],
   "source": [
    "np.ones((10,10))"
   ]
  },
  {
   "cell_type": "code",
   "execution_count": 47,
   "id": "ac9f7742-03cb-47ba-a561-3ec1bf7a5b35",
   "metadata": {},
   "outputs": [
    {
     "data": {
      "text/plain": [
       "array([[8, 8, 8, 8, 8],\n",
       "       [8, 8, 8, 8, 8],\n",
       "       [8, 8, 8, 8, 8],\n",
       "       [8, 8, 8, 8, 8],\n",
       "       [8, 8, 8, 8, 8]])"
      ]
     },
     "execution_count": 47,
     "metadata": {},
     "output_type": "execute_result"
    }
   ],
   "source": [
    "#full\n",
    "np.full((5,5),8)"
   ]
  },
  {
   "cell_type": "code",
   "execution_count": 49,
   "id": "12d80435-2b8d-41eb-8a16-41e5b7b8d2a4",
   "metadata": {},
   "outputs": [
    {
     "data": {
      "text/plain": [
       "array([['cat', 'cat', 'cat', 'cat', 'cat'],\n",
       "       ['cat', 'cat', 'cat', 'cat', 'cat'],\n",
       "       ['cat', 'cat', 'cat', 'cat', 'cat'],\n",
       "       ['cat', 'cat', 'cat', 'cat', 'cat'],\n",
       "       ['cat', 'cat', 'cat', 'cat', 'cat']], dtype='<U3')"
      ]
     },
     "execution_count": 49,
     "metadata": {},
     "output_type": "execute_result"
    }
   ],
   "source": [
    "np.full((5,5),'cat')"
   ]
  },
  {
   "cell_type": "code",
   "execution_count": 51,
   "id": "cd61cb85-2258-4df7-86b7-9d98b5762496",
   "metadata": {},
   "outputs": [
    {
     "data": {
      "text/plain": [
       "array([[1., 0., 0., 0., 0., 0., 0., 0.],\n",
       "       [0., 1., 0., 0., 0., 0., 0., 0.],\n",
       "       [0., 0., 1., 0., 0., 0., 0., 0.],\n",
       "       [0., 0., 0., 1., 0., 0., 0., 0.],\n",
       "       [0., 0., 0., 0., 1., 0., 0., 0.],\n",
       "       [0., 0., 0., 0., 0., 1., 0., 0.],\n",
       "       [0., 0., 0., 0., 0., 0., 1., 0.],\n",
       "       [0., 0., 0., 0., 0., 0., 0., 1.]])"
      ]
     },
     "execution_count": 51,
     "metadata": {},
     "output_type": "execute_result"
    }
   ],
   "source": [
    "#eye\n",
    "np.eye(8)"
   ]
  },
  {
   "cell_type": "code",
   "execution_count": 57,
   "id": "b3ca4960-42eb-4653-b47e-213ed6127dc9",
   "metadata": {},
   "outputs": [
    {
     "data": {
      "text/plain": [
       "array([  1.,  12.,  23.,  34.,  45.,  56.,  67.,  78.,  89., 100.])"
      ]
     },
     "execution_count": 57,
     "metadata": {},
     "output_type": "execute_result"
    }
   ],
   "source": [
    "#linspace - equally distributed numbers\n",
    "np.linspace(1,100,10)"
   ]
  },
  {
   "cell_type": "code",
   "execution_count": 59,
   "id": "b0e90cb7-2110-4d07-ad6f-8d3774dc63e4",
   "metadata": {},
   "outputs": [
    {
     "data": {
      "text/plain": [
       "array([  1.        ,   3.02040816,   5.04081633,   7.06122449,\n",
       "         9.08163265,  11.10204082,  13.12244898,  15.14285714,\n",
       "        17.16326531,  19.18367347,  21.20408163,  23.2244898 ,\n",
       "        25.24489796,  27.26530612,  29.28571429,  31.30612245,\n",
       "        33.32653061,  35.34693878,  37.36734694,  39.3877551 ,\n",
       "        41.40816327,  43.42857143,  45.44897959,  47.46938776,\n",
       "        49.48979592,  51.51020408,  53.53061224,  55.55102041,\n",
       "        57.57142857,  59.59183673,  61.6122449 ,  63.63265306,\n",
       "        65.65306122,  67.67346939,  69.69387755,  71.71428571,\n",
       "        73.73469388,  75.75510204,  77.7755102 ,  79.79591837,\n",
       "        81.81632653,  83.83673469,  85.85714286,  87.87755102,\n",
       "        89.89795918,  91.91836735,  93.93877551,  95.95918367,\n",
       "        97.97959184, 100.        ])"
      ]
     },
     "execution_count": 59,
     "metadata": {},
     "output_type": "execute_result"
    }
   ],
   "source": [
    "np.linspace(1,100)"
   ]
  },
  {
   "cell_type": "code",
   "execution_count": 61,
   "id": "9a5e6cb6-d382-4d85-a465-529f41dde213",
   "metadata": {},
   "outputs": [
    {
     "data": {
      "text/plain": [
       "0.46471048644062984"
      ]
     },
     "execution_count": 61,
     "metadata": {},
     "output_type": "execute_result"
    }
   ],
   "source": [
    "#Random Numbers\n",
    "np.random.rand()"
   ]
  },
  {
   "cell_type": "code",
   "execution_count": 63,
   "id": "2883a555-4b88-426f-a803-677aac11f7a4",
   "metadata": {},
   "outputs": [
    {
     "data": {
      "text/plain": [
       "array([0.18466161, 0.52628811, 0.22148187, 0.02042734, 0.47633217])"
      ]
     },
     "execution_count": 63,
     "metadata": {},
     "output_type": "execute_result"
    }
   ],
   "source": [
    "np.random.rand(5)"
   ]
  },
  {
   "cell_type": "code",
   "execution_count": 65,
   "id": "3474cc47-4389-4fa6-986c-68f727295d0b",
   "metadata": {},
   "outputs": [
    {
     "data": {
      "text/plain": [
       "array([[0.66534087, 0.89868807, 0.72336042, 0.84030904],\n",
       "       [0.15477888, 0.96557729, 0.620168  , 0.10389667],\n",
       "       [0.01493992, 0.29413207, 0.64758778, 0.05432841]])"
      ]
     },
     "execution_count": 65,
     "metadata": {},
     "output_type": "execute_result"
    }
   ],
   "source": [
    "np.random.rand(3,4)"
   ]
  },
  {
   "cell_type": "code",
   "execution_count": 67,
   "id": "3d68717d-581b-430d-b76f-fad64b17be9a",
   "metadata": {},
   "outputs": [
    {
     "data": {
      "text/plain": [
       "array([[100.0712321 , 100.9110309 , 100.05370412, 100.34702287],\n",
       "       [100.78139379, 100.97505405, 100.79364352, 100.29855258],\n",
       "       [100.21716112, 100.65622952, 100.20534545, 100.14862284]])"
      ]
     },
     "execution_count": 67,
     "metadata": {},
     "output_type": "execute_result"
    }
   ],
   "source": [
    "np.random.rand(3,4)+100"
   ]
  },
  {
   "cell_type": "code",
   "execution_count": 69,
   "id": "777a703f-b9ab-4e69-b9ee-f0a0839365f4",
   "metadata": {},
   "outputs": [
    {
     "data": {
      "text/plain": [
       "array([[18.62918196, 34.14943429, 86.85694004, 83.03935511],\n",
       "       [34.73504468,  2.16881124, 74.29641436, 66.53991153],\n",
       "       [88.58894834, 46.12715215, 75.27588237, 22.21654173]])"
      ]
     },
     "execution_count": 69,
     "metadata": {},
     "output_type": "execute_result"
    }
   ],
   "source": [
    "np.random.rand(3,4)*100"
   ]
  },
  {
   "cell_type": "code",
   "execution_count": 71,
   "id": "7656c59f-182d-40bb-a682-b02bbe72996d",
   "metadata": {},
   "outputs": [
    {
     "data": {
      "text/plain": [
       "2"
      ]
     },
     "execution_count": 71,
     "metadata": {},
     "output_type": "execute_result"
    }
   ],
   "source": [
    "np.random.randint(1,20)"
   ]
  },
  {
   "cell_type": "code",
   "execution_count": 73,
   "id": "96cee1c7-6d81-4b30-b2af-7ac6b3e29684",
   "metadata": {},
   "outputs": [
    {
     "data": {
      "text/plain": [
       "array([[19,  9,  4,  2, 15],\n",
       "       [ 4, 18,  6, 11, 12],\n",
       "       [ 2, 16,  2,  1, 14],\n",
       "       [16,  3, 16, 16, 18],\n",
       "       [ 8, 13, 13,  6, 18]], dtype=int32)"
      ]
     },
     "execution_count": 73,
     "metadata": {},
     "output_type": "execute_result"
    }
   ],
   "source": [
    "np.random.randint(1,20,(5,5))"
   ]
  },
  {
   "cell_type": "code",
   "execution_count": 131,
   "id": "2fa0dea8-7300-4f78-b545-77cc805039dd",
   "metadata": {},
   "outputs": [
    {
     "name": "stdout",
     "output_type": "stream",
     "text": [
      "[21 35 74 85 50]\n",
      "[2 7 8 9 5]\n"
     ]
    }
   ],
   "source": [
    "#Mathamatical functions\n",
    "a = np.array([21,35,74,85,50])\n",
    "b = np.array([2,7,8,9,5])\n",
    "\n",
    "print(a)\n",
    "print(b)"
   ]
  },
  {
   "cell_type": "code",
   "execution_count": 77,
   "id": "92cf85ea-f9cd-48f6-9303-c1f11c6d33fb",
   "metadata": {},
   "outputs": [
    {
     "data": {
      "text/plain": [
       "array([23, 42, 82, 94, 55])"
      ]
     },
     "execution_count": 77,
     "metadata": {},
     "output_type": "execute_result"
    }
   ],
   "source": [
    "np.add(a,b)"
   ]
  },
  {
   "cell_type": "code",
   "execution_count": 81,
   "id": "c31809d8-9486-4dc7-ba27-367012aa5fc5",
   "metadata": {},
   "outputs": [
    {
     "data": {
      "text/plain": [
       "array([19, 28, 66, 76, 45])"
      ]
     },
     "execution_count": 81,
     "metadata": {},
     "output_type": "execute_result"
    }
   ],
   "source": [
    "np.subtract(a,b)"
   ]
  },
  {
   "cell_type": "code",
   "execution_count": 83,
   "id": "7cd7ead8-f983-4788-b296-030162fd9faf",
   "metadata": {},
   "outputs": [
    {
     "data": {
      "text/plain": [
       "array([ 42, 245, 592, 765, 250])"
      ]
     },
     "execution_count": 83,
     "metadata": {},
     "output_type": "execute_result"
    }
   ],
   "source": [
    "np.multiply(a,b)"
   ]
  },
  {
   "cell_type": "code",
   "execution_count": 85,
   "id": "85b429e0-02eb-4dbb-a264-062ac58f6ef3",
   "metadata": {},
   "outputs": [
    {
     "data": {
      "text/plain": [
       "array([10.5       ,  5.        ,  9.25      ,  9.44444444, 10.        ])"
      ]
     },
     "execution_count": 85,
     "metadata": {},
     "output_type": "execute_result"
    }
   ],
   "source": [
    "np.divide(a,b)"
   ]
  },
  {
   "cell_type": "code",
   "execution_count": 89,
   "id": "fc5ed023-e636-4098-b628-e4f04a1697a3",
   "metadata": {},
   "outputs": [
    {
     "data": {
      "text/plain": [
       "array([10,  5,  9,  9, 10])"
      ]
     },
     "execution_count": 89,
     "metadata": {},
     "output_type": "execute_result"
    }
   ],
   "source": [
    "np.floor_divide(a,b)"
   ]
  },
  {
   "cell_type": "code",
   "execution_count": 91,
   "id": "ab0829bb-9347-43b8-ae20-58256ca431e2",
   "metadata": {},
   "outputs": [
    {
     "data": {
      "text/plain": [
       "array([1, 0, 2, 4, 0])"
      ]
     },
     "execution_count": 91,
     "metadata": {},
     "output_type": "execute_result"
    }
   ],
   "source": [
    "np.mod(a,b)"
   ]
  },
  {
   "cell_type": "code",
   "execution_count": 93,
   "id": "ea74fd4b-bf41-490c-a85b-9a25a0cc5a1e",
   "metadata": {},
   "outputs": [
    {
     "data": {
      "text/plain": [
       "(array([10,  5,  9,  9, 10]), array([1, 0, 2, 4, 0]))"
      ]
     },
     "execution_count": 93,
     "metadata": {},
     "output_type": "execute_result"
    }
   ],
   "source": [
    "np.divmod(a,b)"
   ]
  },
  {
   "cell_type": "code",
   "execution_count": 105,
   "id": "0b977158-386c-4772-acc2-a5e5cddc4fa8",
   "metadata": {},
   "outputs": [
    {
     "data": {
      "text/plain": [
       "array([4.58257569, 5.91607978, 8.60232527, 9.21954446, 7.07106781])"
      ]
     },
     "execution_count": 105,
     "metadata": {},
     "output_type": "execute_result"
    }
   ],
   "source": [
    "np.sqrt(a)"
   ]
  },
  {
   "cell_type": "code",
   "execution_count": 101,
   "id": "1a1d9f8e-8859-4978-ae06-a23a2dde4c32",
   "metadata": {},
   "outputs": [
    {
     "data": {
      "text/plain": [
       "array([ 4, 49, 64, 81, 25])"
      ]
     },
     "execution_count": 101,
     "metadata": {},
     "output_type": "execute_result"
    }
   ],
   "source": [
    "np.power(b,2)"
   ]
  },
  {
   "cell_type": "code",
   "execution_count": 107,
   "id": "a9fa2aac-e006-4cab-86ac-32c4d9345610",
   "metadata": {},
   "outputs": [
    {
     "data": {
      "text/plain": [
       "array([3.04452244, 3.55534806, 4.30406509, 4.44265126, 3.91202301])"
      ]
     },
     "execution_count": 107,
     "metadata": {},
     "output_type": "execute_result"
    }
   ],
   "source": [
    "np.log(a)"
   ]
  },
  {
   "cell_type": "code",
   "execution_count": 109,
   "id": "8bad1d7a-766d-403c-883d-496893f5232c",
   "metadata": {},
   "outputs": [
    {
     "data": {
      "text/plain": [
       "array([0.69314718, 1.94591015, 2.07944154, 2.19722458, 1.60943791])"
      ]
     },
     "execution_count": 109,
     "metadata": {},
     "output_type": "execute_result"
    }
   ],
   "source": [
    "np.log(b)"
   ]
  },
  {
   "cell_type": "code",
   "execution_count": 111,
   "id": "de788dd9-5c86-40ed-8b58-18529581eac4",
   "metadata": {},
   "outputs": [
    {
     "data": {
      "text/plain": [
       "array([1.32221929, 1.54406804, 1.86923172, 1.92941893, 1.69897   ])"
      ]
     },
     "execution_count": 111,
     "metadata": {},
     "output_type": "execute_result"
    }
   ],
   "source": [
    "np.log10(a)"
   ]
  },
  {
   "cell_type": "code",
   "execution_count": 113,
   "id": "7c147b1a-05e8-4a75-9cb3-0ccf704ee73d",
   "metadata": {},
   "outputs": [
    {
     "data": {
      "text/plain": [
       "array([ 0.83665564, -0.42818267, -0.98514626, -0.17607562, -0.26237485])"
      ]
     },
     "execution_count": 113,
     "metadata": {},
     "output_type": "execute_result"
    }
   ],
   "source": [
    "np.sin(a)"
   ]
  },
  {
   "cell_type": "code",
   "execution_count": 115,
   "id": "e6d25125-4a16-48f5-87da-87031afd499c",
   "metadata": {},
   "outputs": [
    {
     "data": {
      "text/plain": [
       "array([-0.54772926, -0.90369221,  0.17171734, -0.98437664,  0.96496603])"
      ]
     },
     "execution_count": 115,
     "metadata": {},
     "output_type": "execute_result"
    }
   ],
   "source": [
    "np.cos(a)"
   ]
  },
  {
   "cell_type": "code",
   "execution_count": 117,
   "id": "dd91a9fe-4b4c-4ff7-997a-df528cbd247a",
   "metadata": {},
   "outputs": [
    {
     "data": {
      "text/plain": [
       "array([-1.52749853,  0.47381472, -5.73702254,  0.17887017, -0.27190061])"
      ]
     },
     "execution_count": 117,
     "metadata": {},
     "output_type": "execute_result"
    }
   ],
   "source": [
    "np.tan(a)"
   ]
  },
  {
   "cell_type": "code",
   "execution_count": 119,
   "id": "7b34c53b-4e9e-4647-b129-382cdf64dfd8",
   "metadata": {},
   "outputs": [
    {
     "data": {
      "text/plain": [
       "array([-0.65466512,  2.11052962, -0.17430644,  5.59064704, -3.67781445])"
      ]
     },
     "execution_count": 119,
     "metadata": {},
     "output_type": "execute_result"
    }
   ],
   "source": [
    "#cot\n",
    "1/np.tan(a)"
   ]
  },
  {
   "cell_type": "code",
   "execution_count": 143,
   "id": "973fad33-0a15-4b11-b84f-aaae3c860baa",
   "metadata": {},
   "outputs": [
    {
     "data": {
      "text/plain": [
       "array([21, 35, 74, 85, 50])"
      ]
     },
     "execution_count": 143,
     "metadata": {},
     "output_type": "execute_result"
    }
   ],
   "source": [
    "#Statistical function\n",
    "a"
   ]
  },
  {
   "cell_type": "code",
   "execution_count": 145,
   "id": "9c373cfa-04f9-4d75-a3e7-6d3fcf3d7262",
   "metadata": {},
   "outputs": [
    {
     "data": {
      "text/plain": [
       "np.int64(85)"
      ]
     },
     "execution_count": 145,
     "metadata": {},
     "output_type": "execute_result"
    }
   ],
   "source": [
    "np.max(a)"
   ]
  },
  {
   "cell_type": "code",
   "execution_count": 147,
   "id": "6b78c832-adba-4561-a36f-69d33a340c6e",
   "metadata": {},
   "outputs": [
    {
     "data": {
      "text/plain": [
       "np.int64(21)"
      ]
     },
     "execution_count": 147,
     "metadata": {},
     "output_type": "execute_result"
    }
   ],
   "source": [
    "np.min(a)"
   ]
  },
  {
   "cell_type": "code",
   "execution_count": 149,
   "id": "856a7bc5-bedb-49fc-8883-919a7ee8507e",
   "metadata": {},
   "outputs": [
    {
     "data": {
      "text/plain": [
       "np.int64(3)"
      ]
     },
     "execution_count": 149,
     "metadata": {},
     "output_type": "execute_result"
    }
   ],
   "source": [
    "#argmax\n",
    "np.argmax(a)"
   ]
  },
  {
   "cell_type": "code",
   "execution_count": 151,
   "id": "3f2d572f-ca48-4c50-b13a-3d0972ddabea",
   "metadata": {},
   "outputs": [
    {
     "data": {
      "text/plain": [
       "np.int64(0)"
      ]
     },
     "execution_count": 151,
     "metadata": {},
     "output_type": "execute_result"
    }
   ],
   "source": [
    "#argmin\n",
    "np.argmin(a)"
   ]
  },
  {
   "cell_type": "code",
   "execution_count": 153,
   "id": "8e969a85-2c6e-43e4-871f-f204c1074251",
   "metadata": {},
   "outputs": [
    {
     "data": {
      "text/plain": [
       "np.float64(50.0)"
      ]
     },
     "execution_count": 153,
     "metadata": {},
     "output_type": "execute_result"
    }
   ],
   "source": [
    "np.median(a)"
   ]
  },
  {
   "cell_type": "code",
   "execution_count": 155,
   "id": "236ae4b3-b195-487e-80fa-dadd6c26274b",
   "metadata": {},
   "outputs": [
    {
     "data": {
      "text/plain": [
       "np.float64(53.0)"
      ]
     },
     "execution_count": 155,
     "metadata": {},
     "output_type": "execute_result"
    }
   ],
   "source": [
    "np.mean(a)"
   ]
  },
  {
   "cell_type": "code",
   "execution_count": 157,
   "id": "350f2f94-850d-422d-9290-08cc71c76592",
   "metadata": {},
   "outputs": [
    {
     "data": {
      "text/plain": [
       "np.float64(23.757104200638594)"
      ]
     },
     "execution_count": 157,
     "metadata": {},
     "output_type": "execute_result"
    }
   ],
   "source": [
    "np.std(a)"
   ]
  },
  {
   "cell_type": "code",
   "execution_count": 159,
   "id": "b938dd65-295d-4a59-acd7-1b3817178c0a",
   "metadata": {},
   "outputs": [
    {
     "data": {
      "text/plain": [
       "np.float64(564.4)"
      ]
     },
     "execution_count": 159,
     "metadata": {},
     "output_type": "execute_result"
    }
   ],
   "source": [
    "#var - variance\n",
    "np.var(a)"
   ]
  },
  {
   "cell_type": "code",
   "execution_count": 163,
   "id": "0dfd7161-2b8c-4047-86ba-636f86fb1b8f",
   "metadata": {},
   "outputs": [
    {
     "data": {
      "text/plain": [
       "array([2, 7, 8, 9, 5])"
      ]
     },
     "execution_count": 163,
     "metadata": {},
     "output_type": "execute_result"
    }
   ],
   "source": [
    "#cumsum - Cumulutive Summation\n",
    "b"
   ]
  },
  {
   "cell_type": "code",
   "execution_count": 165,
   "id": "2515dfc1-4b07-41e9-b19f-f8488880f6de",
   "metadata": {},
   "outputs": [
    {
     "data": {
      "text/plain": [
       "array([ 2,  9, 17, 26, 31])"
      ]
     },
     "execution_count": 165,
     "metadata": {},
     "output_type": "execute_result"
    }
   ],
   "source": [
    "np.cumsum(b)"
   ]
  },
  {
   "cell_type": "code",
   "execution_count": 167,
   "id": "ee3c4330-6474-43ff-bb18-52f053f45c09",
   "metadata": {},
   "outputs": [
    {
     "data": {
      "text/plain": [
       "array([   2,   14,  112, 1008, 5040])"
      ]
     },
     "execution_count": 167,
     "metadata": {},
     "output_type": "execute_result"
    }
   ],
   "source": [
    "#cumprod - Cumulutive Product\n",
    "np.cumprod(b)"
   ]
  },
  {
   "cell_type": "code",
   "execution_count": 175,
   "id": "20e574fa-b4d4-437e-9b05-834be55c7f7a",
   "metadata": {},
   "outputs": [
    {
     "data": {
      "text/plain": [
       "array([   2,   14,  112, 1008, 5040])"
      ]
     },
     "execution_count": 175,
     "metadata": {},
     "output_type": "execute_result"
    }
   ],
   "source": [
    "np.cumulative_prod(b)"
   ]
  },
  {
   "cell_type": "code",
   "execution_count": 177,
   "id": "2c03d8d7-5dd2-4d68-bb39-ade253bf6c33",
   "metadata": {},
   "outputs": [
    {
     "data": {
      "text/plain": [
       "array([1, 1, 1, 1, 2, 2, 2, 2, 3, 3, 3, 3, 4, 4, 4, 4])"
      ]
     },
     "execution_count": 177,
     "metadata": {},
     "output_type": "execute_result"
    }
   ],
   "source": [
    "#repeat\n",
    "a = np.array([1,2,3,4])\n",
    "np.repeat(a,4)"
   ]
  },
  {
   "cell_type": "code",
   "execution_count": 181,
   "id": "6d1aceb7-6fe7-42a8-a9bd-95c0cde84cdc",
   "metadata": {},
   "outputs": [
    {
     "data": {
      "text/plain": [
       "array([1, 2, 3, 4, 1, 2, 3, 4, 1, 2, 3, 4, 1, 2, 3, 4])"
      ]
     },
     "execution_count": 181,
     "metadata": {},
     "output_type": "execute_result"
    }
   ],
   "source": [
    "#tile\n",
    "a = np.array([1,2,3,4])\n",
    "np.tile(a,4)"
   ]
  },
  {
   "cell_type": "code",
   "execution_count": 183,
   "id": "a985cb14-a51c-4815-b573-d87dc79f2f22",
   "metadata": {},
   "outputs": [
    {
     "data": {
      "text/plain": [
       "(array([2, 4, 5, 7, 9]),)"
      ]
     },
     "execution_count": 183,
     "metadata": {},
     "output_type": "execute_result"
    }
   ],
   "source": [
    "#where\n",
    "a = np.array([1,2,4,3,4,4,5,4,6,4])\n",
    "np.where(a==4)"
   ]
  },
  {
   "cell_type": "code",
   "execution_count": 185,
   "id": "8ca2d1ba-d420-4447-adc6-f16459d87afe",
   "metadata": {},
   "outputs": [
    {
     "name": "stdout",
     "output_type": "stream",
     "text": [
      "[[1 3]\n",
      " [2 4]]\n",
      "[[5 7]\n",
      " [9 8]]\n"
     ]
    }
   ],
   "source": [
    "#Vector Maths\n",
    "a = np.array([[1,3],[2,4]])\n",
    "b = np.array([[5,7],[9,8]])\n",
    "\n",
    "print(a)\n",
    "print(b)"
   ]
  },
  {
   "cell_type": "code",
   "execution_count": 187,
   "id": "8f94809f-0304-4cf4-bb18-3af8f72f8108",
   "metadata": {},
   "outputs": [
    {
     "data": {
      "text/plain": [
       "array([[32, 31],\n",
       "       [46, 46]])"
      ]
     },
     "execution_count": 187,
     "metadata": {},
     "output_type": "execute_result"
    }
   ],
   "source": [
    "#dot product\n",
    "np.dot(a,b)"
   ]
  },
  {
   "cell_type": "code",
   "execution_count": 189,
   "id": "6eb3c081-b621-485a-95fd-2e22e671ed3d",
   "metadata": {},
   "outputs": [
    {
     "name": "stderr",
     "output_type": "stream",
     "text": [
      "C:\\Users\\USER\\AppData\\Local\\Temp\\ipykernel_25276\\1689352882.py:2: DeprecationWarning: Arrays of 2-dimensional vectors are deprecated. Use arrays of 3-dimensional vectors instead. (deprecated in NumPy 2.0)\n",
      "  np.cross(a,b)\n"
     ]
    },
    {
     "data": {
      "text/plain": [
       "array([ -8, -20])"
      ]
     },
     "execution_count": 189,
     "metadata": {},
     "output_type": "execute_result"
    }
   ],
   "source": [
    "#cross product\n",
    "np.cross(a,b)"
   ]
  },
  {
   "cell_type": "code",
   "execution_count": 191,
   "id": "4b411f0f-e237-438c-956d-54fe6669c1c1",
   "metadata": {},
   "outputs": [
    {
     "data": {
      "text/plain": [
       "array([[1, 2],\n",
       "       [3, 4]])"
      ]
     },
     "execution_count": 191,
     "metadata": {},
     "output_type": "execute_result"
    }
   ],
   "source": [
    "#Transpose\n",
    "np.transpose(a)"
   ]
  },
  {
   "cell_type": "code",
   "execution_count": 193,
   "id": "23ceacc4-72da-421f-8273-a4b3162ceaa7",
   "metadata": {},
   "outputs": [
    {
     "data": {
      "text/plain": [
       "array([[1, 2],\n",
       "       [3, 4]])"
      ]
     },
     "execution_count": 193,
     "metadata": {},
     "output_type": "execute_result"
    }
   ],
   "source": [
    "a.T"
   ]
  },
  {
   "cell_type": "code",
   "execution_count": 195,
   "id": "a688ce77-1fc4-45c4-b17c-9cc3cd4ffc89",
   "metadata": {},
   "outputs": [
    {
     "data": {
      "text/plain": [
       "array([34, 67, 89, 34, 56, 90, 38])"
      ]
     },
     "execution_count": 195,
     "metadata": {},
     "output_type": "execute_result"
    }
   ],
   "source": [
    "#Indexing and Slicing in 1-D array\n",
    "a = np.array([34,67,89,34,56,90,38])\n",
    "a"
   ]
  },
  {
   "cell_type": "code",
   "execution_count": 197,
   "id": "51fddb14-25c9-4b54-8064-b4eca3a77234",
   "metadata": {},
   "outputs": [
    {
     "data": {
      "text/plain": [
       "np.int64(34)"
      ]
     },
     "execution_count": 197,
     "metadata": {},
     "output_type": "execute_result"
    }
   ],
   "source": [
    "#Indexing\n",
    "a[3]"
   ]
  },
  {
   "cell_type": "code",
   "execution_count": 199,
   "id": "5e684ea1-b8c5-43cb-b244-fcea976517d0",
   "metadata": {},
   "outputs": [
    {
     "data": {
      "text/plain": [
       "np.int64(90)"
      ]
     },
     "execution_count": 199,
     "metadata": {},
     "output_type": "execute_result"
    }
   ],
   "source": [
    "a[-2]"
   ]
  },
  {
   "cell_type": "code",
   "execution_count": 201,
   "id": "6445945f-73bb-45e0-ba55-7aac55def089",
   "metadata": {},
   "outputs": [
    {
     "data": {
      "text/plain": [
       "array([67, 34, 90])"
      ]
     },
     "execution_count": 201,
     "metadata": {},
     "output_type": "execute_result"
    }
   ],
   "source": [
    "#Slicing\n",
    "a[1:7:2]"
   ]
  },
  {
   "cell_type": "code",
   "execution_count": 211,
   "id": "3aac5d93-19da-4c24-9657-7c4badbbfdde",
   "metadata": {},
   "outputs": [
    {
     "data": {
      "text/plain": [
       "array([67, 34, 90])"
      ]
     },
     "execution_count": 211,
     "metadata": {},
     "output_type": "execute_result"
    }
   ],
   "source": [
    "a[-6::2]"
   ]
  },
  {
   "cell_type": "code",
   "execution_count": 213,
   "id": "9705c7d6-008c-4411-8fd1-99f50fd5f456",
   "metadata": {},
   "outputs": [
    {
     "data": {
      "text/plain": [
       "array([67, 34, 90])"
      ]
     },
     "execution_count": 213,
     "metadata": {},
     "output_type": "execute_result"
    }
   ],
   "source": [
    "a[-6:-1:2]"
   ]
  },
  {
   "cell_type": "code",
   "execution_count": 205,
   "id": "b4307bf8-65d4-4287-a939-816862138ce9",
   "metadata": {},
   "outputs": [
    {
     "data": {
      "text/plain": [
       "array([34, 67, 89, 34, 56, 90, 38])"
      ]
     },
     "execution_count": 205,
     "metadata": {},
     "output_type": "execute_result"
    }
   ],
   "source": [
    "a[::]"
   ]
  },
  {
   "cell_type": "code",
   "execution_count": 207,
   "id": "90cf20ba-d9bd-44fd-9d6a-8bd40286ae9e",
   "metadata": {},
   "outputs": [
    {
     "data": {
      "text/plain": [
       "array([38, 90, 56, 34, 89, 67, 34])"
      ]
     },
     "execution_count": 207,
     "metadata": {},
     "output_type": "execute_result"
    }
   ],
   "source": [
    "a[::-1]"
   ]
  },
  {
   "cell_type": "code",
   "execution_count": 215,
   "id": "82e4f8e5-1e92-49b2-abd4-b2f18dd1457f",
   "metadata": {},
   "outputs": [
    {
     "data": {
      "text/plain": [
       "array([[ 1, 16,  4, 12,  7],\n",
       "       [ 8,  6,  2,  7, 16],\n",
       "       [ 8, 17,  7, 18, 12],\n",
       "       [ 8, 11, 10, 14, 18],\n",
       "       [ 1,  9, 13, 12, 13]], dtype=int32)"
      ]
     },
     "execution_count": 215,
     "metadata": {},
     "output_type": "execute_result"
    }
   ],
   "source": [
    "#Indexing and Slicing in 2-D array\n",
    "b = np.random.randint(1,20,(5,5))\n",
    "b"
   ]
  },
  {
   "cell_type": "code",
   "execution_count": 217,
   "id": "5df26b70-77a3-4013-b128-ae70d1a0e018",
   "metadata": {},
   "outputs": [
    {
     "data": {
      "text/plain": [
       "np.int32(7)"
      ]
     },
     "execution_count": 217,
     "metadata": {},
     "output_type": "execute_result"
    }
   ],
   "source": [
    "#Indexing\n",
    "#Syntax : var[row_index,col_index]\n",
    "b[1,3]"
   ]
  },
  {
   "cell_type": "code",
   "execution_count": 219,
   "id": "cf1c453b-2ccc-4f49-9cbc-78d8a06d9b35",
   "metadata": {},
   "outputs": [
    {
     "data": {
      "text/plain": [
       "array([ 8, 11, 10, 14, 18], dtype=int32)"
      ]
     },
     "execution_count": 219,
     "metadata": {},
     "output_type": "execute_result"
    }
   ],
   "source": [
    "b[3]  #Bydefault row"
   ]
  },
  {
   "cell_type": "code",
   "execution_count": 221,
   "id": "45566ccc-82b0-4344-aa23-87d63fd53c92",
   "metadata": {},
   "outputs": [
    {
     "data": {
      "text/plain": [
       "array([[ 6,  2,  7],\n",
       "       [17,  7, 18],\n",
       "       [11, 10, 14]], dtype=int32)"
      ]
     },
     "execution_count": 221,
     "metadata": {},
     "output_type": "execute_result"
    }
   ],
   "source": [
    "#Slicing in 2-D array\n",
    "#row_slicing = var[strt index : end index+1 : stop]\n",
    "#column_slicing = var[strt index : end index+1 : stop]\n",
    "b[1:4:1,1:4:1]"
   ]
  },
  {
   "cell_type": "code",
   "execution_count": 223,
   "id": "3fd20277-b93b-4fee-9385-0f46e9e486af",
   "metadata": {},
   "outputs": [
    {
     "data": {
      "text/plain": [
       "array([[ 1,  4,  7],\n",
       "       [ 8,  2, 16],\n",
       "       [ 8,  7, 12],\n",
       "       [ 8, 10, 18],\n",
       "       [ 1, 13, 13]], dtype=int32)"
      ]
     },
     "execution_count": 223,
     "metadata": {},
     "output_type": "execute_result"
    }
   ],
   "source": [
    "#all rows and even columns(0,2,4)\n",
    "b[0:5:1,0:5:2]"
   ]
  },
  {
   "cell_type": "code",
   "execution_count": 227,
   "id": "efd2ffa3-5d3a-49be-821c-95607355c5f6",
   "metadata": {},
   "outputs": [
    {
     "data": {
      "text/plain": [
       "array([[ 1,  4,  7],\n",
       "       [ 8,  2, 16],\n",
       "       [ 8,  7, 12],\n",
       "       [ 8, 10, 18],\n",
       "       [ 1, 13, 13]], dtype=int32)"
      ]
     },
     "execution_count": 227,
     "metadata": {},
     "output_type": "execute_result"
    }
   ],
   "source": [
    "b[::1,::2]"
   ]
  },
  {
   "cell_type": "code",
   "execution_count": 225,
   "id": "eb59c857-872d-43c6-8c31-8069db99f432",
   "metadata": {},
   "outputs": [
    {
     "data": {
      "text/plain": [
       "array([[ 6,  7],\n",
       "       [11, 14]], dtype=int32)"
      ]
     },
     "execution_count": 225,
     "metadata": {},
     "output_type": "execute_result"
    }
   ],
   "source": [
    "#odd rows and odd columns\n",
    "b[1:5:2,1:5:2]"
   ]
  },
  {
   "cell_type": "code",
   "execution_count": 231,
   "id": "1534740b-8284-4c72-ba02-c8818901c222",
   "metadata": {},
   "outputs": [
    {
     "data": {
      "text/plain": [
       "array([[ 6,  7],\n",
       "       [11, 14]], dtype=int32)"
      ]
     },
     "execution_count": 231,
     "metadata": {},
     "output_type": "execute_result"
    }
   ],
   "source": [
    "b[1::2,1::2]"
   ]
  },
  {
   "cell_type": "code",
   "execution_count": 245,
   "id": "03c993a2-ac1d-4208-a1b6-d01cc47c2502",
   "metadata": {},
   "outputs": [
    {
     "data": {
      "text/plain": [
       "array([[7, 1],\n",
       "       [6, 3]], dtype=int32)"
      ]
     },
     "execution_count": 245,
     "metadata": {},
     "output_type": "execute_result"
    }
   ],
   "source": [
    "#Concatenation : joining the matrix\n",
    "a = np.random.randint(1,10,(2,2))\n",
    "a"
   ]
  },
  {
   "cell_type": "code",
   "execution_count": 253,
   "id": "2b13b13a-89c4-4386-bc89-27249ee29c13",
   "metadata": {},
   "outputs": [
    {
     "data": {
      "text/plain": [
       "array([[ 3, 13, 14,  6],\n",
       "       [14,  2, 13, 19]], dtype=int32)"
      ]
     },
     "execution_count": 253,
     "metadata": {},
     "output_type": "execute_result"
    }
   ],
   "source": [
    "b = np.random.randint(1,20,(2,4))\n",
    "b"
   ]
  },
  {
   "cell_type": "code",
   "execution_count": 255,
   "id": "31dfcba9-8d90-411b-990e-a41ca5f6bfa1",
   "metadata": {},
   "outputs": [
    {
     "data": {
      "text/plain": [
       "array([[ 1,  6, 19,  6],\n",
       "       [ 1, 17, 16, 14],\n",
       "       [16,  9, 16,  3],\n",
       "       [15, 16, 15, 13]], dtype=int32)"
      ]
     },
     "execution_count": 255,
     "metadata": {},
     "output_type": "execute_result"
    }
   ],
   "source": [
    "c = np.random.randint(1,20,(4,4))\n",
    "c"
   ]
  },
  {
   "cell_type": "code",
   "execution_count": 257,
   "id": "4a9058e2-641d-4b6a-9102-b3cababef42a",
   "metadata": {},
   "outputs": [
    {
     "data": {
      "text/plain": [
       "array([[ 7,  1,  3, 13, 14,  6],\n",
       "       [ 6,  3, 14,  2, 13, 19]], dtype=int32)"
      ]
     },
     "execution_count": 257,
     "metadata": {},
     "output_type": "execute_result"
    }
   ],
   "source": [
    "np.concatenate((a,b),axis=1) #axis=1(column wise)"
   ]
  },
  {
   "cell_type": "code",
   "execution_count": 259,
   "id": "0ecdd6b7-055e-4935-b68d-819458d7be1c",
   "metadata": {},
   "outputs": [
    {
     "data": {
      "text/plain": [
       "array([[ 3, 13, 14,  6],\n",
       "       [14,  2, 13, 19],\n",
       "       [ 1,  6, 19,  6],\n",
       "       [ 1, 17, 16, 14],\n",
       "       [16,  9, 16,  3],\n",
       "       [15, 16, 15, 13]], dtype=int32)"
      ]
     },
     "execution_count": 259,
     "metadata": {},
     "output_type": "execute_result"
    }
   ],
   "source": [
    "np.concatenate((b,c),axis=0) #axis=0(row wise)"
   ]
  },
  {
   "cell_type": "code",
   "execution_count": 265,
   "id": "ae269f80-e299-419e-8fbb-7e7b54c10786",
   "metadata": {},
   "outputs": [
    {
     "data": {
      "text/plain": [
       "array([[ 7,  1,  3, 13, 14,  6],\n",
       "       [ 6,  3, 14,  2, 13, 19]], dtype=int32)"
      ]
     },
     "execution_count": 265,
     "metadata": {},
     "output_type": "execute_result"
    }
   ],
   "source": [
    "#Stack\n",
    "np.hstack((a,b)) #hstack : horizontal stack"
   ]
  },
  {
   "cell_type": "code",
   "execution_count": 267,
   "id": "2320e321-c04b-45e4-af1c-5720a2889763",
   "metadata": {},
   "outputs": [
    {
     "data": {
      "text/plain": [
       "array([[ 3, 13, 14,  6],\n",
       "       [14,  2, 13, 19],\n",
       "       [ 1,  6, 19,  6],\n",
       "       [ 1, 17, 16, 14],\n",
       "       [16,  9, 16,  3],\n",
       "       [15, 16, 15, 13]], dtype=int32)"
      ]
     },
     "execution_count": 267,
     "metadata": {},
     "output_type": "execute_result"
    }
   ],
   "source": [
    "np.vstack((b,c)) #vstack : vertical stack"
   ]
  },
  {
   "cell_type": "code",
   "execution_count": 269,
   "id": "ac12c370-1f32-4498-9ddc-0f6c9d3328a6",
   "metadata": {},
   "outputs": [
    {
     "data": {
      "text/plain": [
       "array([[1, 2, 3],\n",
       "       [4, 5, 6],\n",
       "       [7, 8, 9]])"
      ]
     },
     "execution_count": 269,
     "metadata": {},
     "output_type": "execute_result"
    }
   ],
   "source": [
    "#Diagonal\n",
    "a = np.array([[1,2,3],[4,5,6],[7,8,9]])\n",
    "a"
   ]
  },
  {
   "cell_type": "code",
   "execution_count": 271,
   "id": "7cce640b-c941-4e81-aec7-814e320d4748",
   "metadata": {},
   "outputs": [
    {
     "data": {
      "text/plain": [
       "array([1, 5, 9])"
      ]
     },
     "execution_count": 271,
     "metadata": {},
     "output_type": "execute_result"
    }
   ],
   "source": [
    "np.diagonal(a)"
   ]
  },
  {
   "cell_type": "code",
   "execution_count": 273,
   "id": "c60a434e-d61e-4e0a-a912-e340158ac0d3",
   "metadata": {},
   "outputs": [
    {
     "data": {
      "text/plain": [
       "array([[9, 8, 7],\n",
       "       [6, 5, 4],\n",
       "       [3, 2, 1]])"
      ]
     },
     "execution_count": 273,
     "metadata": {},
     "output_type": "execute_result"
    }
   ],
   "source": [
    "np.flip(a)"
   ]
  },
  {
   "cell_type": "code",
   "execution_count": 275,
   "id": "cf5e1478-c29a-4cc7-a526-cca83dedfb0d",
   "metadata": {},
   "outputs": [
    {
     "data": {
      "text/plain": [
       "array([[3, 2, 1],\n",
       "       [6, 5, 4],\n",
       "       [9, 8, 7]])"
      ]
     },
     "execution_count": 275,
     "metadata": {},
     "output_type": "execute_result"
    }
   ],
   "source": [
    "np.flip(a,axis=1) #Horizonatlly flip"
   ]
  },
  {
   "cell_type": "code",
   "execution_count": 277,
   "id": "5492d7e2-ff7c-44ed-98f3-7f228141e7b8",
   "metadata": {},
   "outputs": [
    {
     "data": {
      "text/plain": [
       "array([[7, 8, 9],\n",
       "       [4, 5, 6],\n",
       "       [1, 2, 3]])"
      ]
     },
     "execution_count": 277,
     "metadata": {},
     "output_type": "execute_result"
    }
   ],
   "source": [
    "np.flip(a,axis=0) #vertically flip"
   ]
  },
  {
   "cell_type": "code",
   "execution_count": 279,
   "id": "2ac6fc2a-2c32-4c75-96d0-aa81b13c44f0",
   "metadata": {},
   "outputs": [
    {
     "data": {
      "text/plain": [
       "array([3, 5, 7])"
      ]
     },
     "execution_count": 279,
     "metadata": {},
     "output_type": "execute_result"
    }
   ],
   "source": [
    "np.diagonal(np.flip(a,axis=1))"
   ]
  },
  {
   "cell_type": "code",
   "execution_count": null,
   "id": "9f99381a-74d3-4622-be93-b3517bc8ed21",
   "metadata": {},
   "outputs": [],
   "source": []
  }
 ],
 "metadata": {
  "kernelspec": {
   "display_name": "Python 3 (ipykernel)",
   "language": "python",
   "name": "python3"
  },
  "language_info": {
   "codemirror_mode": {
    "name": "ipython",
    "version": 3
   },
   "file_extension": ".py",
   "mimetype": "text/x-python",
   "name": "python",
   "nbconvert_exporter": "python",
   "pygments_lexer": "ipython3",
   "version": "3.12.7"
  }
 },
 "nbformat": 4,
 "nbformat_minor": 5
}
