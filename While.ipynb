{
 "cells": [
  {
   "cell_type": "markdown",
   "id": "58f96e93-b7b8-44fa-b372-20d85914b6e2",
   "metadata": {},
   "source": [
    "## While Loop"
   ]
  },
  {
   "cell_type": "markdown",
   "id": "aaf7c838-417e-452c-a58b-fc4e887d8677",
   "metadata": {},
   "source": [
    "Python while loop is used to run a block code until a certain condition is met .\n"
   ]
  },
  {
   "cell_type": "markdown",
   "id": "443ee45e-d0fc-41ba-a086-d970202128dc",
   "metadata": {},
   "source": [
    "The syntax of while loop is : "
   ]
  },
  {
   "cell_type": "code",
   "execution_count": 5,
   "id": "a2bb00e1-bc36-418b-8775-380394cfb835",
   "metadata": {},
   "outputs": [
    {
     "name": "stdout",
     "output_type": "stream",
     "text": [
      "1\n",
      "2\n",
      "3\n",
      "4\n",
      "5\n"
     ]
    }
   ],
   "source": [
    "i = 1      #initialization\n",
    "while i<=5:   #while - condition\n",
    "    print(i)\n",
    "    i+=1      #increment"
   ]
  },
  {
   "cell_type": "code",
   "execution_count": 7,
   "id": "996aee70-ba69-4f26-b74f-903f5ea307e2",
   "metadata": {},
   "outputs": [
    {
     "name": "stdout",
     "output_type": "stream",
     "text": [
      "1 2 3 4 5 6 7 8 9 10 11 12 13 14 15 16 17 18 19 20 21 22 23 24 25 26 27 28 29 30 31 32 33 34 35 36 37 38 39 40 41 42 43 44 45 46 47 48 49 50 51 52 53 54 55 56 57 58 59 60 61 62 63 64 65 66 67 68 69 70 71 72 73 74 75 76 77 78 79 80 81 82 83 84 85 86 87 88 89 90 91 92 93 94 95 96 97 98 99 100 "
     ]
    }
   ],
   "source": [
    "i = 1\n",
    "while i<=100:\n",
    "    print(i,end=' ')\n",
    "    i+=1"
   ]
  },
  {
   "cell_type": "code",
   "execution_count": 9,
   "id": "b55d43db-5d3e-4a41-95db-749f45a76afb",
   "metadata": {},
   "outputs": [
    {
     "name": "stdout",
     "output_type": "stream",
     "text": [
      "1 3 5 7 9 11 13 15 17 19 21 23 25 27 29 31 33 35 37 39 41 43 45 47 49 51 53 55 57 59 61 63 65 67 69 71 73 75 77 79 81 83 85 87 89 91 93 95 97 99 "
     ]
    }
   ],
   "source": [
    "i = 1\n",
    "while i<=100:\n",
    "    if i%2==1:\n",
    "       print(i,end=' ')\n",
    "    i+=1"
   ]
  },
  {
   "cell_type": "markdown",
   "id": "0b4878ee-7b4b-4f71-b8d8-50690592684f",
   "metadata": {},
   "source": [
    "# Infinity loop\n",
    "i = 1\n",
    "while True:\n",
    "    print(i,end='')\n",
    "    i+=1"
   ]
  },
  {
   "cell_type": "code",
   "execution_count": 1,
   "id": "ec28c3d4-ab31-4da8-b982-44c093e9b2e0",
   "metadata": {},
   "outputs": [
    {
     "name": "stdout",
     "output_type": "stream",
     "text": [
      "0 2 4 6 8 10 12 14 16 18 20 22 24 26 28 30 32 34 36 38 40 42 44 46 48 50 52 54 56 58 60 62 64 66 68 70 72 74 76 78 80 82 84 86 88 90 92 94 96 98 100 "
     ]
    }
   ],
   "source": [
    "i = 0\n",
    "while i<=100:\n",
    "    print(i,end=' ')\n",
    "    i+=2"
   ]
  },
  {
   "cell_type": "code",
   "execution_count": 5,
   "id": "bbb20877-b2ed-4f89-9f2f-154b6410916c",
   "metadata": {},
   "outputs": [
    {
     "name": "stdout",
     "output_type": "stream",
     "text": [
      "100 99 98 97 96 95 94 93 92 91 90 89 88 87 86 85 84 83 82 81 80 79 78 77 76 75 74 73 72 71 70 69 68 67 66 65 64 63 62 61 60 59 58 57 56 55 54 53 52 51 50 49 48 47 46 45 44 43 42 41 40 39 38 37 36 35 34 33 32 31 30 29 28 27 26 25 24 23 22 21 20 19 18 17 16 15 14 13 12 11 10 9 8 7 6 5 4 3 2 1 "
     ]
    }
   ],
   "source": [
    "i = 100\n",
    "while i>=1:\n",
    "    print(i,end=' ')\n",
    "    i-=1"
   ]
  },
  {
   "cell_type": "code",
   "execution_count": 9,
   "id": "1821ab02-7090-4fb0-b82d-595d0b32ef8e",
   "metadata": {},
   "outputs": [
    {
     "name": "stdout",
     "output_type": "stream",
     "text": [
      "200 195 190 185 180 175 170 165 160 155 150 145 140 135 130 125 120 115 110 105 100 "
     ]
    }
   ],
   "source": [
    "i = 200\n",
    "while i>=100:\n",
    "    if i%5==0:\n",
    "       print(i,end=' ')\n",
    "    i-=1"
   ]
  },
  {
   "cell_type": "markdown",
   "id": "d2b078c5-2b64-483c-b3d7-9a5038abf9dc",
   "metadata": {},
   "source": [
    "r = int(input(\"ENter a num : \"))\n",
    "i = 1\n",
    "while i<=10:\n",
    "    print(r*i)"
   ]
  },
  {
   "cell_type": "code",
   "execution_count": 5,
   "id": "952c7c1a-7529-455a-adfc-9a93c6900062",
   "metadata": {},
   "outputs": [
    {
     "name": "stdout",
     "output_type": "stream",
     "text": [
      "Enter a num :  5\n"
     ]
    },
    {
     "name": "stdout",
     "output_type": "stream",
     "text": [
      "5 * 1 = 5\n",
      "5 * 2 = 10\n",
      "5 * 3 = 15\n",
      "5 * 4 = 20\n",
      "5 * 5 = 25\n",
      "5 * 6 = 30\n",
      "5 * 7 = 35\n",
      "5 * 8 = 40\n",
      "5 * 9 = 45\n",
      "5 * 10 = 50\n"
     ]
    }
   ],
   "source": [
    "r = int(input(\"Enter a num : \"))\n",
    "i = 1\n",
    "while i<=10:\n",
    "    print(r, '*', i,'=', r*i)\n",
    "    i+=1"
   ]
  },
  {
   "cell_type": "code",
   "execution_count": 9,
   "id": "22e1a527-03b4-42af-936f-d89fa81472d6",
   "metadata": {},
   "outputs": [
    {
     "name": "stdout",
     "output_type": "stream",
     "text": [
      "Enter a num :  5\n"
     ]
    },
    {
     "name": "stdout",
     "output_type": "stream",
     "text": [
      "1 * 1 = 1\n",
      "1 * 2 = 2\n",
      "1 * 3 = 3\n",
      "1 * 4 = 4\n",
      "1 * 5 = 5\n",
      "1 * 6 = 6\n",
      "1 * 7 = 7\n",
      "1 * 8 = 8\n",
      "1 * 9 = 9\n",
      "1 * 10 = 10\n",
      "\n",
      "\n",
      "2 * 1 = 2\n",
      "2 * 2 = 4\n",
      "2 * 3 = 6\n",
      "2 * 4 = 8\n",
      "2 * 5 = 10\n",
      "2 * 6 = 12\n",
      "2 * 7 = 14\n",
      "2 * 8 = 16\n",
      "2 * 9 = 18\n",
      "2 * 10 = 20\n",
      "\n",
      "\n",
      "3 * 1 = 3\n",
      "3 * 2 = 6\n",
      "3 * 3 = 9\n",
      "3 * 4 = 12\n",
      "3 * 5 = 15\n",
      "3 * 6 = 18\n",
      "3 * 7 = 21\n",
      "3 * 8 = 24\n",
      "3 * 9 = 27\n",
      "3 * 10 = 30\n",
      "\n",
      "\n",
      "4 * 1 = 4\n",
      "4 * 2 = 8\n",
      "4 * 3 = 12\n",
      "4 * 4 = 16\n",
      "4 * 5 = 20\n",
      "4 * 6 = 24\n",
      "4 * 7 = 28\n",
      "4 * 8 = 32\n",
      "4 * 9 = 36\n",
      "4 * 10 = 40\n",
      "\n",
      "\n",
      "5 * 1 = 5\n",
      "5 * 2 = 10\n",
      "5 * 3 = 15\n",
      "5 * 4 = 20\n",
      "5 * 5 = 25\n",
      "5 * 6 = 30\n",
      "5 * 7 = 35\n",
      "5 * 8 = 40\n",
      "5 * 9 = 45\n",
      "5 * 10 = 50\n",
      "\n",
      "\n"
     ]
    }
   ],
   "source": [
    "r = int(input(\"Enter a num : \"))\n",
    "i = 1\n",
    "while i<=r:\n",
    "    for j in range(1,11):\n",
    "        print(i, '*', j,'=', i*j)\n",
    "    i+=1\n",
    "    print(\"\\n\")"
   ]
  },
  {
   "cell_type": "code",
   "execution_count": 21,
   "id": "8547823c-787b-4350-b5eb-b9640c7438f0",
   "metadata": {},
   "outputs": [
    {
     "data": {
      "text/plain": [
       "'Apple🍎'"
      ]
     },
     "execution_count": 21,
     "metadata": {},
     "output_type": "execute_result"
    }
   ],
   "source": [
    "#for reverse a string\n",
    "a = 'Apple🍎'\n",
    "a"
   ]
  },
  {
   "cell_type": "code",
   "execution_count": 15,
   "id": "28300ccd-0c42-4ca7-b8f1-3a4a9a3c23e8",
   "metadata": {},
   "outputs": [
    {
     "name": "stdout",
     "output_type": "stream",
     "text": [
      "🍎elppA\n"
     ]
    }
   ],
   "source": [
    "print(a[::-1])"
   ]
  },
  {
   "cell_type": "code",
   "execution_count": 27,
   "id": "d4c91f8c-29b7-4b74-bf53-1a28db3b9b25",
   "metadata": {},
   "outputs": [
    {
     "name": "stdout",
     "output_type": "stream",
     "text": [
      "🍎elppA\n"
     ]
    }
   ],
   "source": [
    "l = list(a)\n",
    "l.reverse()\n",
    "b = ''\n",
    "for i in l:\n",
    "    b+=i\n",
    "\n",
    "print(b)"
   ]
  },
  {
   "cell_type": "code",
   "execution_count": 29,
   "id": "ab45473e-a3a3-46bc-b4b2-88a35615ed43",
   "metadata": {},
   "outputs": [
    {
     "name": "stdout",
     "output_type": "stream",
     "text": [
      "[40, 30, 20, 10]\n"
     ]
    }
   ],
   "source": [
    "l = [10,20,30,40]\n",
    "l.reverse()\n",
    "print(l)"
   ]
  },
  {
   "cell_type": "markdown",
   "id": "d3fa1f2c-b0b4-4083-b43f-176aa079a2e4",
   "metadata": {},
   "source": [
    "## Q.Wapp to reverse the digits of any entered numbers"
   ]
  },
  {
   "cell_type": "markdown",
   "id": "715d7031-4750-408d-b5e9-72b746158977",
   "metadata": {},
   "source": [
    "input - 897\n"
   ]
  },
  {
   "cell_type": "markdown",
   "id": "f684b524-a29f-4ce2-b198-bf47b3f4914c",
   "metadata": {},
   "source": [
    "output - 798"
   ]
  },
  {
   "cell_type": "code",
   "execution_count": 37,
   "id": "8feb3362-ea93-47bc-8bd9-cc8d51c1a47e",
   "metadata": {},
   "outputs": [
    {
     "name": "stdout",
     "output_type": "stream",
     "text": [
      "Enter a num :  12345\n"
     ]
    },
    {
     "name": "stdout",
     "output_type": "stream",
     "text": [
      "54321\n"
     ]
    }
   ],
   "source": [
    "n = int(input(\"Enter a num : \"))\n",
    "rev = 0\n",
    "while n!=0:\n",
    "    \n",
    "    last = n%10\n",
    "    rev = rev*10+last\n",
    "    n = n//10\n",
    "\n",
    "print(rev)"
   ]
  },
  {
   "cell_type": "code",
   "execution_count": 49,
   "id": "106f3d1e-8f04-4740-9bf6-773f0b0c3887",
   "metadata": {},
   "outputs": [
    {
     "name": "stdout",
     "output_type": "stream",
     "text": [
      "Enter your choice among (rock/paper/scissor):  rock\n"
     ]
    },
    {
     "name": "stdout",
     "output_type": "stream",
     "text": [
      "You choose rock\n"
     ]
    }
   ],
   "source": [
    "c = ''\n",
    "while c not in['rock','paper','scissor']:\n",
    "    c = input('Enter your choice among (rock/paper/scissor): ')\n",
    "\n",
    "print('You choose',c)"
   ]
  },
  {
   "cell_type": "markdown",
   "id": "0fec2bdf-fbde-4c13-b067-998650017d19",
   "metadata": {},
   "source": [
    "## Break statement"
   ]
  },
  {
   "cell_type": "code",
   "execution_count": 57,
   "id": "badee12b-2b19-447e-88e1-9d03bd7a8ddc",
   "metadata": {},
   "outputs": [
    {
     "name": "stdout",
     "output_type": "stream",
     "text": [
      "P\n",
      "y\n",
      "t\n"
     ]
    }
   ],
   "source": [
    "for i in 'Python':\n",
    "    if i == 'h':\n",
    "        break\n",
    "    print(i)"
   ]
  },
  {
   "cell_type": "markdown",
   "id": "2e60913f-5e62-4e27-84a2-39e5eac5ef8d",
   "metadata": {},
   "source": [
    "## Continue statement"
   ]
  },
  {
   "cell_type": "code",
   "execution_count": 60,
   "id": "3b598303-02d4-4615-a29d-97c5343592cc",
   "metadata": {},
   "outputs": [
    {
     "name": "stdout",
     "output_type": "stream",
     "text": [
      "P\n",
      "y\n",
      "t\n",
      "o\n",
      "n\n"
     ]
    }
   ],
   "source": [
    "for i in 'Python':\n",
    "    if i == 'h':\n",
    "        continue\n",
    "    print(i)"
   ]
  },
  {
   "cell_type": "markdown",
   "id": "82a277e8-3877-4fad-b60f-e92ef8141912",
   "metadata": {},
   "source": [
    "## Pass statement"
   ]
  },
  {
   "cell_type": "code",
   "execution_count": 63,
   "id": "0e7a7e38-1d83-4462-85ff-5f37ec6faad8",
   "metadata": {},
   "outputs": [
    {
     "ename": "SyntaxError",
     "evalue": "incomplete input (427295550.py, line 2)",
     "output_type": "error",
     "traceback": [
      "\u001b[1;36m  Cell \u001b[1;32mIn[63], line 2\u001b[1;36m\u001b[0m\n\u001b[1;33m    \u001b[0m\n\u001b[1;37m    ^\u001b[0m\n\u001b[1;31mSyntaxError\u001b[0m\u001b[1;31m:\u001b[0m incomplete input\n"
     ]
    }
   ],
   "source": [
    "if 10>5:\n",
    "    "
   ]
  },
  {
   "cell_type": "code",
   "execution_count": 65,
   "id": "42b22de6-645a-4ef5-9ea3-6fe9ec99f4f6",
   "metadata": {},
   "outputs": [],
   "source": [
    "if 10>5:\n",
    "    pass"
   ]
  },
  {
   "cell_type": "markdown",
   "id": "79f054be-892d-4821-b229-da15e6f9ffde",
   "metadata": {},
   "source": [
    "## gTTs : Google Text To Speech"
   ]
  },
  {
   "cell_type": "code",
   "execution_count": 69,
   "id": "80d34a06-ee7d-470d-8590-c96e23d06867",
   "metadata": {},
   "outputs": [
    {
     "name": "stdout",
     "output_type": "stream",
     "text": [
      "Requirement already satisfied: gtts in d:\\anaconda\\lib\\site-packages (2.5.4)\n",
      "Requirement already satisfied: requests<3,>=2.27 in d:\\anaconda\\lib\\site-packages (from gtts) (2.32.3)\n",
      "Requirement already satisfied: click<8.2,>=7.1 in d:\\anaconda\\lib\\site-packages (from gtts) (8.1.7)\n",
      "Requirement already satisfied: colorama in c:\\users\\user\\appdata\\roaming\\python\\python312\\site-packages (from click<8.2,>=7.1->gtts) (0.4.6)\n",
      "Requirement already satisfied: charset-normalizer<4,>=2 in d:\\anaconda\\lib\\site-packages (from requests<3,>=2.27->gtts) (3.3.2)\n",
      "Requirement already satisfied: idna<4,>=2.5 in d:\\anaconda\\lib\\site-packages (from requests<3,>=2.27->gtts) (3.7)\n",
      "Requirement already satisfied: urllib3<3,>=1.21.1 in d:\\anaconda\\lib\\site-packages (from requests<3,>=2.27->gtts) (2.2.3)\n",
      "Requirement already satisfied: certifi>=2017.4.17 in d:\\anaconda\\lib\\site-packages (from requests<3,>=2.27->gtts) (2024.8.30)\n"
     ]
    }
   ],
   "source": [
    "#to install gtts\n",
    "!pip install gtts"
   ]
  },
  {
   "cell_type": "code",
   "execution_count": 73,
   "id": "f5687494-7d14-4905-8e51-f4e70277f6a6",
   "metadata": {},
   "outputs": [],
   "source": [
    "#to import gtts\n",
    "from gtts import gTTS\n",
    "tts = gTTS(\"Hello Tarun\")\n",
    "tts.save('hello.mp3')"
   ]
  },
  {
   "cell_type": "markdown",
   "id": "678aba30-be81-44df-98f0-5d3b22f94748",
   "metadata": {},
   "source": [
    "## Functions"
   ]
  },
  {
   "cell_type": "code",
   "execution_count": 76,
   "id": "d3985045-8a53-4db2-ba4d-a2d64690ba32",
   "metadata": {},
   "outputs": [],
   "source": [
    "#no argument\n",
    "def greet():     #Function Declaration\n",
    "    print(\"Hello Tarun\")   #Function Defination\n"
   ]
  },
  {
   "cell_type": "code",
   "execution_count": 78,
   "id": "cd7a019c-10b6-40ab-a102-4d5457f56f49",
   "metadata": {},
   "outputs": [
    {
     "name": "stdout",
     "output_type": "stream",
     "text": [
      "Hello Tarun\n"
     ]
    }
   ],
   "source": [
    "greet()  #Function Call"
   ]
  },
  {
   "cell_type": "code",
   "execution_count": 80,
   "id": "61d14693-1726-4dfa-8465-df6ec5798528",
   "metadata": {},
   "outputs": [],
   "source": [
    "def greet(name):\n",
    "    print(\"Hello\",name)"
   ]
  },
  {
   "cell_type": "code",
   "execution_count": 82,
   "id": "c5f0aa1d-4690-418b-b30a-cf75c63e3c79",
   "metadata": {},
   "outputs": [
    {
     "name": "stdout",
     "output_type": "stream",
     "text": [
      "Hello Am Tarun\n"
     ]
    }
   ],
   "source": [
    "greet('Am Tarun')"
   ]
  },
  {
   "cell_type": "code",
   "execution_count": 84,
   "id": "e07830fa-4877-404c-aeca-e4f844771208",
   "metadata": {},
   "outputs": [],
   "source": [
    "#return - It is keyword which is use to return the result of a function\n",
    "def greet(name):\n",
    "    return \"Hello \"+name"
   ]
  },
  {
   "cell_type": "code",
   "execution_count": 86,
   "id": "bb534439-2cd6-4ea1-8459-544ce8e20c75",
   "metadata": {},
   "outputs": [
    {
     "data": {
      "text/plain": [
       "'Hello Equinox'"
      ]
     },
     "execution_count": 86,
     "metadata": {},
     "output_type": "execute_result"
    }
   ],
   "source": [
    "greet(\"Equinox\")"
   ]
  },
  {
   "cell_type": "code",
   "execution_count": 88,
   "id": "213092e8-d4e7-4a30-bbc8-464bb4e06b30",
   "metadata": {},
   "outputs": [],
   "source": [
    "#two argument\n",
    "def add(num1,num2):\n",
    "    return num1+num2"
   ]
  },
  {
   "cell_type": "code",
   "execution_count": 90,
   "id": "0fc450f9-5a71-43d6-887e-3fa74ce3a675",
   "metadata": {},
   "outputs": [
    {
     "data": {
      "text/plain": [
       "35"
      ]
     },
     "execution_count": 90,
     "metadata": {},
     "output_type": "execute_result"
    }
   ],
   "source": [
    "add(15,20)"
   ]
  },
  {
   "cell_type": "code",
   "execution_count": 92,
   "id": "0003483f-b3ef-4c5b-ba09-0c6fc53cfdc8",
   "metadata": {},
   "outputs": [],
   "source": [
    "#Default argument\n",
    "def add(m=5,n=10):\n",
    "    return m+n"
   ]
  },
  {
   "cell_type": "code",
   "execution_count": 94,
   "id": "25bb7859-0a9c-4fd9-a7a9-bbece7e0ba6c",
   "metadata": {},
   "outputs": [
    {
     "data": {
      "text/plain": [
       "15"
      ]
     },
     "execution_count": 94,
     "metadata": {},
     "output_type": "execute_result"
    }
   ],
   "source": [
    "add()"
   ]
  },
  {
   "cell_type": "code",
   "execution_count": 96,
   "id": "a1162475-a6f4-4326-a8a7-c7858a83f818",
   "metadata": {},
   "outputs": [
    {
     "data": {
      "text/plain": [
       "100"
      ]
     },
     "execution_count": 96,
     "metadata": {},
     "output_type": "execute_result"
    }
   ],
   "source": [
    "add(20,80)"
   ]
  },
  {
   "cell_type": "code",
   "execution_count": 98,
   "id": "a56a518d-817d-4b23-a7be-acd79d4da1ab",
   "metadata": {},
   "outputs": [
    {
     "data": {
      "text/plain": [
       "30"
      ]
     },
     "execution_count": 98,
     "metadata": {},
     "output_type": "execute_result"
    }
   ],
   "source": [
    "add(20)"
   ]
  },
  {
   "cell_type": "code",
   "execution_count": null,
   "id": "ce724667-2329-460b-9f8a-74ac34072a82",
   "metadata": {},
   "outputs": [],
   "source": [
    "#Multiple arguments\n",
    "def add(args):"
   ]
  },
  {
   "cell_type": "markdown",
   "id": "d58c20ae-2946-45cd-8346-f5b09d82253b",
   "metadata": {},
   "source": [
    "## Built-in Function"
   ]
  },
  {
   "cell_type": "code",
   "execution_count": 101,
   "id": "9d73df52-6ad0-4ea5-8047-c97277d63771",
   "metadata": {},
   "outputs": [
    {
     "data": {
      "text/plain": [
       "90"
      ]
     },
     "execution_count": 101,
     "metadata": {},
     "output_type": "execute_result"
    }
   ],
   "source": [
    "max(20,50,41,56,78,90,22)"
   ]
  },
  {
   "cell_type": "code",
   "execution_count": 103,
   "id": "13f9219d-27a8-4e08-ae27-b47305796f7a",
   "metadata": {},
   "outputs": [
    {
     "data": {
      "text/plain": [
       "20"
      ]
     },
     "execution_count": 103,
     "metadata": {},
     "output_type": "execute_result"
    }
   ],
   "source": [
    "min(20,50,41,56,78,90,22)"
   ]
  },
  {
   "cell_type": "code",
   "execution_count": 107,
   "id": "ca1f3304-6d08-4294-a252-d7ba763b1f26",
   "metadata": {},
   "outputs": [
    {
     "data": {
      "text/plain": [
       "357"
      ]
     },
     "execution_count": 107,
     "metadata": {},
     "output_type": "execute_result"
    }
   ],
   "source": [
    "sum((20,50,41,56,78,90,22))"
   ]
  },
  {
   "cell_type": "code",
   "execution_count": 109,
   "id": "a453c1d6-4df7-43be-8ef2-113a8fc6227e",
   "metadata": {},
   "outputs": [
    {
     "data": {
      "text/plain": [
       "5"
      ]
     },
     "execution_count": 109,
     "metadata": {},
     "output_type": "execute_result"
    }
   ],
   "source": [
    "len('Apple')"
   ]
  },
  {
   "cell_type": "code",
   "execution_count": 113,
   "id": "30a2cdec-ce2e-4ffb-bd6d-9b644eff3b46",
   "metadata": {},
   "outputs": [
    {
     "data": {
      "text/plain": [
       "7"
      ]
     },
     "execution_count": 113,
     "metadata": {},
     "output_type": "execute_result"
    }
   ],
   "source": [
    "len([2,5,8,6,4,8,9])"
   ]
  },
  {
   "cell_type": "code",
   "execution_count": 115,
   "id": "a99c1e64-f5c7-494d-9207-0e0ea9ec3a2d",
   "metadata": {},
   "outputs": [
    {
     "name": "stdout",
     "output_type": "stream",
     "text": [
      "Enter the value :  10,2.5,'cat'\n"
     ]
    },
    {
     "name": "stdout",
     "output_type": "stream",
     "text": [
      "a =  10\n",
      "b =  2.5\n",
      "c =  cat\n"
     ]
    }
   ],
   "source": [
    "#eval - evaluate\n",
    "a,b,c = eval(input(\"Enter the value : \"))\n",
    "\n",
    "print('a = ',a)\n",
    "print('b = ',b)\n",
    "print('c = ',c)"
   ]
  },
  {
   "cell_type": "code",
   "execution_count": 117,
   "id": "87b7cd79-6a92-4d40-b732-2c861261a389",
   "metadata": {},
   "outputs": [
    {
     "data": {
      "text/plain": [
       "(int, float, str)"
      ]
     },
     "execution_count": 117,
     "metadata": {},
     "output_type": "execute_result"
    }
   ],
   "source": [
    "type(a),type(b),type(c)"
   ]
  },
  {
   "cell_type": "code",
   "execution_count": 119,
   "id": "578b9d93-533f-4076-ad02-cd5f1c6d862c",
   "metadata": {},
   "outputs": [],
   "source": [
    "def add(n):\n",
    "    s = 0\n",
    "    for i in range(1,n+1):\n",
    "        s+=i\n",
    "    return s\n"
   ]
  },
  {
   "cell_type": "code",
   "execution_count": 121,
   "id": "9b2ccc08-94d7-4964-926b-33ce8b043f59",
   "metadata": {},
   "outputs": [
    {
     "data": {
      "text/plain": [
       "55"
      ]
     },
     "execution_count": 121,
     "metadata": {},
     "output_type": "execute_result"
    }
   ],
   "source": [
    "add(10)"
   ]
  },
  {
   "cell_type": "code",
   "execution_count": 123,
   "id": "18a4e7c4-7159-42e7-a561-32974e76ce61",
   "metadata": {},
   "outputs": [],
   "source": [
    "def add123(n):\n",
    "    return sum(range(1,n+1))"
   ]
  },
  {
   "cell_type": "code",
   "execution_count": 125,
   "id": "c37aefce-bd03-49d5-bca6-363f7027b582",
   "metadata": {},
   "outputs": [
    {
     "data": {
      "text/plain": [
       "55"
      ]
     },
     "execution_count": 125,
     "metadata": {},
     "output_type": "execute_result"
    }
   ],
   "source": [
    "add123(10)"
   ]
  },
  {
   "cell_type": "code",
   "execution_count": 5,
   "id": "6b204a33-6f58-484c-a154-ad545bbd5207",
   "metadata": {},
   "outputs": [],
   "source": [
    "from gtts import gTTS\n",
    "tts = gTTS(\"Hello Equinox\")\n",
    "tts.save('hello.mp3')"
   ]
  },
  {
   "cell_type": "code",
   "execution_count": null,
   "id": "6be45fe2-d731-4453-aef7-7765119c2621",
   "metadata": {},
   "outputs": [],
   "source": []
  }
 ],
 "metadata": {
  "kernelspec": {
   "display_name": "Python 3 (ipykernel)",
   "language": "python",
   "name": "python3"
  },
  "language_info": {
   "codemirror_mode": {
    "name": "ipython",
    "version": 3
   },
   "file_extension": ".py",
   "mimetype": "text/x-python",
   "name": "python",
   "nbconvert_exporter": "python",
   "pygments_lexer": "ipython3",
   "version": "3.12.7"
  }
 },
 "nbformat": 4,
 "nbformat_minor": 5
}
