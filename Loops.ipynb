{
 "cells": [
  {
   "cell_type": "markdown",
   "id": "81734413-8059-4a57-acd7-4b018dfc85a1",
   "metadata": {},
   "source": [
    "## Loop : Something that repeats continuously"
   ]
  },
  {
   "cell_type": "markdown",
   "id": "a1a9eaf8-afae-4340-9f49-ab2740a79c9e",
   "metadata": {},
   "source": [
    "## For Loop :"
   ]
  },
  {
   "cell_type": "markdown",
   "id": "c8727bd9-607b-4d17-aa12-930647dace88",
   "metadata": {},
   "source": [
    "## A for loop is used for iterating over a swquence (that is either a list, a tuple, a dictionary, a set or a string).\n",
    "## With the for loop we can execute a set of statement, once for each item in a list, tuple, set etc."
   ]
  },
  {
   "cell_type": "markdown",
   "id": "e8b3b641-4129-4010-a369-fd12781d9fec",
   "metadata": {},
   "source": [
    "## Syntax: \n",
    "## for i in collection : \n",
    "##    for - loop\n",
    "##    i - iterator\n",
    "##    in - membership operator\n",
    "##    collection - any sequential data type"
   ]
  },
  {
   "cell_type": "code",
   "execution_count": 12,
   "id": "b4267a41-44a0-4264-9df0-6ad71db7e4cf",
   "metadata": {},
   "outputs": [
    {
     "ename": "SyntaxError",
     "evalue": "incomplete input (777499817.py, line 1)",
     "output_type": "error",
     "traceback": [
      "\u001b[1;36m  Cell \u001b[1;32mIn[12], line 1\u001b[1;36m\u001b[0m\n\u001b[1;33m    for i in 1234:\u001b[0m\n\u001b[1;37m                  ^\u001b[0m\n\u001b[1;31mSyntaxError\u001b[0m\u001b[1;31m:\u001b[0m incomplete input\n"
     ]
    }
   ],
   "source": [
    "for i in 1234:"
   ]
  },
  {
   "cell_type": "code",
   "execution_count": 14,
   "id": "cd437268-4fde-4711-9d73-9faafbf1d9e3",
   "metadata": {},
   "outputs": [
    {
     "name": "stdout",
     "output_type": "stream",
     "text": [
      "P\n",
      "y\n",
      "t\n",
      "h\n",
      "o\n",
      "n\n"
     ]
    }
   ],
   "source": [
    "for i in 'Python':\n",
    "    print(i)"
   ]
  },
  {
   "cell_type": "code",
   "execution_count": 16,
   "id": "7b05ead2-cdbf-464b-9224-04e0d4224115",
   "metadata": {},
   "outputs": [
    {
     "name": "stdout",
     "output_type": "stream",
     "text": [
      "12\n",
      "20\n",
      "30\n",
      "40\n"
     ]
    }
   ],
   "source": [
    "for i in [12,20,30,40]:\n",
    "    print(i)"
   ]
  },
  {
   "cell_type": "code",
   "execution_count": 20,
   "id": "4c303deb-f372-433d-97bc-035ae43a98d1",
   "metadata": {},
   "outputs": [
    {
     "name": "stdout",
     "output_type": "stream",
     "text": [
      "10\n",
      "20\n",
      "30\n",
      "40\n"
     ]
    }
   ],
   "source": [
    "for t in (10,20,30,40):\n",
    "    print(t)"
   ]
  },
  {
   "cell_type": "code",
   "execution_count": 22,
   "id": "5f276f31-1512-4f6c-aa40-fa729f040646",
   "metadata": {},
   "outputs": [
    {
     "name": "stdout",
     "output_type": "stream",
     "text": [
      "15\n",
      "25\n",
      "35\n",
      "45\n"
     ]
    }
   ],
   "source": [
    "for t in (10,20,30,40):\n",
    "    print(t+5)"
   ]
  },
  {
   "cell_type": "code",
   "execution_count": 24,
   "id": "cdd82b3b-e052-4090-af05-d40c1b5b9d33",
   "metadata": {},
   "outputs": [
    {
     "name": "stdout",
     "output_type": "stream",
     "text": [
      "56\n",
      "90\n",
      "20\n",
      "78\n"
     ]
    }
   ],
   "source": [
    "for s in {20,56,56,56,78,90,90,90}:\n",
    "    print(s)"
   ]
  },
  {
   "cell_type": "code",
   "execution_count": 32,
   "id": "7304665e-2100-4464-8651-030b20917522",
   "metadata": {},
   "outputs": [
    {
     "name": "stdout",
     "output_type": "stream",
     "text": [
      "Name\n",
      "Roll\n",
      "Course\n"
     ]
    }
   ],
   "source": [
    "d = {'Name':'Sofy','Roll':111,'Course':'AIML'}\n",
    "\n",
    "for i in d:\n",
    "    print(i)"
   ]
  },
  {
   "cell_type": "code",
   "execution_count": 36,
   "id": "e449db4f-c0c0-46f3-bf8d-6394904dae2f",
   "metadata": {},
   "outputs": [
    {
     "data": {
      "text/plain": [
       "dict_items([('Name', 'Sofy'), ('Roll', 111), ('Course', 'AIML')])"
      ]
     },
     "execution_count": 36,
     "metadata": {},
     "output_type": "execute_result"
    }
   ],
   "source": [
    "d.items()"
   ]
  },
  {
   "cell_type": "code",
   "execution_count": 40,
   "id": "643c2c5b-f3df-4e7a-83b6-3a1762cfb4a2",
   "metadata": {},
   "outputs": [
    {
     "name": "stdout",
     "output_type": "stream",
     "text": [
      "('Name', 'Sofy')\n",
      "('Roll', 111)\n",
      "('Course', 'AIML')\n"
     ]
    }
   ],
   "source": [
    "for  i in d.items():\n",
    "    print(i)"
   ]
  },
  {
   "cell_type": "code",
   "execution_count": 42,
   "id": "4293edcc-73ce-4d2c-aece-86853cbebb24",
   "metadata": {},
   "outputs": [
    {
     "name": "stdout",
     "output_type": "stream",
     "text": [
      "Name --> Sofy\n",
      "Roll --> 111\n",
      "Course --> AIML\n"
     ]
    }
   ],
   "source": [
    "for i,j in d.items():\n",
    "    print(i,'-->',j)"
   ]
  },
  {
   "cell_type": "code",
   "execution_count": 44,
   "id": "99530a9a-bfba-49c0-9104-a5c68cfe51c3",
   "metadata": {},
   "outputs": [
    {
     "name": "stdout",
     "output_type": "stream",
     "text": [
      "T\n",
      "h\n",
      "i\n",
      "s\n",
      " \n",
      "i\n",
      "s\n",
      " \n",
      "o\n",
      "u\n",
      "r\n",
      " \n",
      "A\n",
      "I\n",
      "M\n",
      "L\n",
      " \n",
      "c\n",
      "l\n",
      "a\n",
      "s\n",
      "s\n",
      " \n",
      "a\n",
      "n\n",
      "d\n",
      " \n",
      "t\n",
      "h\n",
      "e\n",
      " \n",
      "c\n",
      "l\n",
      "a\n",
      "s\n",
      "s\n",
      " \n",
      "i\n",
      "s\n",
      " \n",
      "v\n",
      "e\n",
      "r\n",
      "y\n",
      " \n",
      "h\n",
      "o\n",
      "t\n"
     ]
    }
   ],
   "source": [
    "for i in \"This is our AIML class and the class is very hot\":\n",
    "    print(i)"
   ]
  },
  {
   "cell_type": "code",
   "execution_count": 48,
   "id": "019d8f03-1741-495b-a367-d636c0ad93a6",
   "metadata": {},
   "outputs": [
    {
     "name": "stdout",
     "output_type": "stream",
     "text": [
      "T😼h😼i😼s😼 😼i😼s😼 😼o😼u😼r😼 😼A😼I😼M😼L😼 😼c😼l😼a😼s😼s😼 😼a😼n😼d😼 😼t😼h😼e😼 😼c😼l😼a😼s😼s😼 😼i😼s😼 😼v😼e😼r😼y😼 😼h😼o😼t😼"
     ]
    }
   ],
   "source": [
    "for i in \"This is our AIML class and the class is very hot\":\n",
    "    print(i,end='😼')"
   ]
  },
  {
   "cell_type": "code",
   "execution_count": 50,
   "id": "40e987f1-962c-4101-964f-210a04117bbf",
   "metadata": {},
   "outputs": [
    {
     "name": "stdout",
     "output_type": "stream",
     "text": [
      "12345678910"
     ]
    }
   ],
   "source": [
    "for i in(1,2,3,4,5,6,7,8,9,10):\n",
    "    print(i,end='')"
   ]
  },
  {
   "cell_type": "markdown",
   "id": "41c13fe7-d6a1-4de3-ac23-11fdc5ced73f",
   "metadata": {},
   "source": [
    "## range(): it is a built in function generates a sequence of integers between any given interval."
   ]
  },
  {
   "cell_type": "code",
   "execution_count": 53,
   "id": "ddf04eee-ecad-4aed-b2cc-3528fd8160f7",
   "metadata": {},
   "outputs": [
    {
     "name": "stdout",
     "output_type": "stream",
     "text": [
      "1 2 3 4 5 6 7 8 9 10 11 12 13 14 15 16 17 18 19 20 21 22 23 24 25 26 27 28 29 30 31 32 33 34 35 36 37 38 39 40 41 42 43 44 45 46 47 48 49 50 51 52 53 54 55 56 57 58 59 60 61 62 63 64 65 66 67 68 69 70 71 72 73 74 75 76 77 78 79 80 81 82 83 84 85 86 87 88 89 90 91 92 93 94 95 96 97 98 99 "
     ]
    }
   ],
   "source": [
    "for i in range(1,100,1):\n",
    "    print(i,end=' ')"
   ]
  },
  {
   "cell_type": "code",
   "execution_count": 55,
   "id": "4e907516-2835-4e92-95f1-f92127a4ac34",
   "metadata": {},
   "outputs": [
    {
     "name": "stdout",
     "output_type": "stream",
     "text": [
      "1 3 5 7 9 11 13 15 17 19 21 23 25 27 29 31 33 35 37 39 41 43 45 47 49 51 53 55 57 59 61 63 65 67 69 71 73 75 77 79 81 83 85 87 89 91 93 95 97 99 "
     ]
    }
   ],
   "source": [
    "for i in range(1,100,2):\n",
    "    print(i,end=' ')"
   ]
  },
  {
   "cell_type": "code",
   "execution_count": 57,
   "id": "196712c1-5c2a-40b9-8392-b3501f299254",
   "metadata": {},
   "outputs": [
    {
     "name": "stdout",
     "output_type": "stream",
     "text": [
      "1 3 5 7 9 11 13 15 17 19 21 23 25 27 29 31 33 35 37 39 41 43 45 47 49 51 53 55 57 59 61 63 65 67 69 71 73 75 77 79 81 83 85 87 89 91 93 95 97 99 "
     ]
    }
   ],
   "source": [
    "for i in range(1,100,1):\n",
    "    if i%2!=0:\n",
    "        print(i,end=' ')"
   ]
  },
  {
   "cell_type": "code",
   "execution_count": 59,
   "id": "6a4976b3-0b36-4d0f-a55e-4a605c3ff544",
   "metadata": {},
   "outputs": [
    {
     "name": "stdout",
     "output_type": "stream",
     "text": [
      "0 2 4 6 8 10 12 14 16 18 20 22 24 26 28 30 32 34 36 38 40 42 44 46 48 50 52 54 56 58 60 62 64 66 68 70 72 74 76 78 80 82 84 86 88 90 92 94 96 98 "
     ]
    }
   ],
   "source": [
    "for i in range(0,100,2):\n",
    "    print(i,end=' ')"
   ]
  },
  {
   "cell_type": "code",
   "execution_count": 61,
   "id": "3ef8d818-d901-48e1-ba4f-6c3277f66d5d",
   "metadata": {},
   "outputs": [
    {
     "name": "stdout",
     "output_type": "stream",
     "text": [
      "0 2 4 6 8 10 12 14 16 18 20 22 24 26 28 30 32 34 36 38 40 42 44 46 48 50 52 54 56 58 60 62 64 66 68 70 72 74 76 78 80 82 84 86 88 90 92 94 96 98 "
     ]
    }
   ],
   "source": [
    "for i in range(0,100,2):\n",
    "    if i%2==0:\n",
    "        print(i,end=' ')"
   ]
  },
  {
   "cell_type": "code",
   "execution_count": 63,
   "id": "6e0e28fb-7d96-47dd-9d9d-f1b9d8d6025b",
   "metadata": {},
   "outputs": [
    {
     "name": "stdout",
     "output_type": "stream",
     "text": [
      "100 99 98 97 96 95 94 93 92 91 90 89 88 87 86 85 84 83 82 81 80 79 78 77 76 75 74 73 72 71 70 69 68 67 66 65 64 63 62 61 60 59 58 57 56 55 54 53 52 51 50 49 48 47 46 45 44 43 42 41 40 39 38 37 36 35 34 33 32 31 30 29 28 27 26 25 24 23 22 21 20 19 18 17 16 15 14 13 12 11 10 9 8 7 6 5 4 3 2 1 "
     ]
    }
   ],
   "source": [
    "#Range in decreasing order\n",
    "#syntax : range(start,stop-1,stop)\n",
    "for i in range(100,0,-1):\n",
    "    print(i,end=' ')"
   ]
  },
  {
   "cell_type": "code",
   "execution_count": 93,
   "id": "281dca14-aa2b-4fbd-9d6a-7ad7fe3a5df0",
   "metadata": {},
   "outputs": [
    {
     "name": "stdout",
     "output_type": "stream",
     "text": [
      "198 195 192 189 186 183 180 177 174 171 168 165 162 159 156 153 150 147 144 141 138 135 132 129 126 123 120 117 114 111 108 105 102 "
     ]
    }
   ],
   "source": [
    "for i in range(200,99,-1):\n",
    "    if i%3==0:\n",
    "        print(i,end=' ')"
   ]
  },
  {
   "cell_type": "code",
   "execution_count": 37,
   "id": "a96afd13-d676-4c1c-96cf-eb0c4fdb3008",
   "metadata": {},
   "outputs": [
    {
     "name": "stdout",
     "output_type": "stream",
     "text": [
      "Enter a number :  10\n"
     ]
    },
    {
     "name": "stdout",
     "output_type": "stream",
     "text": [
      "10 * 1 : 10\n",
      "10 * 2 : 20\n",
      "10 * 3 : 30\n",
      "10 * 4 : 40\n",
      "10 * 5 : 50\n",
      "10 * 6 : 60\n",
      "10 * 7 : 70\n",
      "10 * 8 : 80\n",
      "10 * 9 : 90\n",
      "10 * 10 : 100\n"
     ]
    }
   ],
   "source": [
    "a = int(input(\"Enter a number : \"))\n",
    "for i in range(1,11,1):\n",
    "    print(a ,'*' ,i ,':' ,a * i)"
   ]
  },
  {
   "cell_type": "code",
   "execution_count": 1,
   "id": "84d94c67-fd27-44b4-b591-cc92c3dbab56",
   "metadata": {},
   "outputs": [
    {
     "name": "stdout",
     "output_type": "stream",
     "text": [
      "Enter the num :  56\n"
     ]
    },
    {
     "name": "stdout",
     "output_type": "stream",
     "text": [
      "composite\n"
     ]
    }
   ],
   "source": [
    "#prime or composite\n",
    "t = int(input(\"Enter the num : \"))\n",
    "c = 0\n",
    "\n",
    "for i in range(2,t):\n",
    "    if t%i == 0:\n",
    "        c+=1\n",
    "        break\n",
    "if c >= 1:\n",
    "    print(\"composite\")\n",
    "elif n==0 or n==1:\n",
    "    print(f'{t} is the neither prime or nor Composite')\n",
    "else:\n",
    "    print(\"prime\")"
   ]
  },
  {
   "cell_type": "code",
   "execution_count": 13,
   "id": "70ee187d-eb3a-4f7c-9bea-1a461039644e",
   "metadata": {},
   "outputs": [
    {
     "name": "stdout",
     "output_type": "stream",
     "text": [
      "Enter the num :  25\n"
     ]
    },
    {
     "name": "stdout",
     "output_type": "stream",
     "text": [
      "The factors of 25 are :\n",
      "1 5 25 "
     ]
    }
   ],
   "source": [
    "#to find the factors of a number\n",
    "n = int(input(\"Enter the num : \"))\n",
    "print(f'The factors of {n} are :')\n",
    "\n",
    "for i in range(1,n+1):\n",
    "    if n%i == 0:\n",
    "        print(i,end=' ')"
   ]
  },
  {
   "cell_type": "code",
   "execution_count": 15,
   "id": "d60b305e-afab-4c5b-9bf6-709afb82c79d",
   "metadata": {},
   "outputs": [
    {
     "name": "stdout",
     "output_type": "stream",
     "text": [
      "Enter a character :  A\n"
     ]
    },
    {
     "name": "stdout",
     "output_type": "stream",
     "text": [
      "Vowel\n"
     ]
    }
   ],
   "source": [
    "#vowels and consonant\n",
    "c = input('Enter a character : ')\n",
    "if c.lower() in 'aeiou':\n",
    "    print('Vowel')\n",
    "else:\n",
    "    print('Consonant')\n",
    "    "
   ]
  },
  {
   "cell_type": "code",
   "execution_count": 31,
   "id": "f0432e5f-cf0b-4539-baba-53368ab48817",
   "metadata": {},
   "outputs": [
    {
     "name": "stdout",
     "output_type": "stream",
     "text": [
      "Enter a string :  jello\n"
     ]
    },
    {
     "name": "stdout",
     "output_type": "stream",
     "text": [
      "eo"
     ]
    }
   ],
   "source": [
    "#to find all the vowels present in a string\n",
    "c = input('Enter a string : ')\n",
    "for i in c:\n",
    "    if i.lower() in 'aeiou':\n",
    "        print(i,end='')"
   ]
  },
  {
   "cell_type": "markdown",
   "id": "12642c75-4390-41b8-880e-01a89cffa742",
   "metadata": {},
   "source": [
    "## Nested for loop : A nested loop is a loop inside a loop."
   ]
  },
  {
   "cell_type": "raw",
   "id": "215d96f4-deff-49ab-a4d5-55bbb8186a28",
   "metadata": {},
   "source": [
    "The \"inner loop\" will be executed one-time for each iteration of the \"Outer loop\":"
   ]
  },
  {
   "cell_type": "code",
   "execution_count": 35,
   "id": "ddd9de55-7386-4fc9-863c-38d00ce1425b",
   "metadata": {},
   "outputs": [
    {
     "name": "stdout",
     "output_type": "stream",
     "text": [
      "1 1\n",
      "1 2\n",
      "1 3\n",
      "1 4\n",
      "2 1\n",
      "2 2\n",
      "2 3\n",
      "2 4\n",
      "3 1\n",
      "3 2\n",
      "3 3\n",
      "3 4\n"
     ]
    }
   ],
   "source": [
    "for i in range(1,4):\n",
    "    for j in range(1,5):\n",
    "        print(i,j)"
   ]
  },
  {
   "cell_type": "code",
   "execution_count": 52,
   "id": "cf583392-330b-4fee-b21d-a1a030a43099",
   "metadata": {},
   "outputs": [
    {
     "name": "stdout",
     "output_type": "stream",
     "text": [
      "Enter the number :  5\n",
      "Enter the number :  10\n"
     ]
    },
    {
     "name": "stdout",
     "output_type": "stream",
     "text": [
      "5 X 1 = 5\n",
      "\n",
      "5 X 2 = 10\n",
      "\n",
      "5 X 3 = 15\n",
      "\n",
      "5 X 4 = 20\n",
      "\n",
      "5 X 5 = 25\n",
      "\n",
      "5 X 6 = 30\n",
      "\n",
      "5 X 7 = 35\n",
      "\n",
      "5 X 8 = 40\n",
      "\n",
      "5 X 9 = 45\n",
      "\n",
      "5 X 10 = 50\n",
      "\n",
      "6 X 1 = 6\n",
      "\n",
      "6 X 2 = 12\n",
      "\n",
      "6 X 3 = 18\n",
      "\n",
      "6 X 4 = 24\n",
      "\n",
      "6 X 5 = 30\n",
      "\n",
      "6 X 6 = 36\n",
      "\n",
      "6 X 7 = 42\n",
      "\n",
      "6 X 8 = 48\n",
      "\n",
      "6 X 9 = 54\n",
      "\n",
      "6 X 10 = 60\n",
      "\n",
      "7 X 1 = 7\n",
      "\n",
      "7 X 2 = 14\n",
      "\n",
      "7 X 3 = 21\n",
      "\n",
      "7 X 4 = 28\n",
      "\n",
      "7 X 5 = 35\n",
      "\n",
      "7 X 6 = 42\n",
      "\n",
      "7 X 7 = 49\n",
      "\n",
      "7 X 8 = 56\n",
      "\n",
      "7 X 9 = 63\n",
      "\n",
      "7 X 10 = 70\n",
      "\n",
      "8 X 1 = 8\n",
      "\n",
      "8 X 2 = 16\n",
      "\n",
      "8 X 3 = 24\n",
      "\n",
      "8 X 4 = 32\n",
      "\n",
      "8 X 5 = 40\n",
      "\n",
      "8 X 6 = 48\n",
      "\n",
      "8 X 7 = 56\n",
      "\n",
      "8 X 8 = 64\n",
      "\n",
      "8 X 9 = 72\n",
      "\n",
      "8 X 10 = 80\n",
      "\n",
      "9 X 1 = 9\n",
      "\n",
      "9 X 2 = 18\n",
      "\n",
      "9 X 3 = 27\n",
      "\n",
      "9 X 4 = 36\n",
      "\n",
      "9 X 5 = 45\n",
      "\n",
      "9 X 6 = 54\n",
      "\n",
      "9 X 7 = 63\n",
      "\n",
      "9 X 8 = 72\n",
      "\n",
      "9 X 9 = 81\n",
      "\n",
      "9 X 10 = 90\n",
      "\n",
      "10 X 1 = 10\n",
      "\n",
      "10 X 2 = 20\n",
      "\n",
      "10 X 3 = 30\n",
      "\n",
      "10 X 4 = 40\n",
      "\n",
      "10 X 5 = 50\n",
      "\n",
      "10 X 6 = 60\n",
      "\n",
      "10 X 7 = 70\n",
      "\n",
      "10 X 8 = 80\n",
      "\n",
      "10 X 9 = 90\n",
      "\n",
      "10 X 10 = 100\n",
      "\n"
     ]
    }
   ],
   "source": [
    "m = int(input(\"Enter the number : \"))\n",
    "n = int(input(\"Enter the number : \"))\n",
    "for i in range(m,n+1):\n",
    "    for j in range(1,11):\n",
    "        print(f'{i} X {j} = {i*j}')\n",
    "        print()   "
   ]
  },
  {
   "cell_type": "markdown",
   "id": "7ece1b64-39e6-446a-9dc2-89f7de988d1f",
   "metadata": {},
   "source": [
    "## Pattern print"
   ]
  },
  {
   "cell_type": "code",
   "execution_count": 58,
   "id": "36c117fd-a74a-45ce-a181-a45df4252b90",
   "metadata": {},
   "outputs": [
    {
     "name": "stdout",
     "output_type": "stream",
     "text": [
      "Enter number of rows :  5\n"
     ]
    },
    {
     "name": "stdout",
     "output_type": "stream",
     "text": [
      "*\n",
      "**\n",
      "***\n",
      "****\n",
      "*****\n"
     ]
    }
   ],
   "source": [
    "row = int(input(\"Enter number of rows : \"))\n",
    "for i in range(1,row+1):\n",
    "    print('*' * i)"
   ]
  },
  {
   "cell_type": "code",
   "execution_count": 5,
   "id": "c53316b6-360d-468b-a6b0-232ba1419cd4",
   "metadata": {},
   "outputs": [
    {
     "name": "stdout",
     "output_type": "stream",
     "text": [
      "Enter number of rows :  5\n"
     ]
    },
    {
     "name": "stdout",
     "output_type": "stream",
     "text": [
      "*****\n",
      "****\n",
      "***\n",
      "**\n",
      "*\n"
     ]
    }
   ],
   "source": [
    "row = int(input(\"Enter number of rows : \"))\n",
    "for i in range(row,0,-1):\n",
    "    print('*' * i)"
   ]
  },
  {
   "cell_type": "code",
   "execution_count": 11,
   "id": "55f8fdef-8b50-4d1d-978d-5dfdf6a26915",
   "metadata": {},
   "outputs": [
    {
     "name": "stdout",
     "output_type": "stream",
     "text": [
      "Enter number of rows :  5\n"
     ]
    },
    {
     "name": "stdout",
     "output_type": "stream",
     "text": [
      "* \n",
      "* * \n",
      "* * * \n",
      "* * * * \n",
      "* * * * * \n",
      "* * * * \n",
      "* * * \n",
      "* * \n",
      "* \n"
     ]
    }
   ],
   "source": [
    "row = int(input(\"Enter number of rows : \"))\n",
    "for i in range(1,row):\n",
    "    print('* ' * i)\n",
    "for i in range(row,0,-1):\n",
    "    print('* ' * i)"
   ]
  },
  {
   "cell_type": "code",
   "execution_count": 15,
   "id": "50345dd9-178f-4599-820f-b5711fc20cfc",
   "metadata": {},
   "outputs": [
    {
     "name": "stdout",
     "output_type": "stream",
     "text": [
      "Enter number of rows :  5\n"
     ]
    },
    {
     "name": "stdout",
     "output_type": "stream",
     "text": [
      "* * * * * \n",
      "* * * * * \n",
      "* * * * * \n",
      "* * * * * \n",
      "* * * * * \n"
     ]
    }
   ],
   "source": [
    "row = int(input('Enter number of rows : '))\n",
    "for i in range(1,row+1):\n",
    "    print('* ' * row)"
   ]
  },
  {
   "cell_type": "code",
   "execution_count": 19,
   "id": "ea9ae4e4-43a9-4884-bd15-a699bc218727",
   "metadata": {},
   "outputs": [
    {
     "name": "stdout",
     "output_type": "stream",
     "text": [
      "Enter legth :  5\n",
      "Enter breadth :  4\n"
     ]
    },
    {
     "name": "stdout",
     "output_type": "stream",
     "text": [
      "* * * * * \n",
      "* * * * * \n",
      "* * * * * \n",
      "* * * * * \n"
     ]
    }
   ],
   "source": [
    "l = int(input(\"Enter legth : \"))\n",
    "b = int(input(\"Enter breadth : \"))\n",
    "\n",
    "for i in range (1,b+1):\n",
    "    print('* ' * l)"
   ]
  },
  {
   "cell_type": "code",
   "execution_count": 21,
   "id": "bf65f8e2-062a-48cc-994f-50656505c1ed",
   "metadata": {},
   "outputs": [
    {
     "name": "stdout",
     "output_type": "stream",
     "text": [
      "Enter number of rows :  5\n"
     ]
    },
    {
     "name": "stdout",
     "output_type": "stream",
     "text": [
      "      * \n",
      "     * * \n",
      "    * * * \n",
      "   * * * * \n",
      "  * * * * * \n"
     ]
    }
   ],
   "source": [
    "row = int(input('Enter number of rows : '))\n",
    "c = 1\n",
    "for i in range(row,0,-1):\n",
    "    print(' '*i,'* '*c)\n",
    "    c+=1"
   ]
  },
  {
   "cell_type": "code",
   "execution_count": 25,
   "id": "b6c74901-1668-4860-82a9-aa2340a91167",
   "metadata": {},
   "outputs": [
    {
     "name": "stdout",
     "output_type": "stream",
     "text": [
      "Enter number of rows :  5\n"
     ]
    },
    {
     "name": "stdout",
     "output_type": "stream",
     "text": [
      "      * \n",
      "     * * \n",
      "    * * * \n",
      "   * * * * \n",
      "  * * * * * \n",
      " * * * * * * \n",
      "  * * * * * \n",
      "   * * * * \n",
      "    * * * \n",
      "     * * \n",
      "      * \n"
     ]
    }
   ],
   "source": [
    "row = int(input('Enter number of rows : '))\n",
    "c = 1\n",
    "for i in range(row,0,-1):\n",
    "    print(' '*i,'* '*c)\n",
    "    c+=1\n",
    "for i in range(0,row+1):\n",
    "    print(' '*i,'* '*c)\n",
    "    c-=1"
   ]
  },
  {
   "cell_type": "code",
   "execution_count": null,
   "id": "e5736f16-2260-4b70-8a43-eff321be5fd6",
   "metadata": {},
   "outputs": [],
   "source": []
  }
 ],
 "metadata": {
  "kernelspec": {
   "display_name": "Python 3 (ipykernel)",
   "language": "python",
   "name": "python3"
  },
  "language_info": {
   "codemirror_mode": {
    "name": "ipython",
    "version": 3
   },
   "file_extension": ".py",
   "mimetype": "text/x-python",
   "name": "python",
   "nbconvert_exporter": "python",
   "pygments_lexer": "ipython3",
   "version": "3.12.7"
  }
 },
 "nbformat": 4,
 "nbformat_minor": 5
}
