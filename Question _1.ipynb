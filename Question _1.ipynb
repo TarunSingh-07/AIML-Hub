{
 "cells": [
  {
   "cell_type": "code",
   "execution_count": 7,
   "id": "1427ad99-f9ae-4ee0-9db1-6f7780268c8e",
   "metadata": {},
   "outputs": [
    {
     "name": "stdout",
     "output_type": "stream",
     "text": [
      "Enter your full name :  Tarun kumar singh\n"
     ]
    },
    {
     "name": "stdout",
     "output_type": "stream",
     "text": [
      "The Surname is :  singh\n"
     ]
    }
   ],
   "source": [
    "#Question 1\n",
    "a = input(\"Enter your full name : \")\n",
    "n = a.split()\n",
    "print(\"The Surname is : \" , n[-1])"
   ]
  },
  {
   "cell_type": "code",
   "execution_count": 35,
   "id": "74696ae6-4bf6-4d0a-9a5c-b9eb9f388c19",
   "metadata": {},
   "outputs": [
    {
     "name": "stdout",
     "output_type": "stream",
     "text": [
      "Enter a character :  U\n"
     ]
    },
    {
     "name": "stdout",
     "output_type": "stream",
     "text": [
      "The character is vowel\n"
     ]
    }
   ],
   "source": [
    "#Question 2\n",
    "c = input(\"Enter a character : \")\n",
    "\n",
    "if c in ['a','o','e','i','u','A','E','I','O','U'] :\n",
    "    print(\"The character is vowel\")\n",
    "else:\n",
    "    print(\"The character is consonant\")"
   ]
  },
  {
   "cell_type": "code",
   "execution_count": 45,
   "id": "f7b4add1-229b-414d-82ea-067ce9ed004a",
   "metadata": {},
   "outputs": [
    {
     "name": "stdout",
     "output_type": "stream",
     "text": [
      "Enter a character :  y\n"
     ]
    },
    {
     "name": "stdout",
     "output_type": "stream",
     "text": [
      "Character is alphabet\n"
     ]
    }
   ],
   "source": [
    "#Question 3\n",
    "a = input(\"Enter a character : \")\n",
    "if a.isalpha():\n",
    "    print(\"Character is alphabet\")\n",
    "else:\n",
    "    print(\"Character is not a alphabet\")"
   ]
  },
  {
   "cell_type": "code",
   "execution_count": 55,
   "id": "fe4e7628-556f-4887-b92b-2f17f4d5ff8a",
   "metadata": {},
   "outputs": [
    {
     "name": "stdout",
     "output_type": "stream",
     "text": [
      "enter your year of experience :  4\n",
      "enter your salary :  20000\n"
     ]
    },
    {
     "name": "stdout",
     "output_type": "stream",
     "text": [
      "Experience is less than 5 yrs & the salary is :  20000\n"
     ]
    }
   ],
   "source": [
    "#Question 4\n",
    "a = int(input(\"enter your year of experience : \"))\n",
    "s = int(input(\"enter your salary : \"))\n",
    "b = s + (0.05*s)\n",
    "if a > 5:\n",
    "    print(\"The salary is \",b)\n",
    "else:\n",
    "    print(\"Experience is less than 5 yrs & the salary is : \",s)"
   ]
  },
  {
   "cell_type": "code",
   "execution_count": 61,
   "id": "9ae3f46d-87bb-4304-9d8f-fae7d449f51c",
   "metadata": {},
   "outputs": [
    {
     "name": "stdout",
     "output_type": "stream",
     "text": [
      "Enter 1st side 12\n",
      "Enter 2nd side 13\n",
      "Enter 3rd side 24\n"
     ]
    },
    {
     "name": "stdout",
     "output_type": "stream",
     "text": [
      "Triangle is Scalene\n"
     ]
    }
   ],
   "source": [
    "#Question 5\n",
    "a1 = int(input(\"Enter 1st side\"))\n",
    "a2 = int(input(\"Enter 2nd side\"))\n",
    "a3 = int(input(\"Enter 3rd side\"))\n",
    "\n",
    "if a1 == a2 == a3:\n",
    "    print(\"Triangle is Equilateral\")\n",
    "elif a1 == a2 or a1 == a3 or a2 == a3 :\n",
    "    print(\"Triangle is isosceles\")\n",
    "else:\n",
    "    print(\"Triangle is Scalene\")"
   ]
  },
  {
   "cell_type": "code",
   "execution_count": 65,
   "id": "e97579cd-b5f1-4e6a-9db3-ba5f1cbaeabf",
   "metadata": {},
   "outputs": [
    {
     "name": "stdout",
     "output_type": "stream",
     "text": [
      "Enter the length 12\n",
      "Enter the breadth 12\n"
     ]
    },
    {
     "name": "stdout",
     "output_type": "stream",
     "text": [
      "Rectangle is Square\n"
     ]
    }
   ],
   "source": [
    "#Question 6\n",
    "l = input(\"Enter the length\")\n",
    "b = input(\"Enter the breadth\")\n",
    "if l == b:\n",
    "    print(\"Rectangle is Square\")\n",
    "else:\n",
    "    print(\"Rectangle is not Square\")\n"
   ]
  },
  {
   "cell_type": "code",
   "execution_count": 69,
   "id": "75d475e4-9791-4622-89e9-bafabb5e066b",
   "metadata": {},
   "outputs": [
    {
     "name": "stdout",
     "output_type": "stream",
     "text": [
      "Enter the length in number 456987023\n"
     ]
    },
    {
     "name": "stdout",
     "output_type": "stream",
     "text": [
      "The last num is : 3\n"
     ]
    }
   ],
   "source": [
    "#Question 7\n",
    "l = int(input(\"Enter the length in number\"))\n",
    "s = str(l)\n",
    "print(\"The last num is :\",s[-1])\n",
    "        "
   ]
  },
  {
   "cell_type": "code",
   "execution_count": 71,
   "id": "35c51153-855a-48da-a564-9b0411dcb4d3",
   "metadata": {},
   "outputs": [
    {
     "name": "stdout",
     "output_type": "stream",
     "text": [
      "Enter the 3 digit number 564\n"
     ]
    },
    {
     "name": "stdout",
     "output_type": "stream",
     "text": [
      "The last num is : 5\n"
     ]
    }
   ],
   "source": [
    "#Question 8\n",
    "l = int(input(\"Enter the 3 digit number\"))\n",
    "s = str(l)\n",
    "print(\"The last num is :\",s[0])"
   ]
  },
  {
   "cell_type": "code",
   "execution_count": 75,
   "id": "ba51dd3b-4750-4f47-8913-94f502e4d807",
   "metadata": {},
   "outputs": [
    {
     "name": "stdout",
     "output_type": "stream",
     "text": [
      "Enter the total class held 400\n",
      "Enter the class you attend 360\n"
     ]
    },
    {
     "name": "stdout",
     "output_type": "stream",
     "text": [
      "You can sit in exam\n"
     ]
    }
   ],
   "source": [
    "#Question 9\n",
    "c = int(input(\"Enter the total class held\"))\n",
    "s = int(input(\"Enter the class you attend\"))\n",
    "p = (s*100)/c\n",
    "if p >= 75:\n",
    "    print(\"You can sit in exam\")\n",
    "else:\n",
    "    print(\"You can't sit in exam\")"
   ]
  },
  {
   "cell_type": "code",
   "execution_count": 81,
   "id": "edb997a2-f796-48bd-9081-957cfce9e07b",
   "metadata": {},
   "outputs": [
    {
     "name": "stdout",
     "output_type": "stream",
     "text": [
      "Enter the 1st person age 89\n",
      "Enter the 2nd person age 90\n",
      "Enter the 3rd person age 45\n"
     ]
    },
    {
     "name": "stdout",
     "output_type": "stream",
     "text": [
      "2nd person is old\n"
     ]
    }
   ],
   "source": [
    "#Question 10\n",
    "p1 = int(input(\"Enter the 1st person age\"))\n",
    "p2 = int(input(\"Enter the 2nd person age\"))\n",
    "p3 = int(input(\"Enter the 3rd person age\"))   \n",
    "if p1>p2 and p1>p3 :\n",
    "         print(\"1st person is old\")\n",
    "elif p2>p1 and p2>p3:\n",
    "         print(\"2nd person is old\")\n",
    "else:\n",
    "    print(\"3rd person is old\")"
   ]
  },
  {
   "cell_type": "code",
   "execution_count": null,
   "id": "9f82e01f-2ee4-4fd9-826b-0f0a334873f0",
   "metadata": {},
   "outputs": [],
   "source": []
  }
 ],
 "metadata": {
  "kernelspec": {
   "display_name": "Python 3 (ipykernel)",
   "language": "python",
   "name": "python3"
  },
  "language_info": {
   "codemirror_mode": {
    "name": "ipython",
    "version": 3
   },
   "file_extension": ".py",
   "mimetype": "text/x-python",
   "name": "python",
   "nbconvert_exporter": "python",
   "pygments_lexer": "ipython3",
   "version": "3.12.7"
  }
 },
 "nbformat": 4,
 "nbformat_minor": 5
}
