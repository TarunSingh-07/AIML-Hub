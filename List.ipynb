{
 "cells": [
  {
   "cell_type": "markdown",
   "id": "106980a5-9e86-4916-b03d-3b15c1125fac",
   "metadata": {},
   "source": [
    "## LIst"
   ]
  },
  {
   "cell_type": "code",
   "execution_count": 2,
   "id": "0e11cf32-d3f8-4ad7-827e-dc2f19b0117a",
   "metadata": {},
   "outputs": [
    {
     "name": "stdout",
     "output_type": "stream",
     "text": [
      "[20, 3.5, 'cat', True]\n"
     ]
    }
   ],
   "source": [
    "l = [20,3.5,'cat',True]\n",
    "print(l)"
   ]
  },
  {
   "cell_type": "code",
   "execution_count": 4,
   "id": "a979a52a-439c-4995-8bb1-1f371a6425b6",
   "metadata": {},
   "outputs": [
    {
     "data": {
      "text/plain": [
       "list"
      ]
     },
     "execution_count": 4,
     "metadata": {},
     "output_type": "execute_result"
    }
   ],
   "source": [
    "type(l)"
   ]
  },
  {
   "cell_type": "code",
   "execution_count": 6,
   "id": "667b73cb-4295-425f-a9bc-b6b66a56367f",
   "metadata": {},
   "outputs": [
    {
     "data": {
      "text/plain": [
       "'cat'"
      ]
     },
     "execution_count": 6,
     "metadata": {},
     "output_type": "execute_result"
    }
   ],
   "source": [
    "#Indexing syntax : var[index]\n",
    "l[2]"
   ]
  },
  {
   "cell_type": "code",
   "execution_count": 8,
   "id": "bbf83fbc-b5a2-4aa5-9b25-5975dcaf50a4",
   "metadata": {},
   "outputs": [
    {
     "data": {
      "text/plain": [
       "'cat'"
      ]
     },
     "execution_count": 8,
     "metadata": {},
     "output_type": "execute_result"
    }
   ],
   "source": [
    "l[-2]"
   ]
  },
  {
   "cell_type": "code",
   "execution_count": 10,
   "id": "38841c43-89e5-4bdb-87b5-d48983153b00",
   "metadata": {},
   "outputs": [
    {
     "data": {
      "text/plain": [
       "[20, 'cat']"
      ]
     },
     "execution_count": 10,
     "metadata": {},
     "output_type": "execute_result"
    }
   ],
   "source": [
    "#Slicing\n",
    "l[0:3:2]"
   ]
  },
  {
   "cell_type": "code",
   "execution_count": 16,
   "id": "0caf0994-d674-4ac4-8dd8-09767f73ef4b",
   "metadata": {},
   "outputs": [
    {
     "data": {
      "text/plain": [
       "[True, 'cat', 3.5, 20]"
      ]
     },
     "execution_count": 16,
     "metadata": {},
     "output_type": "execute_result"
    }
   ],
   "source": [
    "l[::-1]"
   ]
  },
  {
   "cell_type": "code",
   "execution_count": 18,
   "id": "e9ea0a07-b8fa-48d6-abc7-b63f78bbd674",
   "metadata": {},
   "outputs": [
    {
     "data": {
      "text/plain": [
       "[20, 3.5, 'cat', True]"
      ]
     },
     "execution_count": 18,
     "metadata": {},
     "output_type": "execute_result"
    }
   ],
   "source": [
    "l[::]"
   ]
  },
  {
   "cell_type": "code",
   "execution_count": 20,
   "id": "9397c2df-f74c-417e-9026-3bfde5be89cb",
   "metadata": {},
   "outputs": [
    {
     "name": "stdout",
     "output_type": "stream",
     "text": [
      "[20, 45, 67, 45, 45, 78, 90, 35]\n"
     ]
    }
   ],
   "source": [
    "l = [20,45,67,45,45,78,90,35]\n",
    "print(l)"
   ]
  },
  {
   "cell_type": "code",
   "execution_count": 22,
   "id": "5fce85b5-a5a0-440e-97b6-b2cbc424dedf",
   "metadata": {},
   "outputs": [
    {
     "data": {
      "text/plain": [
       "list"
      ]
     },
     "execution_count": 22,
     "metadata": {},
     "output_type": "execute_result"
    }
   ],
   "source": [
    "type(l)"
   ]
  },
  {
   "cell_type": "code",
   "execution_count": 32,
   "id": "4a9c7d00-eec6-41a9-bb1d-251cf4d08de7",
   "metadata": {},
   "outputs": [
    {
     "name": "stdout",
     "output_type": "stream",
     "text": [
      "[20, 45, 67, 45, 45, 78, 90, 35, 100, 100, 100]\n"
     ]
    }
   ],
   "source": [
    "#Adding items to a list\n",
    "#append\n",
    "print(l)\n",
    "l.append(100)\n",
    "print(l)"
   ]
  },
  {
   "cell_type": "code",
   "execution_count": 37,
   "id": "1058a55c-3d30-43cd-aa5b-4718688b86da",
   "metadata": {},
   "outputs": [
    {
     "name": "stdout",
     "output_type": "stream",
     "text": [
      "[20, 56, 56, 45, 67, 45, 45, 78, 90, 35, 100, 100, 100]\n"
     ]
    }
   ],
   "source": [
    "#insert\n",
    "l.insert(1,56)\n",
    "print(l)"
   ]
  },
  {
   "cell_type": "code",
   "execution_count": 41,
   "id": "229578af-0271-46ff-86ef-227e7326f936",
   "metadata": {},
   "outputs": [
    {
     "name": "stdout",
     "output_type": "stream",
     "text": [
      "[20, 56, 56, 45, 67, 45, 45, 78, 90, 35, 100, 100, 100]\n",
      "[20, 56, 56, 45, 67, 45, 45, 78, 90, 35, 100, 100, 100, 20, 30, 40]\n"
     ]
    }
   ],
   "source": [
    "#extend\n",
    "print(l)\n",
    "l.extend([20,30,40])\n",
    "print(l)"
   ]
  },
  {
   "cell_type": "code",
   "execution_count": 43,
   "id": "1fc9ab70-de9d-4808-8701-3d3bcbb839a0",
   "metadata": {},
   "outputs": [
    {
     "name": "stdout",
     "output_type": "stream",
     "text": [
      "[20, 56, 56, 45, 67, 45, 45, 78, 90, 35, 100, 100, 100, 20, 30, 40]\n",
      "[20, 56, 56, 45, 67, 45, 45, 78, 90, 35, 100, 100, 100, 20, 30]\n"
     ]
    }
   ],
   "source": [
    "#removing elements from the list\n",
    "#pop\n",
    "print(l)\n",
    "l.pop()\n",
    "print(l)"
   ]
  },
  {
   "cell_type": "code",
   "execution_count": 47,
   "id": "dee88522-1d02-4ab0-a542-4376344847ec",
   "metadata": {},
   "outputs": [
    {
     "name": "stdout",
     "output_type": "stream",
     "text": [
      "[20, 56, 56, 45, 67, 45, 45, 78, 90, 35, 100, 100, 100, 20]\n",
      "[20, 56, 56, 45, 45, 45, 78, 90, 35, 100, 100, 100, 20]\n"
     ]
    }
   ],
   "source": [
    "#Using index position\n",
    "print(l)\n",
    "l.pop(4)\n",
    "print(l)"
   ]
  },
  {
   "cell_type": "code",
   "execution_count": 49,
   "id": "6bf5a5df-fd1a-4d71-8487-d13d5968c932",
   "metadata": {},
   "outputs": [
    {
     "name": "stdout",
     "output_type": "stream",
     "text": [
      "[20, 56, 56, 45, 45, 45, 78, 90, 35, 100, 100, 100, 20]\n",
      "[20, 56, 56, 45, 45, 78, 90, 35, 100, 100, 100, 20]\n"
     ]
    }
   ],
   "source": [
    "#Using value removing elements\n",
    "#remove\n",
    "print(l)\n",
    "l.remove(45)\n",
    "print(l)"
   ]
  },
  {
   "cell_type": "code",
   "execution_count": 51,
   "id": "23986d42-8cb4-494d-a0ff-5be22d910e3f",
   "metadata": {},
   "outputs": [
    {
     "name": "stdout",
     "output_type": "stream",
     "text": [
      "[20, 56, 56, 45, 45, 78, 90, 35, 100, 100, 100, 20]\n",
      "[20, 56, 56, 45, 45, 78, 90, 35, 100, 100, 100, 20]\n"
     ]
    }
   ],
   "source": [
    "#Misllenious methods in list\n",
    "#copy\n",
    "print(l)\n",
    "m = l.copy()\n",
    "print(m)"
   ]
  },
  {
   "cell_type": "code",
   "execution_count": 53,
   "id": "60d67475-cad2-436c-a839-a441829ce620",
   "metadata": {},
   "outputs": [
    {
     "data": {
      "text/plain": [
       "2"
      ]
     },
     "execution_count": 53,
     "metadata": {},
     "output_type": "execute_result"
    }
   ],
   "source": [
    "#count\n",
    "l.count(45)"
   ]
  },
  {
   "cell_type": "code",
   "execution_count": 55,
   "id": "137f84f0-5c28-41c1-84ed-fe0c66b6e6dc",
   "metadata": {},
   "outputs": [
    {
     "data": {
      "text/plain": [
       "8"
      ]
     },
     "execution_count": 55,
     "metadata": {},
     "output_type": "execute_result"
    }
   ],
   "source": [
    "#index\n",
    "l.index(100)"
   ]
  },
  {
   "cell_type": "code",
   "execution_count": 57,
   "id": "a5c8bcfb-16d8-4375-958f-0142af99d5f0",
   "metadata": {},
   "outputs": [
    {
     "name": "stdout",
     "output_type": "stream",
     "text": [
      "[20, 56, 56, 45, 45, 78, 90, 35, 100, 100, 100, 20]\n",
      "[20, 20, 35, 45, 45, 56, 56, 78, 90, 100, 100, 100]\n"
     ]
    }
   ],
   "source": [
    "#Sort : accending order\n",
    "print(l)\n",
    "l.sort()\n",
    "print(l)"
   ]
  },
  {
   "cell_type": "code",
   "execution_count": 59,
   "id": "ab0d9b2a-ca4d-4d9a-b971-5715f9f845a3",
   "metadata": {},
   "outputs": [
    {
     "name": "stdout",
     "output_type": "stream",
     "text": [
      "['bat', 'gun', 'apple', 'sky']\n",
      "['apple', 'bat', 'gun', 'sky']\n"
     ]
    }
   ],
   "source": [
    "a = ['bat','gun','apple','sky']\n",
    "print(a)\n",
    "a.sort()\n",
    "print(a)"
   ]
  },
  {
   "cell_type": "code",
   "execution_count": 61,
   "id": "a1084af8-814b-420a-8d7f-483972cb0e06",
   "metadata": {},
   "outputs": [
    {
     "name": "stdout",
     "output_type": "stream",
     "text": [
      "['cat', 20, 30, 'dog', 40, 7]\n"
     ]
    },
    {
     "ename": "TypeError",
     "evalue": "'<' not supported between instances of 'int' and 'str'",
     "output_type": "error",
     "traceback": [
      "\u001b[1;31m---------------------------------------------------------------------------\u001b[0m",
      "\u001b[1;31mTypeError\u001b[0m                                 Traceback (most recent call last)",
      "Cell \u001b[1;32mIn[61], line 3\u001b[0m\n\u001b[0;32m      1\u001b[0m a \u001b[38;5;241m=\u001b[39m [\u001b[38;5;124m'\u001b[39m\u001b[38;5;124mcat\u001b[39m\u001b[38;5;124m'\u001b[39m,\u001b[38;5;241m20\u001b[39m,\u001b[38;5;241m30\u001b[39m,\u001b[38;5;124m'\u001b[39m\u001b[38;5;124mdog\u001b[39m\u001b[38;5;124m'\u001b[39m,\u001b[38;5;241m40\u001b[39m,\u001b[38;5;241m7\u001b[39m]\n\u001b[0;32m      2\u001b[0m \u001b[38;5;28mprint\u001b[39m(a)\n\u001b[1;32m----> 3\u001b[0m \u001b[43ma\u001b[49m\u001b[38;5;241;43m.\u001b[39;49m\u001b[43msort\u001b[49m\u001b[43m(\u001b[49m\u001b[43m)\u001b[49m\n\u001b[0;32m      4\u001b[0m \u001b[38;5;28mprint\u001b[39m(a)\n",
      "\u001b[1;31mTypeError\u001b[0m: '<' not supported between instances of 'int' and 'str'"
     ]
    }
   ],
   "source": [
    "a = ['cat',20,30,'dog',40,7]\n",
    "print(a)\n",
    "a.sort()\n",
    "print(a)"
   ]
  },
  {
   "cell_type": "code",
   "execution_count": 63,
   "id": "43d1ea09-d357-483f-92b1-34be9f1d5344",
   "metadata": {},
   "outputs": [
    {
     "name": "stdout",
     "output_type": "stream",
     "text": [
      "[20, 20, 35, 45, 45, 56, 56, 78, 90, 100, 100, 100]\n",
      "[100, 100, 100, 90, 78, 56, 56, 45, 45, 35, 20, 20]\n"
     ]
    }
   ],
   "source": [
    "print(l)\n",
    "l.sort(reverse=True)  #Desending order\n",
    "print(l)"
   ]
  },
  {
   "cell_type": "code",
   "execution_count": 65,
   "id": "035d57bf-8613-4fe9-baf5-fccaa3598e0d",
   "metadata": {},
   "outputs": [
    {
     "name": "stdout",
     "output_type": "stream",
     "text": [
      "[45, 78, 20, 89, 4]\n",
      "[4, 89, 20, 78, 45]\n"
     ]
    }
   ],
   "source": [
    "#reverse\n",
    "a = [45,78,20,89,4]\n",
    "print(a)\n",
    "a.reverse()\n",
    "print(a)"
   ]
  },
  {
   "cell_type": "code",
   "execution_count": 67,
   "id": "258d876b-6bc7-4a06-8269-73e88522ec4d",
   "metadata": {},
   "outputs": [
    {
     "name": "stdout",
     "output_type": "stream",
     "text": [
      "[100, 100, 100, 90, 78, 56, 56, 45, 45, 35, 20, 20]\n",
      "[]\n"
     ]
    }
   ],
   "source": [
    "#clear\n",
    "print(l)\n",
    "l.clear()\n",
    "print(l)"
   ]
  },
  {
   "cell_type": "markdown",
   "id": "3c64125a-5e3e-4a01-b8ea-b50cde86181c",
   "metadata": {},
   "source": [
    "## Tuple"
   ]
  },
  {
   "cell_type": "markdown",
   "id": "eac91066-66b0-4287-9b3f-fe5877a2bda1",
   "metadata": {},
   "source": [
    "## An ordered but immutable(which can't change size or permanent)and heterogeneous collection of items."
   ]
  },
  {
   "cell_type": "markdown",
   "id": "64ec1a42-0cd0-4b43-b9d6-3c197ae9fb97",
   "metadata": {},
   "source": [
    "## It is denoted as paranthesis '()\""
   ]
  },
  {
   "cell_type": "code",
   "execution_count": 72,
   "id": "3a582631-7e55-4eca-a768-fac027937d6f",
   "metadata": {},
   "outputs": [
    {
     "name": "stdout",
     "output_type": "stream",
     "text": [
      "(30, 'dog', 4.5, False)\n"
     ]
    }
   ],
   "source": [
    "t = (30,'dog',4.5,False)\n",
    "print(t)"
   ]
  },
  {
   "cell_type": "code",
   "execution_count": 74,
   "id": "80f8ada1-3546-424c-a1fb-87bbfcdac664",
   "metadata": {},
   "outputs": [
    {
     "data": {
      "text/plain": [
       "tuple"
      ]
     },
     "execution_count": 74,
     "metadata": {},
     "output_type": "execute_result"
    }
   ],
   "source": [
    "type(t)"
   ]
  },
  {
   "cell_type": "code",
   "execution_count": 76,
   "id": "8506d61d-cf17-4e83-a5ff-9297399c2491",
   "metadata": {},
   "outputs": [
    {
     "name": "stdout",
     "output_type": "stream",
     "text": [
      "(30, 'dog', 4.5, [1, 2, 3], False)\n"
     ]
    },
    {
     "data": {
      "text/plain": [
       "tuple"
      ]
     },
     "execution_count": 76,
     "metadata": {},
     "output_type": "execute_result"
    }
   ],
   "source": [
    "a = (30,'dog',4.5,[1,2,3],False)\n",
    "print(a)\n",
    "type(a)"
   ]
  },
  {
   "cell_type": "code",
   "execution_count": 78,
   "id": "95ccfeab-2ba3-48bc-9b5c-7d7ceaf0e572",
   "metadata": {},
   "outputs": [
    {
     "name": "stdout",
     "output_type": "stream",
     "text": [
      "(30, 'dog', 4.5, [1, 2, 3], False)\n",
      "(30, 'dog', 4.5, [1, 2, 3, 4], False)\n"
     ]
    }
   ],
   "source": [
    "#append : add data\n",
    "print(a)\n",
    "a[3].append(4)\n",
    "print(a)"
   ]
  },
  {
   "cell_type": "code",
   "execution_count": 80,
   "id": "5d4c7dda-50c8-4ce2-ba18-8784525bc594",
   "metadata": {},
   "outputs": [
    {
     "data": {
      "text/plain": [
       "1"
      ]
     },
     "execution_count": 80,
     "metadata": {},
     "output_type": "execute_result"
    }
   ],
   "source": [
    "#index\n",
    "t.index('dog')"
   ]
  },
  {
   "cell_type": "code",
   "execution_count": 84,
   "id": "790d9231-1a77-4653-9e44-fd195a5faaf9",
   "metadata": {},
   "outputs": [
    {
     "data": {
      "text/plain": [
       "0"
      ]
     },
     "execution_count": 84,
     "metadata": {},
     "output_type": "execute_result"
    }
   ],
   "source": [
    "t.count(2)"
   ]
  },
  {
   "cell_type": "code",
   "execution_count": 86,
   "id": "5fc1a426-76dd-451a-ba89-68e0cc2086f0",
   "metadata": {},
   "outputs": [
    {
     "name": "stdout",
     "output_type": "stream",
     "text": [
      "(30, 'dog', 4.5, False, 30, 'dog', 4.5, False)\n"
     ]
    }
   ],
   "source": [
    "tup = t*2\n",
    "print(tup)"
   ]
  },
  {
   "cell_type": "markdown",
   "id": "05f2dae1-39d4-433f-a489-f38f39f4bb5c",
   "metadata": {},
   "source": [
    "## Set(set)\n",
    "## Undered but mutable collection of unique items\n",
    "## Denoted with curly braces '{}' and separated by ','"
   ]
  },
  {
   "cell_type": "code",
   "execution_count": 89,
   "id": "6439451e-8a49-4ebe-b88b-2ca4dca03b8d",
   "metadata": {},
   "outputs": [
    {
     "name": "stdout",
     "output_type": "stream",
     "text": [
      "{32, 34, 56, 90, 78}\n"
     ]
    }
   ],
   "source": [
    "s = {34,78,90,56,32}\n",
    "print(s)"
   ]
  },
  {
   "cell_type": "code",
   "execution_count": 91,
   "id": "3c07079c-bb60-427e-b200-d861bc7d887d",
   "metadata": {},
   "outputs": [
    {
     "data": {
      "text/plain": [
       "set"
      ]
     },
     "execution_count": 91,
     "metadata": {},
     "output_type": "execute_result"
    }
   ],
   "source": [
    "type(s)"
   ]
  },
  {
   "cell_type": "code",
   "execution_count": 95,
   "id": "d5308320-2651-45c6-be77-50d95523f7a3",
   "metadata": {},
   "outputs": [
    {
     "name": "stdout",
     "output_type": "stream",
     "text": [
      "{0, 1, 3}\n"
     ]
    }
   ],
   "source": [
    "a = {1,1,1,1,1,1,1,1,1,1,0,0,0,0,0,3,3,3,3,}\n",
    "print(a)"
   ]
  },
  {
   "cell_type": "markdown",
   "id": "7ec3b6b5-b3c7-4628-9d4c-d6ee7398d3db",
   "metadata": {},
   "source": [
    "## Set methods"
   ]
  },
  {
   "cell_type": "code",
   "execution_count": 98,
   "id": "bd8d9a1a-b732-401c-b7c5-3cd2d846017b",
   "metadata": {},
   "outputs": [
    {
     "name": "stdout",
     "output_type": "stream",
     "text": [
      "{32, 34, 56, 90, 78}\n",
      "{32, 34, 56, 90, 45, 78}\n"
     ]
    }
   ],
   "source": [
    "#add\n",
    "print(s)\n",
    "s.add(45)\n",
    "print(s)"
   ]
  },
  {
   "cell_type": "code",
   "execution_count": 108,
   "id": "c9f9eefe-f61e-47a7-bec6-8b69a0bb6305",
   "metadata": {},
   "outputs": [],
   "source": [
    "a = {1,2,3,4,5}\n",
    "b = {6,7,8,9,2,3}"
   ]
  },
  {
   "cell_type": "code",
   "execution_count": 110,
   "id": "205dad91-500f-4939-a590-b0c334d82011",
   "metadata": {},
   "outputs": [
    {
     "data": {
      "text/plain": [
       "{1, 2, 3, 4, 5, 6, 7, 8, 9}"
      ]
     },
     "execution_count": 110,
     "metadata": {},
     "output_type": "execute_result"
    }
   ],
   "source": [
    "#Union\n",
    "a.union(b)"
   ]
  },
  {
   "cell_type": "code",
   "execution_count": 112,
   "id": "89722c70-f9a0-4bbb-8eae-8bc70aa37789",
   "metadata": {},
   "outputs": [
    {
     "data": {
      "text/plain": [
       "{2, 3}"
      ]
     },
     "execution_count": 112,
     "metadata": {},
     "output_type": "execute_result"
    }
   ],
   "source": [
    "#intersection\n",
    "a.intersection(b)"
   ]
  },
  {
   "cell_type": "code",
   "execution_count": 114,
   "id": "24531f05-7101-4410-a3be-305883245444",
   "metadata": {},
   "outputs": [
    {
     "data": {
      "text/plain": [
       "{1, 4, 5}"
      ]
     },
     "execution_count": 114,
     "metadata": {},
     "output_type": "execute_result"
    }
   ],
   "source": [
    "#diffrence\n",
    "a.difference(b)"
   ]
  },
  {
   "cell_type": "code",
   "execution_count": 116,
   "id": "f635a9cd-1a20-4edd-9942-a6592f416d3f",
   "metadata": {},
   "outputs": [
    {
     "data": {
      "text/plain": [
       "{6, 7, 8, 9}"
      ]
     },
     "execution_count": 116,
     "metadata": {},
     "output_type": "execute_result"
    }
   ],
   "source": [
    "b.difference(a)"
   ]
  },
  {
   "cell_type": "code",
   "execution_count": 118,
   "id": "da0b3401-2552-4f22-bef6-887bbf668984",
   "metadata": {},
   "outputs": [
    {
     "data": {
      "text/plain": [
       "False"
      ]
     },
     "execution_count": 118,
     "metadata": {},
     "output_type": "execute_result"
    }
   ],
   "source": [
    "#issuperset\n",
    "a.issuperset(b)"
   ]
  },
  {
   "cell_type": "code",
   "execution_count": 120,
   "id": "2f57c2d9-d675-4d8e-bb67-3e02f165a920",
   "metadata": {},
   "outputs": [
    {
     "data": {
      "text/plain": [
       "False"
      ]
     },
     "execution_count": 120,
     "metadata": {},
     "output_type": "execute_result"
    }
   ],
   "source": [
    "#issubset\n",
    "a.issubset(b)"
   ]
  },
  {
   "cell_type": "code",
   "execution_count": 122,
   "id": "14425a12-4aa4-4ff3-8d77-00cd0dcebd80",
   "metadata": {},
   "outputs": [
    {
     "data": {
      "text/plain": [
       "False"
      ]
     },
     "execution_count": 122,
     "metadata": {},
     "output_type": "execute_result"
    }
   ],
   "source": [
    "#isdisjoint\n",
    "a.isdisjoint(b)"
   ]
  },
  {
   "cell_type": "code",
   "execution_count": 124,
   "id": "98a58cda-9609-4ac5-a72c-7d79e57849da",
   "metadata": {},
   "outputs": [
    {
     "data": {
      "text/plain": [
       "{32, 34, 45, 56, 78, 90}"
      ]
     },
     "execution_count": 124,
     "metadata": {},
     "output_type": "execute_result"
    }
   ],
   "source": [
    "s"
   ]
  },
  {
   "cell_type": "code",
   "execution_count": 126,
   "id": "8311ab2e-b3e2-4317-acca-1238300e7ad6",
   "metadata": {},
   "outputs": [
    {
     "name": "stdout",
     "output_type": "stream",
     "text": [
      "{32, 34, 56, 90, 45, 78}\n",
      "{34, 56, 90, 45, 78}\n"
     ]
    }
   ],
   "source": [
    "#pop\n",
    "print(s)\n",
    "s.pop()\n",
    "print(s)"
   ]
  },
  {
   "cell_type": "code",
   "execution_count": 130,
   "id": "f5f73e54-51d1-4ba9-a369-40fc6fc68279",
   "metadata": {},
   "outputs": [
    {
     "name": "stdout",
     "output_type": "stream",
     "text": [
      "{34, 56, 90, 45, 78}\n",
      "{34, 56, 45, 78}\n"
     ]
    }
   ],
   "source": [
    "#remove\n",
    "print(s)\n",
    "s.remove(90)\n",
    "print(s)"
   ]
  },
  {
   "cell_type": "markdown",
   "id": "3e06ce97-ce67-4276-8409-45a14d78b482",
   "metadata": {},
   "source": [
    "## Dictionary(dict)"
   ]
  },
  {
   "cell_type": "markdown",
   "id": "cc452af4-9b8c-47f3-ab29-df9d3edfb43b",
   "metadata": {},
   "source": [
    "## An ordered,mutable,collection of key and value pairs.\n",
    "## Denoted with curly braces '{}' and key must be unique.\n",
    "## Key and value pairs are separated with ',' and key and value are separated with ',' ."
   ]
  },
  {
   "cell_type": "code",
   "execution_count": 148,
   "id": "96b968f8-0562-46e3-acdb-5fc0ea8eb8bf",
   "metadata": {},
   "outputs": [
    {
     "name": "stdout",
     "output_type": "stream",
     "text": [
      "{'Name': 'Tarun', 'RollNo': 11, 'Course': 'AIML'}\n"
     ]
    }
   ],
   "source": [
    "d = {'Name':'Tarun','RollNo':11,'Course':'AIML'}\n",
    "print(d)"
   ]
  },
  {
   "cell_type": "code",
   "execution_count": 136,
   "id": "2f53b193-18c1-4673-aaf2-f694d8c00b5a",
   "metadata": {},
   "outputs": [
    {
     "data": {
      "text/plain": [
       "dict"
      ]
     },
     "execution_count": 136,
     "metadata": {},
     "output_type": "execute_result"
    }
   ],
   "source": [
    "type(d)"
   ]
  },
  {
   "cell_type": "code",
   "execution_count": 146,
   "id": "e7ec1e42-3815-4f2a-8b46-2a891d6b6205",
   "metadata": {},
   "outputs": [
    {
     "name": "stdout",
     "output_type": "stream",
     "text": [
      "{'Name': 'Tarun', 'RollNo': '11', 'Course': 'AIML', 'Marks': '99.9'}\n",
      "{'Name': 'Tarun', 'RollNo': '11', 'Course': 'AIML', 'Marks': 99.9}\n"
     ]
    }
   ],
   "source": [
    "#update\n",
    "print(d)\n",
    "d.update({'Marks':99.9})\n",
    "print(d)"
   ]
  },
  {
   "cell_type": "code",
   "execution_count": 150,
   "id": "66899458-854b-4c75-b3f4-5e3c1ab329d8",
   "metadata": {},
   "outputs": [
    {
     "data": {
      "text/plain": [
       "{'Name': 'Tarun', 'RollNo': 11, 'Course': 'AIML', 'place': 'bbsr'}"
      ]
     },
     "execution_count": 150,
     "metadata": {},
     "output_type": "execute_result"
    }
   ],
   "source": [
    "d['place']='bbsr'\n",
    "d"
   ]
  },
  {
   "cell_type": "code",
   "execution_count": 152,
   "id": "f2fc4c82-3c99-4520-88f3-963cd4f34fc1",
   "metadata": {},
   "outputs": [
    {
     "data": {
      "text/plain": [
       "dict_keys(['Name', 'RollNo', 'Course', 'place'])"
      ]
     },
     "execution_count": 152,
     "metadata": {},
     "output_type": "execute_result"
    }
   ],
   "source": [
    "#key\n",
    "d.keys()"
   ]
  },
  {
   "cell_type": "code",
   "execution_count": 154,
   "id": "b2b5bd69-10c4-4c70-8286-56613d476bdd",
   "metadata": {},
   "outputs": [
    {
     "data": {
      "text/plain": [
       "dict_values(['Tarun', 11, 'AIML', 'bbsr'])"
      ]
     },
     "execution_count": 154,
     "metadata": {},
     "output_type": "execute_result"
    }
   ],
   "source": [
    "#values\n",
    "d.values()"
   ]
  },
  {
   "cell_type": "code",
   "execution_count": 156,
   "id": "a49ac4fe-184a-4d92-81c6-51b131fcad50",
   "metadata": {},
   "outputs": [
    {
     "data": {
      "text/plain": [
       "dict_items([('Name', 'Tarun'), ('RollNo', 11), ('Course', 'AIML'), ('place', 'bbsr')])"
      ]
     },
     "execution_count": 156,
     "metadata": {},
     "output_type": "execute_result"
    }
   ],
   "source": [
    "#items\n",
    "d.items()"
   ]
  },
  {
   "cell_type": "code",
   "execution_count": 158,
   "id": "efad806a-fd5c-4709-aa7d-2efb70eee376",
   "metadata": {},
   "outputs": [
    {
     "data": {
      "text/plain": [
       "'Tarun'"
      ]
     },
     "execution_count": 158,
     "metadata": {},
     "output_type": "execute_result"
    }
   ],
   "source": [
    "#get\n",
    "d.get('Name')"
   ]
  },
  {
   "cell_type": "code",
   "execution_count": 160,
   "id": "73d24c17-ef95-4902-ba69-4db0aa89ab01",
   "metadata": {},
   "outputs": [
    {
     "name": "stdout",
     "output_type": "stream",
     "text": [
      "{'Name': 'Tarun', 'RollNo': 11, 'Course': 'AIML', 'place': 'bbsr'}\n",
      "{'Name': 'Tarun', 'RollNo': 11, 'Course': 'AIML'}\n"
     ]
    }
   ],
   "source": [
    "#popitem\n",
    "print(d)\n",
    "d.popitem()\n",
    "print(d)"
   ]
  },
  {
   "cell_type": "code",
   "execution_count": 162,
   "id": "163a4cf3-4818-4deb-b960-054b43cb030b",
   "metadata": {},
   "outputs": [
    {
     "name": "stdout",
     "output_type": "stream",
     "text": [
      "{'Name': 'Tarun', 'RollNo': 11, 'Course': 'AIML'}\n",
      "{}\n"
     ]
    }
   ],
   "source": [
    "#clear\n",
    "print(d)\n",
    "d.clear()\n",
    "print(d)"
   ]
  },
  {
   "cell_type": "code",
   "execution_count": null,
   "id": "59caa697-28c4-48a5-a88a-eaaf4e128a76",
   "metadata": {},
   "outputs": [],
   "source": []
  }
 ],
 "metadata": {
  "kernelspec": {
   "display_name": "Python 3 (ipykernel)",
   "language": "python",
   "name": "python3"
  },
  "language_info": {
   "codemirror_mode": {
    "name": "ipython",
    "version": 3
   },
   "file_extension": ".py",
   "mimetype": "text/x-python",
   "name": "python",
   "nbconvert_exporter": "python",
   "pygments_lexer": "ipython3",
   "version": "3.12.7"
  }
 },
 "nbformat": 4,
 "nbformat_minor": 5
}
