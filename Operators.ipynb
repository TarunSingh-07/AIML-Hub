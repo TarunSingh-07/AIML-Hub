{
 "cells": [
  {
   "cell_type": "markdown",
   "id": "287476b5-fc5f-455a-8f3c-7f1cd3a38818",
   "metadata": {},
   "source": [
    "## Operators : Operators are the symbols which are used to perform operations on value and variables"
   ]
  },
  {
   "cell_type": "markdown",
   "id": "e59f2c6c-abe6-4cce-a959-8dfe7830f3d0",
   "metadata": {},
   "source": [
    "## 10 + 30 = 40\n",
    "## '+' = operator\n",
    "## 'a','b' = operands "
   ]
  },
  {
   "cell_type": "markdown",
   "id": "83fa7d8f-b755-4a5a-999e-db3a2addd43d",
   "metadata": {
    "jp-MarkdownHeadingCollapsed": true
   },
   "source": [
    "## Types of operators in python : \n",
    "## > Arithmatic operators\n",
    "## > Assignment operators\n",
    "## > Comparison/Relational operators\n",
    "## > Logical operators\n",
    "## > Identity operators\n",
    "## > Membership operators"
   ]
  },
  {
   "cell_type": "markdown",
   "id": "fced7190-9a8c-4e13-b458-454c6b4d1898",
   "metadata": {},
   "source": [
    "## 1. Arithmatic operators\n"
   ]
  },
  {
   "cell_type": "markdown",
   "id": "3324ec7e-3b3c-4522-a886-49697a14f5bc",
   "metadata": {},
   "source": [
    "## '+','-','*','/','//','%'"
   ]
  },
  {
   "cell_type": "code",
   "execution_count": 6,
   "id": "ecfce638-9d13-4abb-8baa-b10aebe1f1ef",
   "metadata": {},
   "outputs": [],
   "source": [
    "a = 11\n",
    "b = 2"
   ]
  },
  {
   "cell_type": "code",
   "execution_count": 7,
   "id": "b7f1ad47-9ddf-4931-894c-6a3f9b9e8f93",
   "metadata": {},
   "outputs": [
    {
     "data": {
      "text/plain": [
       "13"
      ]
     },
     "execution_count": 7,
     "metadata": {},
     "output_type": "execute_result"
    }
   ],
   "source": [
    "#addition\n",
    "a + b"
   ]
  },
  {
   "cell_type": "code",
   "execution_count": 8,
   "id": "7a334f15-4085-4f33-b84a-fb1709310d27",
   "metadata": {},
   "outputs": [
    {
     "data": {
      "text/plain": [
       "9"
      ]
     },
     "execution_count": 8,
     "metadata": {},
     "output_type": "execute_result"
    }
   ],
   "source": [
    "#Substraction\n",
    "a - b"
   ]
  },
  {
   "cell_type": "code",
   "execution_count": 9,
   "id": "dd42ceb2-1ac5-4f81-b9fe-ffb94979868e",
   "metadata": {},
   "outputs": [
    {
     "data": {
      "text/plain": [
       "22"
      ]
     },
     "execution_count": 9,
     "metadata": {},
     "output_type": "execute_result"
    }
   ],
   "source": [
    "#Multiplication\n",
    "a * b"
   ]
  },
  {
   "cell_type": "code",
   "execution_count": 10,
   "id": "1e85cbdf-464a-4e83-bd02-4dc97a9467e5",
   "metadata": {},
   "outputs": [
    {
     "data": {
      "text/plain": [
       "5.5"
      ]
     },
     "execution_count": 10,
     "metadata": {},
     "output_type": "execute_result"
    }
   ],
   "source": [
    "#Division\n",
    "a / b"
   ]
  },
  {
   "cell_type": "code",
   "execution_count": 11,
   "id": "605a02cd-79a2-4ac7-9f13-91b954e98cd0",
   "metadata": {},
   "outputs": [
    {
     "data": {
      "text/plain": [
       "5"
      ]
     },
     "execution_count": 11,
     "metadata": {},
     "output_type": "execute_result"
    }
   ],
   "source": [
    "#Floor division\n",
    "a // b"
   ]
  },
  {
   "cell_type": "code",
   "execution_count": 12,
   "id": "242e37ab-77aa-4cba-a2e5-026d03cba50a",
   "metadata": {},
   "outputs": [
    {
     "data": {
      "text/plain": [
       "1"
      ]
     },
     "execution_count": 12,
     "metadata": {},
     "output_type": "execute_result"
    }
   ],
   "source": [
    "#Modulo\n",
    "a % b"
   ]
  },
  {
   "cell_type": "code",
   "execution_count": 13,
   "id": "fbf6aee6-ba58-4734-b005-d85de15e0f27",
   "metadata": {},
   "outputs": [
    {
     "data": {
      "text/plain": [
       "4"
      ]
     },
     "execution_count": 13,
     "metadata": {},
     "output_type": "execute_result"
    }
   ],
   "source": [
    "#power\n",
    "b ** 2"
   ]
  },
  {
   "cell_type": "code",
   "execution_count": 14,
   "id": "5185caf4-a4eb-4ce4-849e-f175fa31fa2e",
   "metadata": {},
   "outputs": [
    {
     "data": {
      "text/plain": [
       "42535295865117307932921825928971026432"
      ]
     },
     "execution_count": 14,
     "metadata": {},
     "output_type": "execute_result"
    }
   ],
   "source": [
    "2 ** 5 ** 3"
   ]
  },
  {
   "cell_type": "markdown",
   "id": "567cef95-0466-492c-8345-aa9666a47d6b",
   "metadata": {},
   "source": [
    "## 2. Assignment operators"
   ]
  },
  {
   "cell_type": "markdown",
   "id": "e1f711b7-d972-4e12-a5f3-13071f6e699d",
   "metadata": {},
   "source": [
    "## This operator used to assign values to variables"
   ]
  },
  {
   "cell_type": "code",
   "execution_count": 17,
   "id": "308c9321-7070-46da-bb4f-1aeb69a8040f",
   "metadata": {},
   "outputs": [
    {
     "data": {
      "text/plain": [
       "10"
      ]
     },
     "execution_count": 17,
     "metadata": {},
     "output_type": "execute_result"
    }
   ],
   "source": [
    "a = 10\n",
    "a"
   ]
  },
  {
   "cell_type": "code",
   "execution_count": 18,
   "id": "a0839510-a285-4051-a16f-d3fe7ca36ce5",
   "metadata": {},
   "outputs": [
    {
     "data": {
      "text/plain": [
       "11"
      ]
     },
     "execution_count": 18,
     "metadata": {},
     "output_type": "execute_result"
    }
   ],
   "source": [
    "a += 1\n",
    "a"
   ]
  },
  {
   "cell_type": "code",
   "execution_count": 19,
   "id": "447d9430-6099-475a-86bb-b9640ae8de2f",
   "metadata": {},
   "outputs": [
    {
     "data": {
      "text/plain": [
       "9"
      ]
     },
     "execution_count": 19,
     "metadata": {},
     "output_type": "execute_result"
    }
   ],
   "source": [
    "a -= 2\n",
    "a"
   ]
  },
  {
   "cell_type": "code",
   "execution_count": 20,
   "id": "57b2ffe6-a3bf-42d4-aff6-b4a9a3d61758",
   "metadata": {},
   "outputs": [
    {
     "data": {
      "text/plain": [
       "27"
      ]
     },
     "execution_count": 20,
     "metadata": {},
     "output_type": "execute_result"
    }
   ],
   "source": [
    "a *= 3\n",
    "a"
   ]
  },
  {
   "cell_type": "code",
   "execution_count": 21,
   "id": "6ee646f7-ba25-4999-965f-7057b51c3a64",
   "metadata": {},
   "outputs": [
    {
     "data": {
      "text/plain": [
       "13.5"
      ]
     },
     "execution_count": 21,
     "metadata": {},
     "output_type": "execute_result"
    }
   ],
   "source": [
    "a /= 2\n",
    "a"
   ]
  },
  {
   "cell_type": "code",
   "execution_count": 22,
   "id": "2fcae54a-7f8c-44ea-ac23-cc6c2cb6ba9d",
   "metadata": {},
   "outputs": [
    {
     "data": {
      "text/plain": [
       "2.0"
      ]
     },
     "execution_count": 22,
     "metadata": {},
     "output_type": "execute_result"
    }
   ],
   "source": [
    "a //= 5\n",
    "a"
   ]
  },
  {
   "cell_type": "code",
   "execution_count": 23,
   "id": "00cdfc3b-de1a-4af0-9c25-2a1fb9ef97ac",
   "metadata": {},
   "outputs": [
    {
     "data": {
      "text/plain": [
       "0.0"
      ]
     },
     "execution_count": 23,
     "metadata": {},
     "output_type": "execute_result"
    }
   ],
   "source": [
    "a %= 2\n",
    "a"
   ]
  },
  {
   "cell_type": "code",
   "execution_count": 24,
   "id": "11e9aa4a-2360-4f7b-a839-49f434bf8107",
   "metadata": {},
   "outputs": [
    {
     "data": {
      "text/plain": [
       "0.0"
      ]
     },
     "execution_count": 24,
     "metadata": {},
     "output_type": "execute_result"
    }
   ],
   "source": [
    "a **= 3\n",
    "a"
   ]
  },
  {
   "cell_type": "markdown",
   "id": "ef3646f1-d28c-475b-a0e4-2c7eb614df3c",
   "metadata": {},
   "source": [
    "## 3.Comparision operator"
   ]
  },
  {
   "cell_type": "markdown",
   "id": "91728570-df1f-4c08-9734-0c621f72349d",
   "metadata": {},
   "source": [
    "## This oper. compare two variables and return one value as True or False "
   ]
  },
  {
   "cell_type": "code",
   "execution_count": 27,
   "id": "1be8ca59-3c1a-4179-ad18-3d3f634c1f65",
   "metadata": {},
   "outputs": [
    {
     "data": {
      "text/plain": [
       "False"
      ]
     },
     "execution_count": 27,
     "metadata": {},
     "output_type": "execute_result"
    }
   ],
   "source": [
    "5 != 5"
   ]
  },
  {
   "cell_type": "code",
   "execution_count": 28,
   "id": "3a516d38-fe5e-4f01-8f59-e3bceaa33792",
   "metadata": {},
   "outputs": [
    {
     "data": {
      "text/plain": [
       "True"
      ]
     },
     "execution_count": 28,
     "metadata": {},
     "output_type": "execute_result"
    }
   ],
   "source": [
    "5 < 10"
   ]
  },
  {
   "cell_type": "code",
   "execution_count": 29,
   "id": "94ddfad5-5772-4e77-aa0e-a26afc8cd683",
   "metadata": {},
   "outputs": [
    {
     "data": {
      "text/plain": [
       "True"
      ]
     },
     "execution_count": 29,
     "metadata": {},
     "output_type": "execute_result"
    }
   ],
   "source": [
    "20 >= 20"
   ]
  },
  {
   "cell_type": "code",
   "execution_count": 30,
   "id": "6db9e5ac-ead5-4b4f-87fd-27a55a0965b8",
   "metadata": {},
   "outputs": [
    {
     "data": {
      "text/plain": [
       "True"
      ]
     },
     "execution_count": 30,
     "metadata": {},
     "output_type": "execute_result"
    }
   ],
   "source": [
    "30 <= 30"
   ]
  },
  {
   "cell_type": "code",
   "execution_count": 31,
   "id": "22d33803-f84f-4dca-9d32-80e4b0228635",
   "metadata": {},
   "outputs": [
    {
     "data": {
      "text/plain": [
       "True"
      ]
     },
     "execution_count": 31,
     "metadata": {},
     "output_type": "execute_result"
    }
   ],
   "source": [
    "20 <= 30"
   ]
  },
  {
   "cell_type": "code",
   "execution_count": 32,
   "id": "1df7b96c-30bb-422f-8c5b-058652701eda",
   "metadata": {},
   "outputs": [
    {
     "data": {
      "text/plain": [
       "5"
      ]
     },
     "execution_count": 32,
     "metadata": {},
     "output_type": "execute_result"
    }
   ],
   "source": [
    "5 "
   ]
  },
  {
   "cell_type": "markdown",
   "id": "85db8616-d512-4eab-a35e-1127479a8981",
   "metadata": {},
   "source": [
    "## 4. Logical operators "
   ]
  },
  {
   "cell_type": "markdown",
   "id": "34bfa481-1e59-406f-bc6f-12c6f2dc4cda",
   "metadata": {},
   "source": [
    "## Logical oper. used to check whether an expression is true or false "
   ]
  },
  {
   "cell_type": "code",
   "execution_count": 35,
   "id": "722ddd60-93ce-4d5f-afa6-e734026f9e7b",
   "metadata": {},
   "outputs": [
    {
     "data": {
      "text/plain": [
       "True"
      ]
     },
     "execution_count": 35,
     "metadata": {},
     "output_type": "execute_result"
    }
   ],
   "source": [
    "# AND\n",
    "10>5 and 5<10"
   ]
  },
  {
   "cell_type": "code",
   "execution_count": 36,
   "id": "015ddeff-554f-4c85-b6b5-df13930934ee",
   "metadata": {},
   "outputs": [
    {
     "data": {
      "text/plain": [
       "True"
      ]
     },
     "execution_count": 36,
     "metadata": {},
     "output_type": "execute_result"
    }
   ],
   "source": [
    "True and True"
   ]
  },
  {
   "cell_type": "code",
   "execution_count": 37,
   "id": "2885e74e-c0d1-4968-a662-ca2c20cd51c1",
   "metadata": {},
   "outputs": [
    {
     "data": {
      "text/plain": [
       "False"
      ]
     },
     "execution_count": 37,
     "metadata": {},
     "output_type": "execute_result"
    }
   ],
   "source": [
    "10>5 and 5>10"
   ]
  },
  {
   "cell_type": "code",
   "execution_count": 38,
   "id": "2c34050c-9654-4633-806a-ab83ada53621",
   "metadata": {},
   "outputs": [
    {
     "data": {
      "text/plain": [
       "False"
      ]
     },
     "execution_count": 38,
     "metadata": {},
     "output_type": "execute_result"
    }
   ],
   "source": [
    "10<5 and 5<10"
   ]
  },
  {
   "cell_type": "code",
   "execution_count": 39,
   "id": "58fd0e63-1782-43b1-88b7-564d5bdd1d0c",
   "metadata": {},
   "outputs": [
    {
     "data": {
      "text/plain": [
       "False"
      ]
     },
     "execution_count": 39,
     "metadata": {},
     "output_type": "execute_result"
    }
   ],
   "source": [
    "10<5 and 5>10"
   ]
  },
  {
   "cell_type": "code",
   "execution_count": 40,
   "id": "4f8337ea-cfcd-426f-b742-6fdd19d3bcc0",
   "metadata": {},
   "outputs": [
    {
     "data": {
      "text/plain": [
       "True"
      ]
     },
     "execution_count": 40,
     "metadata": {},
     "output_type": "execute_result"
    }
   ],
   "source": [
    "# OR\n",
    "10>5 or 5<10"
   ]
  },
  {
   "cell_type": "code",
   "execution_count": 41,
   "id": "34e6b9fa-7002-4340-9932-5a768c88e863",
   "metadata": {},
   "outputs": [
    {
     "data": {
      "text/plain": [
       "True"
      ]
     },
     "execution_count": 41,
     "metadata": {},
     "output_type": "execute_result"
    }
   ],
   "source": [
    "10>5 or 5>10"
   ]
  },
  {
   "cell_type": "code",
   "execution_count": 42,
   "id": "56185fa7-7d9c-40af-a198-5970938cb803",
   "metadata": {},
   "outputs": [
    {
     "data": {
      "text/plain": [
       "True"
      ]
     },
     "execution_count": 42,
     "metadata": {},
     "output_type": "execute_result"
    }
   ],
   "source": [
    "10<5 or 5<10"
   ]
  },
  {
   "cell_type": "code",
   "execution_count": 43,
   "id": "ba9396af-d60a-4c08-826a-ae1d9cd2d20d",
   "metadata": {},
   "outputs": [
    {
     "data": {
      "text/plain": [
       "False"
      ]
     },
     "execution_count": 43,
     "metadata": {},
     "output_type": "execute_result"
    }
   ],
   "source": [
    "10<5 or 5>10"
   ]
  },
  {
   "cell_type": "code",
   "execution_count": 44,
   "id": "52af45c0-5ac4-4edb-8f2e-a0c5a6804ef7",
   "metadata": {},
   "outputs": [
    {
     "data": {
      "text/plain": [
       "False"
      ]
     },
     "execution_count": 44,
     "metadata": {},
     "output_type": "execute_result"
    }
   ],
   "source": [
    "# NOT\n",
    "not 10>5"
   ]
  },
  {
   "cell_type": "code",
   "execution_count": 45,
   "id": "5c41d26b-5021-423e-883e-d3ad96a21e19",
   "metadata": {},
   "outputs": [
    {
     "data": {
      "text/plain": [
       "True"
      ]
     },
     "execution_count": 45,
     "metadata": {},
     "output_type": "execute_result"
    }
   ],
   "source": [
    "not 10<5"
   ]
  },
  {
   "cell_type": "markdown",
   "id": "b60d5064-a05f-4b61-8996-207893df40e6",
   "metadata": {},
   "source": [
    "## 5. Special operator"
   ]
  },
  {
   "cell_type": "code",
   "execution_count": 47,
   "id": "5f76f931-667f-4623-978c-ac84b9a5af48",
   "metadata": {},
   "outputs": [
    {
     "name": "stdout",
     "output_type": "stream",
     "text": [
      "10\n"
     ]
    }
   ],
   "source": [
    "# identity operator - 'is' and 'is not'\n",
    "a = 10\n",
    "print(a)"
   ]
  },
  {
   "cell_type": "code",
   "execution_count": 48,
   "id": "78b75c1e-ffe6-4899-b77d-1fe70a4c67b5",
   "metadata": {},
   "outputs": [
    {
     "data": {
      "text/plain": [
       "140712560765656"
      ]
     },
     "execution_count": 48,
     "metadata": {},
     "output_type": "execute_result"
    }
   ],
   "source": [
    "#check memory location\n",
    "id(a)"
   ]
  },
  {
   "cell_type": "code",
   "execution_count": 49,
   "id": "9a906244-81a0-481e-bd90-bbbd7a06fbf2",
   "metadata": {},
   "outputs": [],
   "source": [
    "a = 6\n",
    "b = 6"
   ]
  },
  {
   "cell_type": "code",
   "execution_count": 50,
   "id": "b4656466-d5f2-4a11-bb7b-4109476f5368",
   "metadata": {},
   "outputs": [
    {
     "data": {
      "text/plain": [
       "True"
      ]
     },
     "execution_count": 50,
     "metadata": {},
     "output_type": "execute_result"
    }
   ],
   "source": [
    "a is b"
   ]
  },
  {
   "cell_type": "code",
   "execution_count": 51,
   "id": "9634a858-0020-4576-818d-538af34a6192",
   "metadata": {},
   "outputs": [
    {
     "data": {
      "text/plain": [
       "140712560765528"
      ]
     },
     "execution_count": 51,
     "metadata": {},
     "output_type": "execute_result"
    }
   ],
   "source": [
    "id(a)"
   ]
  },
  {
   "cell_type": "code",
   "execution_count": 52,
   "id": "95b12980-cdfc-4a39-a0cf-a9d5f599452f",
   "metadata": {},
   "outputs": [
    {
     "data": {
      "text/plain": [
       "140712560765528"
      ]
     },
     "execution_count": 52,
     "metadata": {},
     "output_type": "execute_result"
    }
   ],
   "source": [
    "id(b)"
   ]
  },
  {
   "cell_type": "code",
   "execution_count": 53,
   "id": "4cace593-163f-4c11-8b18-8ca54be5128a",
   "metadata": {},
   "outputs": [],
   "source": [
    "x = [1,2,3,4]\n",
    "y = [1,2,3,4]"
   ]
  },
  {
   "cell_type": "code",
   "execution_count": 54,
   "id": "ec674724-fcd1-4f0d-af3a-31eaa9e88e05",
   "metadata": {},
   "outputs": [
    {
     "data": {
      "text/plain": [
       "False"
      ]
     },
     "execution_count": 54,
     "metadata": {},
     "output_type": "execute_result"
    }
   ],
   "source": [
    "x is y"
   ]
  },
  {
   "cell_type": "code",
   "execution_count": 55,
   "id": "d19f1e49-d694-4c07-ac56-bd7d6c85b604",
   "metadata": {},
   "outputs": [
    {
     "data": {
      "text/plain": [
       "True"
      ]
     },
     "execution_count": 55,
     "metadata": {},
     "output_type": "execute_result"
    }
   ],
   "source": [
    "x is not y"
   ]
  },
  {
   "cell_type": "code",
   "execution_count": 56,
   "id": "b7cbf77b-4063-4afd-bc53-4e4f03778074",
   "metadata": {},
   "outputs": [
    {
     "data": {
      "text/plain": [
       "2232467353408"
      ]
     },
     "execution_count": 56,
     "metadata": {},
     "output_type": "execute_result"
    }
   ],
   "source": [
    "id(x)"
   ]
  },
  {
   "cell_type": "code",
   "execution_count": 57,
   "id": "33782db6-5878-4572-a8e9-8814bcc46ba2",
   "metadata": {},
   "outputs": [
    {
     "data": {
      "text/plain": [
       "2232467428480"
      ]
     },
     "execution_count": 57,
     "metadata": {},
     "output_type": "execute_result"
    }
   ],
   "source": [
    "id(y)"
   ]
  },
  {
   "cell_type": "markdown",
   "id": "c27a0a8d-4205-4088-8861-9812628fc365",
   "metadata": {},
   "source": [
    "## 6.Membership operator"
   ]
  },
  {
   "cell_type": "code",
   "execution_count": 59,
   "id": "bca7397c-d5b1-4fd8-8bb1-c2ddb785040e",
   "metadata": {},
   "outputs": [
    {
     "data": {
      "text/plain": [
       "False"
      ]
     },
     "execution_count": 59,
     "metadata": {},
     "output_type": "execute_result"
    }
   ],
   "source": [
    "# membership operator - 'in' and 'not in'\n",
    "'a' in 'Apple'"
   ]
  },
  {
   "cell_type": "code",
   "execution_count": 60,
   "id": "581dc382-1dc9-4c89-aca1-6271a1dbaf33",
   "metadata": {},
   "outputs": [
    {
     "data": {
      "text/plain": [
       "True"
      ]
     },
     "execution_count": 60,
     "metadata": {},
     "output_type": "execute_result"
    }
   ],
   "source": [
    "'A' in 'Apple'"
   ]
  },
  {
   "cell_type": "code",
   "execution_count": 61,
   "id": "cd630065-21dc-4edb-a7a2-a5b531a91dfe",
   "metadata": {},
   "outputs": [
    {
     "data": {
      "text/plain": [
       "True"
      ]
     },
     "execution_count": 61,
     "metadata": {},
     "output_type": "execute_result"
    }
   ],
   "source": [
    "10 in [10,20,30,40,50]"
   ]
  },
  {
   "cell_type": "markdown",
   "id": "7fb845fc-77f1-42a6-b53f-86e2ab576458",
   "metadata": {},
   "source": [
    "## Type Casting"
   ]
  },
  {
   "cell_type": "code",
   "execution_count": 63,
   "id": "bf7d251a-fa7e-4259-ae2b-d38176e8cd8f",
   "metadata": {},
   "outputs": [
    {
     "name": "stdout",
     "output_type": "stream",
     "text": [
      "1234\n"
     ]
    },
    {
     "data": {
      "text/plain": [
       "str"
      ]
     },
     "execution_count": 63,
     "metadata": {},
     "output_type": "execute_result"
    }
   ],
   "source": [
    "s = '1234'\n",
    "print(s)\n",
    "type(s)"
   ]
  },
  {
   "cell_type": "code",
   "execution_count": 64,
   "id": "fa29b40a-4530-40a8-a55f-6d78d416c2cc",
   "metadata": {},
   "outputs": [
    {
     "name": "stdout",
     "output_type": "stream",
     "text": [
      "1234\n"
     ]
    },
    {
     "data": {
      "text/plain": [
       "int"
      ]
     },
     "execution_count": 64,
     "metadata": {},
     "output_type": "execute_result"
    }
   ],
   "source": [
    "i = int(s)\n",
    "print(i)\n",
    "type(i)"
   ]
  },
  {
   "cell_type": "code",
   "execution_count": 65,
   "id": "7df8438e-47ea-4c32-a1a1-d3e64f156c8b",
   "metadata": {},
   "outputs": [
    {
     "name": "stdout",
     "output_type": "stream",
     "text": [
      "1234.0\n"
     ]
    },
    {
     "data": {
      "text/plain": [
       "float"
      ]
     },
     "execution_count": 65,
     "metadata": {},
     "output_type": "execute_result"
    }
   ],
   "source": [
    "f = float(i)\n",
    "print(f)\n",
    "type(f)"
   ]
  },
  {
   "cell_type": "code",
   "execution_count": 66,
   "id": "8da66d98-1ded-4da1-875f-e885cbba035c",
   "metadata": {},
   "outputs": [
    {
     "name": "stdout",
     "output_type": "stream",
     "text": [
      "(1234+0j)\n"
     ]
    },
    {
     "data": {
      "text/plain": [
       "complex"
      ]
     },
     "execution_count": 66,
     "metadata": {},
     "output_type": "execute_result"
    }
   ],
   "source": [
    "c = complex(f)\n",
    "print(c)\n",
    "type(c)"
   ]
  },
  {
   "cell_type": "code",
   "execution_count": 67,
   "id": "36caf5b4-2c2e-4791-8aa0-882a29d78dc5",
   "metadata": {},
   "outputs": [
    {
     "name": "stdout",
     "output_type": "stream",
     "text": [
      "Hello Everyone\n"
     ]
    },
    {
     "data": {
      "text/plain": [
       "str"
      ]
     },
     "execution_count": 67,
     "metadata": {},
     "output_type": "execute_result"
    }
   ],
   "source": [
    "a = 'Hello Everyone'\n",
    "print(a)\n",
    "type(a)"
   ]
  },
  {
   "cell_type": "code",
   "execution_count": 68,
   "id": "23ec7ba5-db95-4c30-b542-1527ed2a7315",
   "metadata": {},
   "outputs": [
    {
     "name": "stdout",
     "output_type": "stream",
     "text": [
      "['H', 'e', 'l', 'l', 'o', ' ', 'E', 'v', 'e', 'r', 'y', 'o', 'n', 'e']\n"
     ]
    },
    {
     "data": {
      "text/plain": [
       "list"
      ]
     },
     "execution_count": 68,
     "metadata": {},
     "output_type": "execute_result"
    }
   ],
   "source": [
    "l = list(a)\n",
    "print(l)\n",
    "type(l)"
   ]
  },
  {
   "cell_type": "code",
   "execution_count": 69,
   "id": "e7d192d7-c4d9-4b5b-a620-3b3ed7527669",
   "metadata": {},
   "outputs": [
    {
     "name": "stdout",
     "output_type": "stream",
     "text": [
      "('H', 'e', 'l', 'l', 'o', ' ', 'E', 'v', 'e', 'r', 'y', 'o', 'n', 'e')\n"
     ]
    },
    {
     "data": {
      "text/plain": [
       "tuple"
      ]
     },
     "execution_count": 69,
     "metadata": {},
     "output_type": "execute_result"
    }
   ],
   "source": [
    "t = tuple(a)\n",
    "print(t)\n",
    "type(t)"
   ]
  },
  {
   "cell_type": "code",
   "execution_count": 70,
   "id": "921802f1-538e-4093-a43a-e270be7639bf",
   "metadata": {},
   "outputs": [
    {
     "name": "stdout",
     "output_type": "stream",
     "text": [
      "{'H', 'l', 'n', 'y', 'E', 'v', 'r', ' ', 'e', 'o'}\n"
     ]
    },
    {
     "data": {
      "text/plain": [
       "set"
      ]
     },
     "execution_count": 70,
     "metadata": {},
     "output_type": "execute_result"
    }
   ],
   "source": [
    "s = set(a)\n",
    "print(s)\n",
    "type(s)"
   ]
  },
  {
   "cell_type": "code",
   "execution_count": 71,
   "id": "93fc958c-586e-451f-9dfc-0cff153c0b50",
   "metadata": {},
   "outputs": [
    {
     "ename": "ValueError",
     "evalue": "dictionary update sequence element #0 has length 1; 2 is required",
     "output_type": "error",
     "traceback": [
      "\u001b[1;31m---------------------------------------------------------------------------\u001b[0m",
      "\u001b[1;31mValueError\u001b[0m                                Traceback (most recent call last)",
      "Cell \u001b[1;32mIn[71], line 1\u001b[0m\n\u001b[1;32m----> 1\u001b[0m d \u001b[38;5;241m=\u001b[39m \u001b[38;5;28;43mdict\u001b[39;49m\u001b[43m(\u001b[49m\u001b[43ma\u001b[49m\u001b[43m)\u001b[49m\n\u001b[0;32m      2\u001b[0m \u001b[38;5;28mprint\u001b[39m(d)\n\u001b[0;32m      3\u001b[0m \u001b[38;5;28mtype\u001b[39m(d)\n",
      "\u001b[1;31mValueError\u001b[0m: dictionary update sequence element #0 has length 1; 2 is required"
     ]
    }
   ],
   "source": [
    "d = dict(a)\n",
    "print(d)\n",
    "type(d)"
   ]
  },
  {
   "cell_type": "code",
   "execution_count": 79,
   "id": "76f295fb-ca84-4015-9d27-2db2b11662dc",
   "metadata": {},
   "outputs": [
    {
     "data": {
      "text/plain": [
       "list"
      ]
     },
     "execution_count": 79,
     "metadata": {},
     "output_type": "execute_result"
    }
   ],
   "source": [
    "b = [('Name','Tarun'),('Age',30),('Course','AIML')]\n",
    "type(b)    "
   ]
  },
  {
   "cell_type": "code",
   "execution_count": 81,
   "id": "4122600c-52c6-4bbc-a0ce-75a2b66c2784",
   "metadata": {},
   "outputs": [
    {
     "name": "stdout",
     "output_type": "stream",
     "text": [
      "{'Name': 'Tarun', 'Age': 30, 'Course': 'AIML'}\n"
     ]
    },
    {
     "data": {
      "text/plain": [
       "dict"
      ]
     },
     "execution_count": 81,
     "metadata": {},
     "output_type": "execute_result"
    }
   ],
   "source": [
    "d = dict(b)\n",
    "print(d)\n",
    "type(d)"
   ]
  },
  {
   "cell_type": "markdown",
   "id": "71b84611-4876-4249-8402-9afe99d4b242",
   "metadata": {},
   "source": [
    "## Print function"
   ]
  },
  {
   "cell_type": "code",
   "execution_count": 84,
   "id": "4b0f4d3d-cfb3-499f-89c4-47eb4e793296",
   "metadata": {},
   "outputs": [
    {
     "name": "stdout",
     "output_type": "stream",
     "text": [
      "hello🍁🎀🎊\n"
     ]
    }
   ],
   "source": [
    "print(\"hello🍁🎀🎊\")"
   ]
  },
  {
   "cell_type": "code",
   "execution_count": 86,
   "id": "e667a3ac-09a1-401d-add9-d1a540dc856d",
   "metadata": {},
   "outputs": [
    {
     "data": {
      "text/plain": [
       "'cat😼dog🐶'"
      ]
     },
     "execution_count": 86,
     "metadata": {},
     "output_type": "execute_result"
    }
   ],
   "source": [
    "# '+' it is used to joint/concatinate the string\n",
    "'cat😼'+'dog🐶'"
   ]
  },
  {
   "cell_type": "code",
   "execution_count": 88,
   "id": "5937f7b0-a456-4c57-a1cf-77f30d1294a6",
   "metadata": {},
   "outputs": [
    {
     "data": {
      "text/plain": [
       "'🎂🎂🎂'"
      ]
     },
     "execution_count": 88,
     "metadata": {},
     "output_type": "execute_result"
    }
   ],
   "source": [
    "# '*' it is used to replicate /duplicate the string\n",
    "'🎂' * 3"
   ]
  },
  {
   "cell_type": "markdown",
   "id": "3c071bbd-ef7a-49f1-a1a1-1e338f13eda9",
   "metadata": {},
   "source": [
    "## Input Function"
   ]
  },
  {
   "cell_type": "code",
   "execution_count": 91,
   "id": "5a80d6c6-38bd-433f-9c61-927ec8d08503",
   "metadata": {},
   "outputs": [
    {
     "name": "stdout",
     "output_type": "stream",
     "text": [
      "Tarun Hii \n"
     ]
    },
    {
     "data": {
      "text/plain": [
       "'Hii '"
      ]
     },
     "execution_count": 91,
     "metadata": {},
     "output_type": "execute_result"
    }
   ],
   "source": [
    "input(\"Tarun\")"
   ]
  },
  {
   "cell_type": "code",
   "execution_count": 93,
   "id": "28cbed3f-2957-49b7-a194-e09b49de07f2",
   "metadata": {},
   "outputs": [
    {
     "name": "stdout",
     "output_type": "stream",
     "text": [
      "Enter your name :  TARUN\n"
     ]
    },
    {
     "data": {
      "text/plain": [
       "'TARUN'"
      ]
     },
     "execution_count": 93,
     "metadata": {},
     "output_type": "execute_result"
    }
   ],
   "source": [
    "input('Enter your name : ')"
   ]
  },
  {
   "cell_type": "code",
   "execution_count": 95,
   "id": "d6c85d1a-3376-414c-a10e-08a5dbe5c914",
   "metadata": {},
   "outputs": [
    {
     "name": "stdout",
     "output_type": "stream",
     "text": [
      "Enter your name :  Tarun\n"
     ]
    }
   ],
   "source": [
    "a = input('Enter your name : ')"
   ]
  },
  {
   "cell_type": "code",
   "execution_count": 97,
   "id": "f34f2fce-d5ea-4989-9f61-b30680f5e7ea",
   "metadata": {},
   "outputs": [
    {
     "data": {
      "text/plain": [
       "'Tarun'"
      ]
     },
     "execution_count": 97,
     "metadata": {},
     "output_type": "execute_result"
    }
   ],
   "source": [
    "a"
   ]
  },
  {
   "cell_type": "code",
   "execution_count": 101,
   "id": "5c05a63a-16c2-4104-ad76-473323170aaf",
   "metadata": {},
   "outputs": [
    {
     "name": "stdout",
     "output_type": "stream",
     "text": [
      "Enter your num :  20\n",
      "Enter your num :  40\n"
     ]
    },
    {
     "data": {
      "text/plain": [
       "'2040'"
      ]
     },
     "execution_count": 101,
     "metadata": {},
     "output_type": "execute_result"
    }
   ],
   "source": [
    "a = input('Enter your num : ') \n",
    "b = input('Enter your num : ') \n",
    "\n",
    "a+b"
   ]
  },
  {
   "cell_type": "code",
   "execution_count": 103,
   "id": "76d91db5-9dce-4b86-a9ce-133cc633d121",
   "metadata": {},
   "outputs": [
    {
     "name": "stdout",
     "output_type": "stream",
     "text": [
      "Enter your num :  20\n",
      "Enter your num :  40\n"
     ]
    },
    {
     "data": {
      "text/plain": [
       "60"
      ]
     },
     "execution_count": 103,
     "metadata": {},
     "output_type": "execute_result"
    }
   ],
   "source": [
    "a = int(input('Enter your num : '))\n",
    "b = int(input('Enter your num : '))\n",
    "\n",
    "a+b"
   ]
  },
  {
   "cell_type": "code",
   "execution_count": 107,
   "id": "8ea15368-8d9a-46fe-b6d7-f659025356f3",
   "metadata": {},
   "outputs": [
    {
     "name": "stdout",
     "output_type": "stream",
     "text": [
      "Enter your name :  10\n",
      "Enter your name :  20\n"
     ]
    },
    {
     "data": {
      "text/plain": [
       "200"
      ]
     },
     "execution_count": 107,
     "metadata": {},
     "output_type": "execute_result"
    }
   ],
   "source": [
    "a = int(input('Enter your name : '))\n",
    "b = int(input('Enter your name : '))\n",
    "\n",
    "a*b"
   ]
  },
  {
   "cell_type": "markdown",
   "id": "5a1cc69e-7904-4140-8e5d-5af9744e3643",
   "metadata": {},
   "source": [
    "## String formatting"
   ]
  },
  {
   "cell_type": "code",
   "execution_count": 109,
   "id": "625e42b1-14d0-435f-8326-c0734d5c2874",
   "metadata": {},
   "outputs": [
    {
     "name": "stdout",
     "output_type": "stream",
     "text": [
      "My name is  Ram and my age is  25\n"
     ]
    }
   ],
   "source": [
    "name = 'Ram'\n",
    "age = 25\n",
    "print(\"My name is \",name,\"and my age is \",age)"
   ]
  },
  {
   "cell_type": "code",
   "execution_count": 113,
   "id": "ff7ae34a-7270-45da-9731-f4c1b56239df",
   "metadata": {},
   "outputs": [
    {
     "name": "stdout",
     "output_type": "stream",
     "text": [
      "My name is Ram and my age is 25\n"
     ]
    }
   ],
   "source": [
    "print(f'My name is {name} and my age is {age}')"
   ]
  },
  {
   "cell_type": "code",
   "execution_count": 115,
   "id": "256cca69-1afe-4937-9a83-78a3733c9168",
   "metadata": {},
   "outputs": [
    {
     "name": "stdout",
     "output_type": "stream",
     "text": [
      "Name :  Tarun\n",
      "Age :  21\n"
     ]
    },
    {
     "name": "stdout",
     "output_type": "stream",
     "text": [
      "My name is Tarun and my age is 21\n"
     ]
    }
   ],
   "source": [
    "n = input('Name : ')\n",
    "a = int(input('Age : '))\n",
    "\n",
    "print(f'My name is {n} and my age is {a}')"
   ]
  },
  {
   "cell_type": "markdown",
   "id": "7b45ded2-dfdd-404a-8b67-779aa64096ca",
   "metadata": {},
   "source": [
    "## Conditional statement"
   ]
  },
  {
   "cell_type": "markdown",
   "id": "2cda33ee-e5d1-4adb-be3d-3a2cc5b9bb42",
   "metadata": {},
   "source": [
    "## Indentation : It is one of the most important feature in Python. It indicates the block of code"
   ]
  },
  {
   "cell_type": "code",
   "execution_count": 120,
   "id": "031dfd69-2da4-46a8-bb7f-52e0177e8cfa",
   "metadata": {},
   "outputs": [
    {
     "ename": "IndentationError",
     "evalue": "expected an indented block after 'if' statement on line 1 (1060957721.py, line 2)",
     "output_type": "error",
     "traceback": [
      "\u001b[1;36m  Cell \u001b[1;32mIn[120], line 2\u001b[1;36m\u001b[0m\n\u001b[1;33m    print(\"Greater\")\u001b[0m\n\u001b[1;37m    ^\u001b[0m\n\u001b[1;31mIndentationError\u001b[0m\u001b[1;31m:\u001b[0m expected an indented block after 'if' statement on line 1\n"
     ]
    }
   ],
   "source": [
    "if 10>5:\n",
    "print(\"Greater\")    "
   ]
  },
  {
   "cell_type": "code",
   "execution_count": 122,
   "id": "4dddd71f-7cd4-4ac3-b0e1-cf9016cd0a7c",
   "metadata": {},
   "outputs": [
    {
     "name": "stdout",
     "output_type": "stream",
     "text": [
      "Greater\n"
     ]
    }
   ],
   "source": [
    "if 10>5:\n",
    "    print(\"Greater\")"
   ]
  },
  {
   "cell_type": "markdown",
   "id": "93da2a5b-18ab-4aef-9079-6d5584291f35",
   "metadata": {},
   "source": [
    "## Conditional statement : it is used to the check the flow of control according to the given condition"
   ]
  },
  {
   "cell_type": "markdown",
   "id": "3c097b52-61a6-4dc0-a724-5b61c9032781",
   "metadata": {},
   "source": [
    "## > Simple / single if"
   ]
  },
  {
   "cell_type": "markdown",
   "id": "9d5ee0f6-0a65-4f6e-ace9-590cd16fc779",
   "metadata": {},
   "source": [
    "## syntax : if cond :\n",
    "            #statement\n",
    "# If condition is right then print otherwise exit the loop"
   ]
  },
  {
   "cell_type": "code",
   "execution_count": 130,
   "id": "cec93030-e7b6-40ec-ba25-4b5fcd3ddcc4",
   "metadata": {},
   "outputs": [
    {
     "name": "stdout",
     "output_type": "stream",
     "text": [
      "Enter a number :  5\n"
     ]
    }
   ],
   "source": [
    "n = int(input(\"Enter a number : \"))\n",
    "\n",
    "if n>10:\n",
    "    print(\"Greater\")"
   ]
  },
  {
   "cell_type": "code",
   "execution_count": 132,
   "id": "1400f55c-390b-4146-825e-ba114e0f32ff",
   "metadata": {},
   "outputs": [
    {
     "name": "stdout",
     "output_type": "stream",
     "text": [
      "Enter a number :  11\n"
     ]
    },
    {
     "name": "stdout",
     "output_type": "stream",
     "text": [
      "Greater\n"
     ]
    }
   ],
   "source": [
    "n = int(input(\"Enter a number : \"))\n",
    "\n",
    "if n>10:\n",
    "    print(\"Greater\")"
   ]
  },
  {
   "cell_type": "markdown",
   "id": "377518bb-faf9-4b66-92b8-0d9cd23afaf4",
   "metadata": {},
   "source": [
    "## if-else statement : if the cond is true, then the if block is execute.Otherwise, the else block is execute"
   ]
  },
  {
   "cell_type": "code",
   "execution_count": 136,
   "id": "ed483ba9-7f61-426f-8f9c-45544641a292",
   "metadata": {},
   "outputs": [
    {
     "name": "stdout",
     "output_type": "stream",
     "text": [
      "Enter a number :  5\n"
     ]
    },
    {
     "name": "stdout",
     "output_type": "stream",
     "text": [
      "Odd num\n"
     ]
    }
   ],
   "source": [
    "n = int(input(\"Enter a number : \"))\n",
    "\n",
    "if n % 2 == 0:\n",
    "    print(\"Even num\")\n",
    "else:\n",
    "    print(\"Odd num\")"
   ]
  },
  {
   "cell_type": "code",
   "execution_count": 138,
   "id": "da3d6462-e0f4-438f-ba0a-6930081cbb76",
   "metadata": {},
   "outputs": [
    {
     "name": "stdout",
     "output_type": "stream",
     "text": [
      "Enter a number :  18\n"
     ]
    },
    {
     "name": "stdout",
     "output_type": "stream",
     "text": [
      "Even num\n"
     ]
    }
   ],
   "source": [
    "n = int(input(\"Enter a number : \"))\n",
    "\n",
    "if n % 2 == 0:\n",
    "    print(\"Even num\")\n",
    "else:\n",
    "    print(\"Odd num\")"
   ]
  },
  {
   "cell_type": "code",
   "execution_count": 144,
   "id": "2d582831-9560-4f03-9d94-7a4d4471a87e",
   "metadata": {},
   "outputs": [
    {
     "name": "stdout",
     "output_type": "stream",
     "text": [
      "Enter you're age :  20\n"
     ]
    },
    {
     "name": "stdout",
     "output_type": "stream",
     "text": [
      "Yes you can vote\n"
     ]
    }
   ],
   "source": [
    "age = int(input(\"Enter you're age : \"))\n",
    "if age >= 18:\n",
    "    print(\"Yes you can vote\")\n",
    "else:\n",
    "    print(\"You're minor and you can't vote\")"
   ]
  },
  {
   "cell_type": "markdown",
   "id": "bdd85d0e-a477-4837-9c52-ca0f9b90843d",
   "metadata": {},
   "source": [
    "## Nested if : to check more than one condition at a time."
   ]
  },
  {
   "cell_type": "code",
   "execution_count": 151,
   "id": "e57ea55e-2662-4921-b801-ecba77111a1a",
   "metadata": {},
   "outputs": [
    {
     "name": "stdout",
     "output_type": "stream",
     "text": [
      "Enter a number :  -2\n"
     ]
    },
    {
     "name": "stdout",
     "output_type": "stream",
     "text": [
      "Even and negative\n"
     ]
    }
   ],
   "source": [
    "n = int(input(\"Enter a number : \"))\n",
    "\n",
    "if n%2 == 0:\n",
    "    if n>0:\n",
    "        print(\"Even and positive\")\n",
    "    else:\n",
    "        print(\"Even and negative\")\n",
    "else:\n",
    "    if n>0:\n",
    "        print(\"Odd and positive\")\n",
    "    else:\n",
    "        print(\"Odd and negative\")"
   ]
  },
  {
   "cell_type": "code",
   "execution_count": 157,
   "id": "6e63bfaf-a556-4a9c-8d5b-37d22fa81a30",
   "metadata": {},
   "outputs": [
    {
     "name": "stdout",
     "output_type": "stream",
     "text": [
      "Ghumne jaaun ya nhi (y/n) :  y\n",
      "Mausam acha he ya nhi (y/n) :  y\n",
      "Bike or car :  Bike\n"
     ]
    },
    {
     "name": "stdout",
     "output_type": "stream",
     "text": [
      "Zindagi Ek Safar Hai Suhana\n"
     ]
    }
   ],
   "source": [
    "a = input('Ghumne jaaun ya nhi (y/n) : ')\n",
    "\n",
    "if a == 'y':\n",
    "    b = input('Mausam acha he ya nhi (y/n) : ')\n",
    "    if b == 'y':\n",
    "        c = input('Bike or car : ')\n",
    "        if c == 'Bike':\n",
    "            print('Zindagi Ek Safar Hai Suhana')\n",
    "        else:\n",
    "            print('Main Nikla O gaddi Leke')\n",
    "    else:\n",
    "        print('Pakode kha ke NETFLIX Dekhunga')\n",
    "else:\n",
    "    print('Phir soo hi jata hu')"
   ]
  },
  {
   "cell_type": "markdown",
   "id": "3c19260e-f2e7-4fbd-9c6b-8abaecd53fb7",
   "metadata": {},
   "source": [
    "## if-elif-else "
   ]
  },
  {
   "cell_type": "code",
   "execution_count": 162,
   "id": "92719a4e-30ed-4069-9b2a-e21ccdf7eeff",
   "metadata": {},
   "outputs": [
    {
     "name": "stdout",
     "output_type": "stream",
     "text": [
      "Enter a number : 23\n"
     ]
    },
    {
     "name": "stdout",
     "output_type": "stream",
     "text": [
      "Positive\n"
     ]
    }
   ],
   "source": [
    "n = int(input('Enter a number :'))\n",
    "\n",
    "if n>0:\n",
    "    print('Positive')\n",
    "elif n<0:\n",
    "    print('Negative')\n",
    "else:\n",
    "    print('Not a number')\n",
    "              "
   ]
  },
  {
   "cell_type": "code",
   "execution_count": null,
   "id": "5f3ca28f-e679-4851-bd90-611c952377c1",
   "metadata": {},
   "outputs": [],
   "source": []
  }
 ],
 "metadata": {
  "kernelspec": {
   "display_name": "Python 3 (ipykernel)",
   "language": "python",
   "name": "python3"
  },
  "language_info": {
   "codemirror_mode": {
    "name": "ipython",
    "version": 3
   },
   "file_extension": ".py",
   "mimetype": "text/x-python",
   "name": "python",
   "nbconvert_exporter": "python",
   "pygments_lexer": "ipython3",
   "version": "3.12.7"
  }
 },
 "nbformat": 4,
 "nbformat_minor": 5
}
