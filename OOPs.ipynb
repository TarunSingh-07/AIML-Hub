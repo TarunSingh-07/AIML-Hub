{
 "cells": [
  {
   "cell_type": "markdown",
   "id": "7d78db60-6776-4f55-99fb-9f0b912a3b0f",
   "metadata": {},
   "source": [
    "OOPs - Object oriented programming is a way of computer programming using the idea of \"objects\" to represents data and methods.It is also an approach used for creating neat and reusable code instead of a redundant one."
   ]
  },
  {
   "cell_type": "markdown",
   "id": "b709c794-04d0-4e1a-976e-a6efdf396cad",
   "metadata": {},
   "source": [
    "Object : An object is any real world entity that has attributes and behaviours.\n"
   ]
  },
  {
   "cell_type": "markdown",
   "id": "5079c254-b8db-4569-895d-bba5c4607149",
   "metadata": {},
   "source": [
    "Class : Blueprint of the object"
   ]
  },
  {
   "cell_type": "code",
   "execution_count": 6,
   "id": "928aefb6-424d-4df6-b4d0-47ccfce66bf7",
   "metadata": {},
   "outputs": [
    {
     "data": {
      "text/plain": [
       "int"
      ]
     },
     "execution_count": 6,
     "metadata": {},
     "output_type": "execute_result"
    }
   ],
   "source": [
    "a = 10\n",
    "type(a)"
   ]
  },
  {
   "cell_type": "code",
   "execution_count": 8,
   "id": "f1ecd004-564c-49ad-8591-52aa81c1f0c8",
   "metadata": {},
   "outputs": [
    {
     "name": "stdout",
     "output_type": "stream",
     "text": [
      "<class 'int'>\n"
     ]
    }
   ],
   "source": [
    "print(type(a))"
   ]
  },
  {
   "cell_type": "code",
   "execution_count": 10,
   "id": "babc86ab-e56d-4398-8d85-543ba57630bb",
   "metadata": {},
   "outputs": [
    {
     "name": "stdout",
     "output_type": "stream",
     "text": [
      "<class 'list'>\n"
     ]
    }
   ],
   "source": [
    "l = [1,2,3,4,5]\n",
    "print(type(l))"
   ]
  },
  {
   "cell_type": "code",
   "execution_count": 12,
   "id": "31135cdc-f4c8-4d0f-a2ab-01f28d7a2e52",
   "metadata": {},
   "outputs": [],
   "source": [
    "#Variable without class\n",
    "a = 'Apple'"
   ]
  },
  {
   "cell_type": "code",
   "execution_count": 14,
   "id": "d3e2191e-ce95-4da0-bdf4-9b000ec4e76a",
   "metadata": {},
   "outputs": [
    {
     "data": {
      "text/plain": [
       "'Apple'"
      ]
     },
     "execution_count": 14,
     "metadata": {},
     "output_type": "execute_result"
    }
   ],
   "source": [
    "a"
   ]
  },
  {
   "cell_type": "code",
   "execution_count": 16,
   "id": "ecabc89a-3d9a-478c-81d2-a0a293173898",
   "metadata": {},
   "outputs": [],
   "source": [
    "#Variable with class\n",
    "class abc:\n",
    "    var = 'Mango'  #class attributes"
   ]
  },
  {
   "cell_type": "code",
   "execution_count": 18,
   "id": "64efac0c-d525-4438-89f2-f5390e3c320b",
   "metadata": {},
   "outputs": [
    {
     "ename": "NameError",
     "evalue": "name 'var' is not defined",
     "output_type": "error",
     "traceback": [
      "\u001b[1;31m---------------------------------------------------------------------------\u001b[0m",
      "\u001b[1;31mNameError\u001b[0m                                 Traceback (most recent call last)",
      "Cell \u001b[1;32mIn[18], line 1\u001b[0m\n\u001b[1;32m----> 1\u001b[0m \u001b[43mvar\u001b[49m\n",
      "\u001b[1;31mNameError\u001b[0m: name 'var' is not defined"
     ]
    }
   ],
   "source": [
    "var"
   ]
  },
  {
   "cell_type": "code",
   "execution_count": 20,
   "id": "39645eb0-2939-4187-892b-b4f47a148754",
   "metadata": {},
   "outputs": [],
   "source": [
    "obj = abc()"
   ]
  },
  {
   "cell_type": "code",
   "execution_count": 22,
   "id": "1ff30777-d3e6-49f9-8179-71e3c42fa1ab",
   "metadata": {},
   "outputs": [
    {
     "data": {
      "text/plain": [
       "'Mango'"
      ]
     },
     "execution_count": 22,
     "metadata": {},
     "output_type": "execute_result"
    }
   ],
   "source": [
    "obj.var"
   ]
  },
  {
   "cell_type": "code",
   "execution_count": 24,
   "id": "c2c7105b-ed0a-4192-b86e-7f07a0dfb0a5",
   "metadata": {},
   "outputs": [
    {
     "name": "stdout",
     "output_type": "stream",
     "text": [
      "<__main__.abc object at 0x0000014F223E39E0>\n"
     ]
    }
   ],
   "source": [
    "print(obj)"
   ]
  },
  {
   "cell_type": "code",
   "execution_count": 26,
   "id": "049b46bc-6344-46a0-a41f-f8ae9697c422",
   "metadata": {},
   "outputs": [],
   "source": [
    "class Mobile:\n",
    "    color = 'blue'\n",
    "    storage = '512GB'\n",
    "    camera = '60mp'"
   ]
  },
  {
   "cell_type": "code",
   "execution_count": 28,
   "id": "64cf6e40-a31d-4a92-81d3-424c73a8df1f",
   "metadata": {},
   "outputs": [],
   "source": [
    "obj = Mobile()"
   ]
  },
  {
   "cell_type": "code",
   "execution_count": 30,
   "id": "09615352-bcc1-4bd7-b3fc-858c184b08b1",
   "metadata": {},
   "outputs": [
    {
     "data": {
      "text/plain": [
       "'blue'"
      ]
     },
     "execution_count": 30,
     "metadata": {},
     "output_type": "execute_result"
    }
   ],
   "source": [
    "obj.color"
   ]
  },
  {
   "cell_type": "code",
   "execution_count": 32,
   "id": "43a07899-8038-4fe7-b948-da0b6486c469",
   "metadata": {},
   "outputs": [
    {
     "data": {
      "text/plain": [
       "'512GB'"
      ]
     },
     "execution_count": 32,
     "metadata": {},
     "output_type": "execute_result"
    }
   ],
   "source": [
    "obj.storage"
   ]
  },
  {
   "cell_type": "code",
   "execution_count": 36,
   "id": "9c2e82e0-1c0c-47ab-a65c-2254679616c0",
   "metadata": {},
   "outputs": [],
   "source": [
    "oppo = Mobile()"
   ]
  },
  {
   "cell_type": "code",
   "execution_count": 38,
   "id": "885fad37-7607-444c-99c7-929270bd2201",
   "metadata": {},
   "outputs": [],
   "source": [
    "oppo.color = 'Gold'\n",
    "oppo.camera = '70mp'"
   ]
  },
  {
   "cell_type": "code",
   "execution_count": 44,
   "id": "a8f1692c-abbf-4c84-b017-80c440040f63",
   "metadata": {},
   "outputs": [
    {
     "data": {
      "text/plain": [
       "'Gold'"
      ]
     },
     "execution_count": 44,
     "metadata": {},
     "output_type": "execute_result"
    }
   ],
   "source": [
    "oppo.color"
   ]
  },
  {
   "cell_type": "code",
   "execution_count": 46,
   "id": "255fab5b-976b-4c58-8770-0c97d53d16b1",
   "metadata": {},
   "outputs": [
    {
     "data": {
      "text/plain": [
       "'70mp'"
      ]
     },
     "execution_count": 46,
     "metadata": {},
     "output_type": "execute_result"
    }
   ],
   "source": [
    "oppo.camera"
   ]
  },
  {
   "cell_type": "code",
   "execution_count": 48,
   "id": "d6bcb21a-3020-41a5-b111-bc79784030d5",
   "metadata": {},
   "outputs": [
    {
     "data": {
      "text/plain": [
       "'512GB'"
      ]
     },
     "execution_count": 48,
     "metadata": {},
     "output_type": "execute_result"
    }
   ],
   "source": [
    "oppo.storage"
   ]
  },
  {
   "cell_type": "code",
   "execution_count": 50,
   "id": "12511821-1b81-4bf1-a521-65b421047e75",
   "metadata": {},
   "outputs": [],
   "source": [
    "oppo.processor = 'snapdragon'"
   ]
  },
  {
   "cell_type": "code",
   "execution_count": 52,
   "id": "f257f969-7ad9-42ad-a67b-a5e42bbec7c5",
   "metadata": {},
   "outputs": [
    {
     "data": {
      "text/plain": [
       "'snapdragon'"
      ]
     },
     "execution_count": 52,
     "metadata": {},
     "output_type": "execute_result"
    }
   ],
   "source": [
    "oppo.processor"
   ]
  },
  {
   "cell_type": "code",
   "execution_count": 54,
   "id": "1d8b6904-90bb-4e68-bcc4-72106a9a6a6f",
   "metadata": {},
   "outputs": [
    {
     "name": "stdout",
     "output_type": "stream",
     "text": [
      "<__main__.Mobile object at 0x0000014F223E3800>\n"
     ]
    }
   ],
   "source": [
    "print(oppo)"
   ]
  },
  {
   "cell_type": "code",
   "execution_count": 58,
   "id": "2214e12a-ddc9-44be-8444-21b12cdb0ba9",
   "metadata": {},
   "outputs": [],
   "source": [
    "realme = Mobile()"
   ]
  },
  {
   "cell_type": "code",
   "execution_count": 60,
   "id": "a6b3f294-c069-4f89-9fa3-dae6774b11ad",
   "metadata": {},
   "outputs": [
    {
     "name": "stdout",
     "output_type": "stream",
     "text": [
      "<__main__.Mobile object at 0x0000014F22480CE0>\n"
     ]
    }
   ],
   "source": [
    "print(realme)"
   ]
  },
  {
   "cell_type": "code",
   "execution_count": 62,
   "id": "0e593323-164f-4bae-97cd-09696ff2ea6b",
   "metadata": {},
   "outputs": [],
   "source": [
    "realme.camera = '80mp'\n",
    "realme.storage = '1TB'"
   ]
  },
  {
   "cell_type": "code",
   "execution_count": 64,
   "id": "6ce57ac9-94e7-49a6-bf4f-70513d43610d",
   "metadata": {},
   "outputs": [],
   "source": [
    "class DogBreed:\n",
    "    var1 = 'Husky'\n",
    "    var2 = 'German Shepherd'\n",
    "    def favbreed():\n",
    "        print(var1,\"It is my favourite dog breed\")"
   ]
  },
  {
   "cell_type": "code",
   "execution_count": 66,
   "id": "fd2f8b6e-cfff-494f-8674-8976468329f6",
   "metadata": {},
   "outputs": [
    {
     "name": "stdout",
     "output_type": "stream",
     "text": [
      "<__main__.DogBreed object at 0x0000014F22483830>\n"
     ]
    }
   ],
   "source": [
    "obj = DogBreed()\n",
    "print(obj)"
   ]
  },
  {
   "cell_type": "code",
   "execution_count": 68,
   "id": "01f7f245-9e96-4258-8fd2-086b8b305aa2",
   "metadata": {},
   "outputs": [],
   "source": [
    "obj = DogBreed()"
   ]
  },
  {
   "cell_type": "code",
   "execution_count": 70,
   "id": "628f09eb-eacd-4dd5-9ad5-ec934234aeeb",
   "metadata": {},
   "outputs": [
    {
     "data": {
      "text/plain": [
       "'Husky'"
      ]
     },
     "execution_count": 70,
     "metadata": {},
     "output_type": "execute_result"
    }
   ],
   "source": [
    "obj.var1"
   ]
  },
  {
   "cell_type": "code",
   "execution_count": 72,
   "id": "4a1a14fb-f21f-457c-9efa-073a19f1af6e",
   "metadata": {},
   "outputs": [
    {
     "ename": "TypeError",
     "evalue": "DogBreed.favbreed() takes 0 positional arguments but 1 was given",
     "output_type": "error",
     "traceback": [
      "\u001b[1;31m---------------------------------------------------------------------------\u001b[0m",
      "\u001b[1;31mTypeError\u001b[0m                                 Traceback (most recent call last)",
      "Cell \u001b[1;32mIn[72], line 1\u001b[0m\n\u001b[1;32m----> 1\u001b[0m \u001b[43mobj\u001b[49m\u001b[38;5;241;43m.\u001b[39;49m\u001b[43mfavbreed\u001b[49m\u001b[43m(\u001b[49m\u001b[43m)\u001b[49m\n",
      "\u001b[1;31mTypeError\u001b[0m: DogBreed.favbreed() takes 0 positional arguments but 1 was given"
     ]
    }
   ],
   "source": [
    "obj.favbreed()"
   ]
  },
  {
   "cell_type": "code",
   "execution_count": 76,
   "id": "173398a2-6f71-4636-9d00-ae2a8feba4fb",
   "metadata": {},
   "outputs": [],
   "source": [
    "class DogBreed:\n",
    "    var1 = 'Husky'\n",
    "    var2 = 'German Shepherd'\n",
    "    def favbreed(abc):\n",
    "        print(abc.var1,\"It is my favourite dog breed\")"
   ]
  },
  {
   "cell_type": "code",
   "execution_count": 84,
   "id": "1c5bbdda-06f1-45c0-b020-a8d69ee80ebf",
   "metadata": {},
   "outputs": [],
   "source": [
    "obj = DogBreed()"
   ]
  },
  {
   "cell_type": "code",
   "execution_count": 86,
   "id": "1a2f9532-550d-4bf4-a865-0b6dcb03cb26",
   "metadata": {},
   "outputs": [
    {
     "name": "stdout",
     "output_type": "stream",
     "text": [
      "Husky It is my favourite dog breed\n"
     ]
    }
   ],
   "source": [
    "obj.favbreed()"
   ]
  },
  {
   "cell_type": "code",
   "execution_count": 88,
   "id": "b5de58cc-aec0-40c7-a7cd-f92ada498cbf",
   "metadata": {},
   "outputs": [],
   "source": [
    "class Apple:\n",
    "    taste = 'Sweet'\n",
    "    color = 'Red'\n",
    "    weight = 100\n",
    "    def Price(self,qty):\n",
    "        return self.weight*qty"
   ]
  },
  {
   "cell_type": "code",
   "execution_count": 90,
   "id": "eda75c2d-3459-4be9-810d-0726d107f0d6",
   "metadata": {},
   "outputs": [],
   "source": [
    "obj = Apple()"
   ]
  },
  {
   "cell_type": "code",
   "execution_count": 94,
   "id": "d5654d90-fff6-4a45-9d83-f4ddf849e096",
   "metadata": {},
   "outputs": [
    {
     "data": {
      "text/plain": [
       "500"
      ]
     },
     "execution_count": 94,
     "metadata": {},
     "output_type": "execute_result"
    }
   ],
   "source": [
    "obj.Price(5)"
   ]
  },
  {
   "cell_type": "code",
   "execution_count": null,
   "id": "df098568-2d76-4126-b41e-67a21942ca17",
   "metadata": {},
   "outputs": [],
   "source": []
  }
 ],
 "metadata": {
  "kernelspec": {
   "display_name": "Python 3 (ipykernel)",
   "language": "python",
   "name": "python3"
  },
  "language_info": {
   "codemirror_mode": {
    "name": "ipython",
    "version": 3
   },
   "file_extension": ".py",
   "mimetype": "text/x-python",
   "name": "python",
   "nbconvert_exporter": "python",
   "pygments_lexer": "ipython3",
   "version": "3.12.7"
  }
 },
 "nbformat": 4,
 "nbformat_minor": 5
}
